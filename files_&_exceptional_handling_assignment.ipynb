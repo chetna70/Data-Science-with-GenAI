{
  "nbformat": 4,
  "nbformat_minor": 0,
  "metadata": {
    "colab": {
      "provenance": []
    },
    "kernelspec": {
      "name": "python3",
      "display_name": "Python 3"
    },
    "language_info": {
      "name": "python"
    }
  },
  "cells": [
    {
      "cell_type": "markdown",
      "source": [
        "# **Files, exceptional handling, logging and memory management Questions**"
      ],
      "metadata": {
        "id": "zQYemSPAemLQ"
      }
    },
    {
      "cell_type": "code",
      "source": [
        "#1 What is the difference between interpreted and compiled languages\n",
        "\n",
        "# A compiled language changes the whole program into machine code before it runs......... interpreted language runs the program line by line."
      ],
      "metadata": {
        "id": "bLb5bve8eqKt"
      },
      "execution_count": 1,
      "outputs": []
    },
    {
      "cell_type": "code",
      "source": [
        "#2 What is exception handling in Python\n",
        "\n",
        "# Exception handling in Python means catching errors using try and except so the program will not be stopping or end"
      ],
      "metadata": {
        "id": "dHdDV30Pe5-F"
      },
      "execution_count": 2,
      "outputs": []
    },
    {
      "cell_type": "code",
      "source": [
        "#3 What is the purpose of the finally block in exception handling\n",
        "\n",
        "# Finally block is used to run code that should always happen if there is an error then also"
      ],
      "metadata": {
        "id": "rbOS-rOUfWRO"
      },
      "execution_count": 3,
      "outputs": []
    },
    {
      "cell_type": "code",
      "source": [
        "#4 What is logging in Python\n",
        "\n",
        "# Logging in Python is a way of writing messag to help in tracking what program is doing to find and fix bug"
      ],
      "metadata": {
        "id": "2zysXebBft-7"
      },
      "execution_count": 4,
      "outputs": []
    },
    {
      "cell_type": "code",
      "source": [
        "#5 What is the significance of the __del__ method in Python\n",
        "\n",
        "# The del method in Python is used when object is deleted to clean up or free resources\n"
      ],
      "metadata": {
        "id": "dFyE4XzSgKbx"
      },
      "execution_count": 6,
      "outputs": []
    },
    {
      "cell_type": "code",
      "source": [
        "#6 What is the difference between import and from ... import in Python\n",
        "\n",
        "# import takes whole module.....call with module.name.\n",
        "# from ... import take only some things............ call direct name."
      ],
      "metadata": {
        "id": "I8mqxf_aghSL"
      },
      "execution_count": 7,
      "outputs": []
    },
    {
      "cell_type": "code",
      "source": [
        "#7 How can you handle multiple exceptions in Python\n",
        "\n",
        "# catch many error same time..... using except (error1, error2) or catch one error one except.."
      ],
      "metadata": {
        "id": "QE_mA2bvg1Y2"
      },
      "execution_count": 9,
      "outputs": []
    },
    {
      "cell_type": "code",
      "source": [
        "#8 What is the purpose of the with statement when handling files in Python\n",
        "\n",
        "# with make sure that the file is closed after using it so we don’t have to close it ousrself."
      ],
      "metadata": {
        "id": "CDa1FQ8shP2H"
      },
      "execution_count": 13,
      "outputs": []
    },
    {
      "cell_type": "code",
      "source": [
        "#9 What is the difference between multithreading and multiprocessing\n",
        "\n",
        "# Multithreading means running many threads inside the one same program sharing memory it is good for tasks waiting for inputs\n",
        "\n",
        "# Multiprocessing  meaning running many separate programs (called processes) with their own memory it is good for heavy tasks using many CPUss"
      ],
      "metadata": {
        "id": "ynrprUpWhrEs"
      },
      "execution_count": 14,
      "outputs": []
    },
    {
      "cell_type": "code",
      "source": [
        "#10  What are the advantages of using logging in a program\n",
        "\n",
        "# Logging helps to see what the pogram is doing and findming mistakes it also keeps history of what the program did which can bee used for debugging later."
      ],
      "metadata": {
        "id": "j7cSHG_KiKbZ"
      },
      "execution_count": 15,
      "outputs": []
    },
    {
      "cell_type": "code",
      "source": [
        "#11 What is memory management in Python\n",
        "# Memory management in Python means how python is handling using and freeing  up of memory to store data during when a program runs"
      ],
      "metadata": {
        "id": "wBseTHI1isYv"
      },
      "execution_count": 17,
      "outputs": []
    },
    {
      "cell_type": "code",
      "source": [
        "#12 What are the basic steps involved in exception handling in Python\n",
        "\n",
        "# Try do code that can cause problem.\n",
        "# Except catch error and fix or it shows message\n",
        "# Finally run code doesnt matter what happens"
      ],
      "metadata": {
        "id": "b1Kjit8tjF5p"
      },
      "execution_count": 18,
      "outputs": []
    },
    {
      "cell_type": "code",
      "source": [
        "#13 Why is memory management important in Python\n",
        "\n",
        "# Memory management is important in Python because it helps the program to use computer memory with full efficiency and prevent slowdown or crash by cleaning up unused data.."
      ],
      "metadata": {
        "id": "-RmPY_MPjnik"
      },
      "execution_count": 19,
      "outputs": []
    },
    {
      "cell_type": "code",
      "source": [
        "#14 What is the role of try and except in exception handling\n",
        "\n",
        "# The role of try is to run code that can cause an error and except is to catch and handle that error so the program doesnyt crash"
      ],
      "metadata": {
        "id": "E2NUsZ4Cj761"
      },
      "execution_count": 20,
      "outputs": []
    },
    {
      "cell_type": "code",
      "source": [
        "#15 How does Python's garbage collection system work\n",
        "\n",
        "# Python counts how many use object if no one using it removes object and frees memory it also cleans up stuck objects with garbage collector."
      ],
      "metadata": {
        "id": "Al-vfQHykPKh"
      },
      "execution_count": 21,
      "outputs": []
    },
    {
      "cell_type": "code",
      "source": [
        "#16 What is the purpose of the else block in exception handling\n",
        "\n",
        "# else block in exception handling runs code only if there no exception takes place in the try block"
      ],
      "metadata": {
        "id": "2f4F504vkx_i"
      },
      "execution_count": 1,
      "outputs": []
    },
    {
      "cell_type": "code",
      "source": [
        "#17 What are the common logging levels in Python\n",
        "\n",
        "# DEBUG...detailed info for diagnosing problems\n",
        "# INFO- normal msg\n",
        "# WARNING- something unexpected but program still work\n",
        "# ERROR-serious problem that will stop part of the program\n",
        "# CRITICAL-very serious error it can stop whole program"
      ],
      "metadata": {
        "id": "ks2qgn-Dlalj"
      },
      "execution_count": 2,
      "outputs": []
    },
    {
      "cell_type": "code",
      "source": [
        "#18 What is the difference between os.fork() and multiprocessing in Python\n",
        "\n",
        "# os.fork() makes a new process by copying the current one while multiprocessing creates new processes in a easier cross-platform way"
      ],
      "metadata": {
        "id": "HweaCEusv_BM"
      },
      "execution_count": 3,
      "outputs": []
    },
    {
      "cell_type": "code",
      "source": [
        "# 19 What is the importance of closing a file in Python\n",
        "\n",
        "# closing a file in Python is important because it saves changes it frees up resources and it prevents loss of data or errors with files."
      ],
      "metadata": {
        "id": "oHIQ1A13wVwt"
      },
      "execution_count": 4,
      "outputs": []
    },
    {
      "cell_type": "code",
      "source": [
        "# 20 What is the difference between file.read() and file.readline() in Python\n",
        "\n",
        "# file.read() reads the complete file at once on other hand file.readline() reads one line from the file at a time"
      ],
      "metadata": {
        "id": "vJFwuHMYxVWn"
      },
      "execution_count": 5,
      "outputs": []
    },
    {
      "cell_type": "code",
      "source": [
        "# 21 What is the logging module in Python used for\n",
        "\n",
        "# logging module is used to record messages from program eg errors, warnings, info to help in debuggong and keeping track of what the program is doing"
      ],
      "metadata": {
        "id": "tWRF3I2axidh"
      },
      "execution_count": 6,
      "outputs": []
    },
    {
      "cell_type": "code",
      "source": [
        "#22 What is the os module in Python used for in file handling\n",
        "\n",
        "# os module is used in file handling to work with files, folders like creating deleting renaming and checking if file exist amd get file paths."
      ],
      "metadata": {
        "id": "sYPL7MSDx_2G"
      },
      "execution_count": 7,
      "outputs": []
    },
    {
      "cell_type": "code",
      "source": [
        "# 23 What are the challenges associated with memory management in Python\n",
        "\n",
        "# memory management can be slow sometimes because it cleans up old data which is garbage collection... If program keeps old data then memory can fill up (memory leak).\n",
        "# also big data use a lot of memory and can make the program slow"
      ],
      "metadata": {
        "id": "Sx0ceZOjyTgY"
      },
      "execution_count": 8,
      "outputs": []
    },
    {
      "cell_type": "code",
      "source": [
        "# 24  How do you raise an exception manually in Python\n",
        "\n",
        "# we can raise exception manually using the \"raise\" keyword\n",
        "\n",
        "# eg:\n",
        "# raise ValueError(\"This is showing error message\")\n",
        "\n",
        "# it will stop the program and show the error raised"
      ],
      "metadata": {
        "id": "fZTAlbS2y7ZK"
      },
      "execution_count": 9,
      "outputs": []
    },
    {
      "cell_type": "code",
      "source": [
        "# 25 Why is it important to use multithreading in certain applications?\n",
        "\n",
        "# multithreading is important because it lets a program do many things at the same time making it faster and\n",
        "# more efficiently work when waiting for slower tasks like read files load data and like talking to internet."
      ],
      "metadata": {
        "id": "V5TilyZ7zda5"
      },
      "execution_count": 10,
      "outputs": []
    },
    {
      "cell_type": "markdown",
      "source": [
        "# **Practical Questions**"
      ],
      "metadata": {
        "id": "UIjQWGix0KoX"
      }
    },
    {
      "cell_type": "code",
      "source": [
        "# 1 How can you open a file for writing in Python and write a string to it\n",
        "\n",
        "file = open('myfile.txt', 'w')\n",
        "\n",
        "file.write('hey pwskills')\n",
        "file.write('writing more')"
      ],
      "metadata": {
        "colab": {
          "base_uri": "https://localhost:8080/"
        },
        "id": "gI1Vfs230Mvx",
        "outputId": "f9deaedb-86bb-4adf-ed67-3e57a85f1ed4"
      },
      "execution_count": 26,
      "outputs": [
        {
          "output_type": "execute_result",
          "data": {
            "text/plain": [
              "12"
            ]
          },
          "metadata": {},
          "execution_count": 26
        }
      ]
    },
    {
      "cell_type": "code",
      "source": [
        "#2 Write a Python program to read the contents of a file and print each line\n",
        "with open('myfile.txt', 'r') as file:\n",
        "    for line in file:\n",
        "        print(line, end='')"
      ],
      "metadata": {
        "colab": {
          "base_uri": "https://localhost:8080/"
        },
        "id": "NiRFzPqN0i36",
        "outputId": "a2b88140-c606-4b20-f3b4-0bfdeadcb0da"
      },
      "execution_count": 28,
      "outputs": [
        {
          "output_type": "stream",
          "name": "stdout",
          "text": [
            "hey pwskillswriting more"
          ]
        }
      ]
    },
    {
      "cell_type": "code",
      "source": [
        "#3 How would you handle a case where the file doesn't exist while trying to open it for reading?\n",
        "try:\n",
        "    with open('yourfile.txt', 'r') as file:\n",
        "        for line in file:\n",
        "            print(line, end='')\n",
        "except FileNotFoundError:\n",
        "    print(\"file does not exist.\")"
      ],
      "metadata": {
        "colab": {
          "base_uri": "https://localhost:8080/"
        },
        "id": "l2mJZ7FI43Xf",
        "outputId": "72f0a28c-c599-433d-fb01-7e578c08640d"
      },
      "execution_count": 25,
      "outputs": [
        {
          "output_type": "stream",
          "name": "stdout",
          "text": [
            "file does not exist.\n"
          ]
        }
      ]
    },
    {
      "cell_type": "code",
      "source": [
        "#4 Write a Python script that reads from one file and writes its content to another file\n",
        "\n",
        "try:\n",
        "    with open('myfile.txt', 'r') as source_file:\n",
        "        content = source_file.read()\n",
        "\n",
        "    with open('copy_myfile.txt', 'w') as destination_file:\n",
        "        destination_file.write(content)\n",
        "\n",
        "    print(\"File copied successfully.\")\n",
        "except FileNotFoundError:\n",
        "    print(\"myfile.txt not found.\")"
      ],
      "metadata": {
        "colab": {
          "base_uri": "https://localhost:8080/"
        },
        "id": "EemhSvWm58-k",
        "outputId": "25324f1c-562d-458e-f330-500446857dcf"
      },
      "execution_count": 1,
      "outputs": [
        {
          "output_type": "stream",
          "name": "stdout",
          "text": [
            "myfile.txt not found.\n"
          ]
        }
      ]
    },
    {
      "cell_type": "code",
      "source": [
        "#5 F How would you catch and handle division by zero error in Python\n",
        "try:\n",
        "    result = 10 / 0\n",
        "except ZeroDivisionError:\n",
        "    print(\"not able to divide by 0\")"
      ],
      "metadata": {
        "colab": {
          "base_uri": "https://localhost:8080/"
        },
        "id": "B4mhssPGOI7N",
        "outputId": "1f1f5dde-27e6-41ee-b439-7f23a3ab3a0c"
      },
      "execution_count": 4,
      "outputs": [
        {
          "output_type": "stream",
          "name": "stdout",
          "text": [
            "not able to divide by 0\n"
          ]
        }
      ]
    },
    {
      "cell_type": "code",
      "source": [
        "#6 Write a Python program that logs an error message to a log file when a division by zero exception occurs\n",
        "\n",
        "import logging\n",
        "\n",
        "logging.basicConfig(filename='myfile.txt', level=logging.ERROR)\n",
        "\n",
        "try:\n",
        "    result = 10 / 0\n",
        "except ZeroDivisionError as errorfind:\n",
        "    logging.error(\"Division by zero error occurred: %s\", errorfind)\n",
        "    print(\"An error occurred check myfile.txt for details\")"
      ],
      "metadata": {
        "colab": {
          "base_uri": "https://localhost:8080/"
        },
        "id": "KvFgK_znOd0K",
        "outputId": "53698489-fb17-4c6e-e061-424aadff417d"
      },
      "execution_count": 5,
      "outputs": [
        {
          "output_type": "stream",
          "name": "stderr",
          "text": [
            "ERROR:root:Division by zero error occurred: division by zero\n"
          ]
        },
        {
          "output_type": "stream",
          "name": "stdout",
          "text": [
            "An error occurred check myfile.txt for details\n"
          ]
        }
      ]
    },
    {
      "cell_type": "code",
      "source": [
        "#7 How do you log information at different levels (INFO, ERROR, WARNING) in Python using the logging module\n",
        "\n",
        "import logging\n",
        "logging.basicConfig(filename='myfile.txt', level=logging.DEBUG)\n",
        "\n",
        "logging.debug(\"This is a DEBUG message\")\n",
        "logging.info(\"This is a INFO message\")\n",
        "logging.warning(\"This is a WARNING message\")\n",
        "logging.error(\"This is a ERROR message\")\n",
        "logging.critical(\"This is a CRITICAL message\")\n",
        "\n",
        "print(\"logs written to myfile.txt\")"
      ],
      "metadata": {
        "colab": {
          "base_uri": "https://localhost:8080/"
        },
        "id": "-GC77HR7O4kY",
        "outputId": "3197a04b-9460-428d-974a-4344c7e55ca9"
      },
      "execution_count": 6,
      "outputs": [
        {
          "output_type": "stream",
          "name": "stderr",
          "text": [
            "WARNING:root:This is a WARNING message\n",
            "ERROR:root:This is a ERROR message\n",
            "CRITICAL:root:This is a CRITICAL message\n"
          ]
        },
        {
          "output_type": "stream",
          "name": "stdout",
          "text": [
            "logs written to myfile.txt\n"
          ]
        }
      ]
    },
    {
      "cell_type": "code",
      "source": [
        "#8 Write a program to handle a file opening error using exception handling\n",
        "\n",
        "try:\n",
        "    file = open('myfile.txt', 'r')\n",
        "    content = file.read()\n",
        "    print(content)\n",
        "    file.close()\n",
        "except FileNotFoundError:\n",
        "    print(\"error: the file was not found.\")"
      ],
      "metadata": {
        "colab": {
          "base_uri": "https://localhost:8080/"
        },
        "id": "a9qTx_TJPT0P",
        "outputId": "5b62319b-07fd-46d2-b088-dfd85d11b24b"
      },
      "execution_count": 7,
      "outputs": [
        {
          "output_type": "stream",
          "name": "stdout",
          "text": [
            "error: the file was not found.\n"
          ]
        }
      ]
    },
    {
      "cell_type": "code",
      "source": [
        "#9 how can you read a file line by line and store its content in a list in Python\n",
        "\n",
        "with open('myfile.txt', 'w') as file:\n",
        "    file.write(\"line one\\n\")\n",
        "    file.write(\"line two\\n\")\n",
        "    file.write(\"line three\")\n",
        "\n",
        "with open('myfile.txt', 'r') as file:\n",
        "    lines = file.readlines()\n",
        "\n",
        "print(lines)"
      ],
      "metadata": {
        "colab": {
          "base_uri": "https://localhost:8080/"
        },
        "id": "5R-yM9XSPh6W",
        "outputId": "8f31df68-e9f5-488c-cce5-a8ba8699a38b"
      },
      "execution_count": 12,
      "outputs": [
        {
          "output_type": "stream",
          "name": "stdout",
          "text": [
            "['line one\\n', 'line two\\n', 'line three']\n"
          ]
        }
      ]
    },
    {
      "cell_type": "code",
      "source": [
        "#10 How can you append data to an existing file in Python\n",
        "\n",
        "with open('myfile.txt', 'a') as file:\n",
        "    file.write(\"This is new data added\\n\")\n",
        "\n",
        "with open('myfile.txt', 'r') as file:\n",
        "    content = file.read()\n",
        "print(content)"
      ],
      "metadata": {
        "colab": {
          "base_uri": "https://localhost:8080/"
        },
        "id": "WdsKBBRePxS0",
        "outputId": "ec3cbc4b-2b69-445c-b9d0-3b4957da3e4a"
      },
      "execution_count": 19,
      "outputs": [
        {
          "output_type": "stream",
          "name": "stdout",
          "text": [
            "line one\n",
            "line two\n",
            "line threeThis is new data added.\n",
            "This is new data added.\n",
            "This is new data added\n",
            "This is new data added\n",
            "This is new data added.\n",
            "This is new data added.\n",
            "This is new data added\n",
            "\n"
          ]
        }
      ]
    },
    {
      "cell_type": "code",
      "source": [
        "#11 Write a Python program that uses a try-except block to handle an error when attempting to access a dictionary key that doesn't exist\n",
        "\n",
        "my_dict = {'name': 'srk', 'age': 56}\n",
        "\n",
        "try:\n",
        "    print(my_dict['address'])\n",
        "except KeyError:\n",
        "    print(\"Error: the key 'address' is not existing in the dictionary\")"
      ],
      "metadata": {
        "colab": {
          "base_uri": "https://localhost:8080/"
        },
        "id": "OScwWMRwQote",
        "outputId": "ce2dc7fb-e942-48f5-abb6-653807747973"
      },
      "execution_count": 22,
      "outputs": [
        {
          "output_type": "stream",
          "name": "stdout",
          "text": [
            "Error: the key 'address' is not existing in the dictionary\n"
          ]
        }
      ]
    },
    {
      "cell_type": "code",
      "source": [
        "#12 Write a program that demonstrates using multiple except blocks to handle different types of exceptions\n",
        "\n",
        "try:\n",
        "    x = int(input(\"enter a number: \"))\n",
        "    y = 10 / x\n",
        "    my_list = [1, 2, 3]\n",
        "    print(my_list[x])\n",
        "except ZeroDivisionError:\n",
        "    print(\"error:cannot divide by zero\")\n",
        "except ValueError:\n",
        "    print(\"Error: invalid input, please enter number\")\n",
        "except IndexError:\n",
        "    print(\"Error: list index out of...range\")"
      ],
      "metadata": {
        "colab": {
          "base_uri": "https://localhost:8080/"
        },
        "id": "jokyN5LsRLs3",
        "outputId": "5d075668-2a11-4130-d300-cd1861f4bb45"
      },
      "execution_count": 26,
      "outputs": [
        {
          "output_type": "stream",
          "name": "stdout",
          "text": [
            "enter a number: 6\n",
            "Error: list index out of...range\n"
          ]
        }
      ]
    },
    {
      "cell_type": "code",
      "source": [
        "#13 How would you check if a file exists before attempting to read it in Python\n",
        "\n",
        "import os\n",
        "\n",
        "filename = 'myfile.txt'\n",
        "\n",
        "if os.path.exists(filename):\n",
        "    with open(filename, 'r') as file:\n",
        "        content = file.read()\n",
        "        print(content)\n",
        "else:\n",
        "    print(f\"File '{filename}' does not exist\")"
      ],
      "metadata": {
        "colab": {
          "base_uri": "https://localhost:8080/"
        },
        "id": "nqDo-hE3RdLe",
        "outputId": "e20ccd92-9465-467e-ea12-ae455e839c96"
      },
      "execution_count": 29,
      "outputs": [
        {
          "output_type": "stream",
          "name": "stdout",
          "text": [
            "line one\n",
            "line two\n",
            "line threeThis is new data added.\n",
            "This is new data added.\n",
            "This is new data added\n",
            "This is new data added\n",
            "This is new data added.\n",
            "This is new data added.\n",
            "This is new data added\n",
            "\n"
          ]
        }
      ]
    },
    {
      "cell_type": "code",
      "source": [
        "#14 Write a program that uses the logging module to log both informational and error messages\n",
        "\n",
        "import logging\n",
        "\n",
        "logging.basicConfig(filename='myfile.txt', level=logging.DEBUG,\n",
        "                    format='%(asctime)s - %(levelname)s - %(message)s')\n",
        "\n",
        "logging.info(\"This is informational message\")\n",
        "\n",
        "try:\n",
        "    result = 10 / 0\n",
        "except ZeroDivisionError:\n",
        "    logging.error(\"Error: Ddvision by zero came\")"
      ],
      "metadata": {
        "colab": {
          "base_uri": "https://localhost:8080/"
        },
        "id": "MMQHyZoMR8F6",
        "outputId": "cc876c3b-9bd5-48a2-a64d-c912e107d1fe"
      },
      "execution_count": 34,
      "outputs": [
        {
          "output_type": "stream",
          "name": "stderr",
          "text": [
            "ERROR:root:Error: Ddvision by zero came\n"
          ]
        }
      ]
    },
    {
      "cell_type": "code",
      "source": [
        "#15 Write a Python program that prints the content of a file and handles the case when the file is empty\n",
        "\n",
        "filename = 'myfile.txt'\n",
        "\n",
        "try:\n",
        "    with open(filename, 'r') as file:\n",
        "        content = file.read()\n",
        "        if content:\n",
        "            print(content)\n",
        "        else:\n",
        "            print(\"file is empty\")\n",
        "except FileNotFoundError:\n",
        "    print(f\"file '{filename}' does not exist\")"
      ],
      "metadata": {
        "colab": {
          "base_uri": "https://localhost:8080/"
        },
        "id": "XDs5dEIxSMfm",
        "outputId": "3d594182-0748-4b6d-cfd4-f1fd45411219"
      },
      "execution_count": 39,
      "outputs": [
        {
          "output_type": "stream",
          "name": "stdout",
          "text": [
            "line one\n",
            "line two\n",
            "line threeThis is new data added.\n",
            "This is new data added.\n",
            "This is new data added\n",
            "This is new data added\n",
            "This is new data added.\n",
            "This is new data added.\n",
            "This is new data added\n",
            "\n"
          ]
        }
      ]
    },
    {
      "cell_type": "code",
      "source": [
        "#16 Demonstrate how to use memory profiling to check the memory usage of a small program\n",
        "\n",
        "from memory_profiler import profile\n",
        "\n",
        "@profile\n",
        "def simple_func():\n",
        "    x = [i for i in range(100000)]\n",
        "    y = [i*i for i in range(100000)]\n",
        "    return x, y\n",
        "\n",
        "if __name__ == \"__main__\":\n",
        "    simple_func()"
      ],
      "metadata": {
        "id": "DC3efJljTqaI"
      },
      "execution_count": null,
      "outputs": []
    },
    {
      "cell_type": "markdown",
      "source": [
        "![Screenshot (14).png](data:image/png;base64,iVBORw0KGgoAAAANSUhEUgAAB4AAAAEjCAYAAADT+hy8AAAAAXNSR0IArs4c6QAAAARnQU1BAACxjwv8YQUAAAAJcEhZcwAADsMAAA7DAcdvqGQAAIzhSURBVHhe7f0NmCTbWdh5vtn3SxItS4tgJN/crrZoTJVBkkcw6HGqmqGqMQZ3mRmBvTmmq6EZloHqgsd8eBK22hSy6HHXmPIgYFB1GrPYDV2NJ9cGMZ4qsDFV7VUXycqLvAMyVHlpyV29eVcyRo97++rj6t7bufGe+MiIyMiIE5mRWVlZ/9998nZmZGTEiXNORGblm+c9pU+9+FJbAAAAAAAABlDy/o2z/dKh1+sBAEcv61ruX8PT1uvnOs8X1wBOpHH/YHzcL84n5A+PU96/AAAAAAAAAAAAAIBjjgAwAAAAAAAAAAAAAEwIAsAAAAAAAAAAAAAAMCEIAAMAAAAAAAAAAADAhCAADAAAAAAAAAAAAAATovSpF19q653/17/5iFlQlP/8nV/p3QMAAAAAAJOu5P0bZ750sNDr9QCAo5d1Lfev4Wnr9XOdt30PAYCJMu4fjI/7xfmE/OERBIBv/cIvyJ96wxvk2WefM09k+U//vxfl859/Wd70f3iD/H8/+Sfypi/8U/KS8/jFFz8tr3mmJFe+8zu9NQEAAAAAwKTr9T2K7fdDJ+R7GAA4lrKu5f41PG29fq7zxz3GAAB9GfcPxsf94nxC/vCIpIB+65eckz//znda3d7wRc/Lqde8UWa+4m3y6VeflfLZc2bZiy/xJxsAAAAAAAAAAABwkv3R//vfyX/xji+XLzz9XNftXe98u/zKP2l4ax5fb/uzXyL/9P+WfRy6zjtm/qz3aPgiAeCXP/dpeenTj6xu58pvlP/ibWfk1Kufla+f/XJ50+mnzbJ3/fm3eltL99//wN+INLQ+tvVVb/9zR9IpdL/9lvk4+/cf/7g5Xv03ye809yL1ore/9p6/4j0LAAAAAAAAAACAk+a5514jP/WBuvyvv/6bkdsHt/65/KVv/MvyXd/xbcc+CPy+G/+jfP/3LacGgfU5Xee91/+Ot2T4Iimgf3vv/y6feKFlnujXW54vy7tn/8vUFNAaHPwzf+ZL5O/91M94S9yAcPhxGg3E/q33vk++5a9VvSX90YDmV759Rj7y+/vyZ97aO3CtnU874c//o1+K7FOP45988H/zHk2urHrSAPDFr78gTl/ylrht9NZz58a2forqQwAAAAAAV698YLYZ4sgnBgDjK+ta7l/D09br5zp/3LOMAsDAxvFDssXF+T988pPyy5u/JJ/73Ge9JVFvf8d/Lhf/yjfJj678sPyL3/h1+fC/+X3vmREYQp36Ad6f/tkN+av/p2jcKe25YYoEgH/+5zbk3350sEr+ire9Xb7ru5d7BoBtg65pRhkA9tfZ/s0d+QuVWW/pydJPALiIdh4mAsAAAAAAULyk71Jsvrwfx++1AABRNsFdm3Vs2bx/AMCJMG4fli0u0F/77nfJp198Uf7082VvSUe73ZZ//eHfkX/4S78sp1//ennPwjdE4ktDN6T6TAr0HlXwV0VSQPve/OY3yzd90zeZm96Pe9e73iVf9mVf5j3Kxw8GfuITL5h/e4mniE6jwcbwuj/z/v/Je8YVT1Gs29Z1NECp9F9dnuRnf/r98p3f9T1WwV8dERzej+7X55chXBY/hXT4deGh7npfA5X6r/+8f2y63F8W3o+KlyNMn9NthNeJ11e8Pj/yu//ae6Z/up3wcfh03/4yvcXLosvCdabHrcKvi6fi9l8TriN/u/62Pv7xj5lR3f66AAAAAIDR0O9b4jcAwPjjmg0AsPX7v/e/y/t/9qb8s9/4za7b//bP/6V87fwFaf72PTl1KjFMeSxpgFcDvRrw1cDvUQZ/VVfNvv71r5e5uTmp1+vmpvd12Wte8xoTDH7qqafkR3/0R+XSpUveK/L729dvmBGj8WCfTwN6//7ff8xE/PWm6/uBv7jwCN1g/dVrQSBVg3u6r/DzU2fPyt/4wb9pRqcq/VeXJ9n9rd+Ud58/7z3qTcunaa39fej+dL/x4OLf+7tr5nnd5y/8/N83Acj//kdWzDJNMa1ByTANVP72vXvBNvXY9DX/9H/dNsu0br73u7/LW9s93v/ya+fNc3rT4LUGe8N0G/4+/W1qPSq/PrUs/jb+zvvea57Lww/wh0f/6rH521Tazrd+4eeDZXrTssT7hT+62H+dHr/Sx349xutZX+PXka7j9wkN5Ouyt771S4JjPKkjuwEAAACgaPHBAIzeAoDh0Osr11gAOH40vpHndpyVSr1/NvTss8/Kq6+84j2aHOEg8FEGf1VXAPi7v/u75Zu/+Zvlq7/6q81N7+uyr/mar5Ff//Vfly/6oi/y1uyfH3z1g5l+sFZpAFIDeuG5Y3V9DYQmjdTUEboaBA0H8fTxndu/aO5rwDX+vG4vj+fL3UPUw/zyh+cw1v1p8PWf/C//i7fE9ffe/z+bfzUweuEvfr25+WX7yq/6avOvH4z1+dvV9TRwqdv1A6vv+gt/wdSNT9cJH99f+2/+G/n4/fveI1d4RLO/TX+Urz/iOZwa+QM/9/PePXsagNV6D9OAq89vZw3Shuk6GhQOC7/uyne6wW7/GLUetPwvtKJzV+tr/DrSf8N9AgAAAAAwPH5QgsAEAAzfUVxr+x0FzPsDALgD2/LcDC6gxToh9Zk4Avh1r3udvPDCC+b2kz/5k/LP/tk/k9/7vd+TH/mRH5FHjx6Z9b71W79VVldXzf1+aFBOO6+OQNWRoX4aX3/kqO2vHHSksB9I9m/62LfzL39T/qv3fIv3qD/x4GLc/+fhQ5n/uq/3HnXoyGEtX5gflFQ6YlhvPv+5cHpsDW6GvfXcOTOC2feWtzxv/g0HjTVQ7teFBmLDAWIVfr3SbeoxKC1vfMSzv48s4TbQAGw80B4OpOsx6rGF60NpEDxe3vDr/o9nziTWiV9+Xzxor6+LB8IBAAAAAKPH91YAAN4LAKBPXECLVXB9htM+h9NBH4XM5Nrnzp2T559/Xt7whjfIO97xDnnmmWfkl3/5l01wWEcID0pHoPppfP0gpgb44r9y0Js/ajVOg43xdcMjiAeRFFwcZxpID6dM1gD7qITrPzyCeFxoWwIAAAAAiuXPCenfAAAAAMDWuXNf6t073uJz/sbnBB61rgDwwcGBHB4eyjd90zeZ2+zsrPzpP/2n5Y1vfKO8/e1vDwLA/+pf/Suzvs4N/PVf//Vm3S/7si8zy/IKjwLV0aY6AjSeBrkXHUGrc+T2osFkP71xPy5d/nYzojitPDq6VOcKjtNyhUf4joKWIxz0zRq9HJdUn4PUXy+92ln3FR/h24/4cR9FWwAAAADApBskDSgAAACAk+3s2T8jv/xPftV7dHzFg7++owwCdwWANbj7a7/2a1Kv181N7+uyD3/4w/Id3/Ed8qlPfcqs9/jxY3NfRwb/3b/7d826GgTOogE/P92z72fe/z8F6YD1pvPi/tX/6qL3rCv+Gp/Ocaujh8PzCOt9f77gv/Xe95kU0+FAo+5PJaVcjtORrDon7le+faYrWPnX3vNXzL/+aNdwGXX/Wq7v+/4f9JaMzod/53e8e2KOPQ+/PsPzLefdhg2te63XeDvrvrTNBhUuc1JbHLeR3QAAAAAwbhjtCwAAABwB/TWlfxtTz73mNfKv/x+/I7//e/971+0j/89/Lf/u4EDe9EVfLGempuRL/2x/g0sLM2B99gr++o4qCJyYAvpDH/qQSe+sN72f5Od+7ufkh37oh+Q//sf/KH/5L/9ls64uy6KBPw3GheeLvfULPy+/+/t/6K0hJn2zBujC68TnpfVpWmh/HmF/3b/zvvcG6aI1OKspojWA6z+vI3Z9GoTUlMm6vJe/91M/Y/YR3obedHSwT8uvo2/953SbmtraDzKPygd+7ucjcyLnTQGt9ab15deJ3vQ4hkHrVedO9vejN913EemjdTv+NvVYtB7CbeGP7Nbnw8FuAAAAAAAAAACAY2FMg8A/9r7/QX7if/w78rXvflfX7S/OnZfXvva18m1X/ltv7THSR32+b/Vv9Qz++vwg8Huv/V+8JcNX+tSLL5nDufULvyA//3Mb8m8/+vvmiX59xdveLt/13cty5Tu/01sCjJYGdTXg22vOaAAAAADA4HqNALb9zoQRxADQv/C19iiup/FrvV+GPN+bZ5U7z7YA4EQb9RvBpF+gc9Znu92WUuko3o3TRQLAOv/qf/gPnzRP9Os/+8/eLF/5VV9NABhHhgAwAAAAAAxfr684bL8PGr+vSADg+Ahfa4/iehq/1vtlyBMTyCp3nm0BwIk26jeCSb9AT8gfKkEAeOdf/kuzoCgX/uJf9O4Bo0UAGAAAAACGr9f3IrbfB03I9yoAcGT0entU19L4td4vR56YQFbZ82wLAOAZxRvDSbpAH+M/WoIAMAAAAAAAQB5J34fYfMlwjL9HAQCkIAAMAGNg2B+2T9oF+pj+8XLK+xcAAAAAAGCo9LsTgr8AAAAAMFwEgAEAAAAAQF/iP/5PGwxA4BcAAAAARoMAMAAAAAAA6JsGff0bAODk4n0AAMYEH9CLdUzrkwAwAAAAAAAAAAAAMGkIAhfrGNUnAWAAAAAAAGDNn8eX+XwBAD7iCwAAjJfS6dOneX8GAAAAAAAAAAAAgBF7/PixPHr0yHtUDEYAAwAAAAAAAAAAAMCEIAAMAAAAAAAAAAAAABOCADAAAAAAAAAAAAAATIjcAeCZ5U25e/eu3F1b8JZMjuDYvNvaQsl7ZvSGUc8La+PfbqWZZdkMtcHdzWWZKR1dO9ia5PMCk6FUmpHlzdC55dyO8hoHAAAAAAAAAACG41QQcIsF2kywMCVA0Hp437s3GUoLa1KvijSW5mVubs7cVrba3rOdwGS/ARNTnz2CmWmB2UmrZzutTjssbsh+uy2l0oKsaT/tUU9uAHZNFo44WDwu7ZUVkNb+Hg4Ebi7PeM/kU9R2/OuNf0s6z2zWUfEyhdeLP3f37qYszyRvZ9Cgfve+3Ft2uTv9OOj3PW7hbWXVT7u9LxuL7rVtfqnhnGUAAAAAAAAAAGASdUYAl2flwrR7V4MO5yvu/bj9jUUTQFjc2PeWTIaLesCtPdk58BYU7P7DfOGWSa3nfrXbW3Kv6dypnO8K8urIxguzZZHmPdlqd4L2ozQu7eX/UGFV7kijR5fTQONurSLNdTfIrsFAqdZzB2+L2o4GLmuybrZhtrPelEpttyu4mbWO0vV2ayLr88k/5GhvrQTL9eYW+XYkCGxTh/aakbLoLVwen/bhq5e6L7ra71dCr/Vvevz6Qwn/9wa29QMAAAAAAAAAACbfKTl3RsqthjSaZTlzzlt68bxMNdYLCH4cM4cPzGjTUdLAz9mpkzrSN59tNwIs5y+6jwPTF8SN/257C04m/eHGjfqs7C3Ny+Wbyf0pCDQ214NAZHt/Q+44VVuevWCdbruo7aitlTmZW9nyHjm2b5lrTyXU0DbraEC6VtGA6zXrHwIc3LwjTelc+2zqcBimr65KteyU3QR203Xq/o5s7LvHaVM/AAAAAAAAAADgZAhGAO/cawbBgovnp2Rvxw1+TJ11hwV3pTNNSYsaTUUaTbFqtmNSIUdTm8ZHqgXpV/1bwv66ypSQAthmO2n81+/Wq1J2Huuous72cqYcLp8RP8beS1Y9a/BH5/HUUZaRY0tILx3fVq17gGFq/Zh27FFf5nWhfdq0xcC274kJAceCWtMXZp22aUo4/ptZj/q8RT/MOq6s/fjS6jlPm6ZxR4suBkHBRAnB8mDEfygLQKaitlMgHcXfatzKNwp8+qxMeXeVVR0WTOvtSrVsym71E4aLV6Rabknj1sn+wQMAAAAAAAAAAEjWSQGtwTVNrzuzLJemulMh+6lT5+eXeo4M1kCGBtNqUw1Z8tKezs9fF7kQG4VWrkrdzdNq1llyNlip3QgCaxoEq1cPg9Sp8/PrTtlq0aCZU87bofSz7m0lEvzJ2k44eGeCo/pcLPjmp/b158xM21+agweH3j2/nqKB8cMHboXb1LMqV+tSP3PHW9c5LqdOV692om56bLu1qcicxvHBhTb1LFNnE4OQ586UgxHTNm1RhKQ00Bo8jad/do+9kwY48bhURj+0OS6b9rKqZ0dWmxZCR/yHUgebY9Q6aGj/DmUByFLUdhKdE+1e6aPio+v4wefDB+eic+ZmBNEvXqmaDAjDi6VWpLbb+dFIUkrmizdqUnHKcP1mdv75YPRvZrp6mzoEAAAAAAAAAACT6NS05h82tuVWY0rOXzkjsrcj/UyFO331klR0zsvLN4NUyu32vmxshFKTejSo5qeOPdjZk5ZMiQ429kfDNdc7aVw18HdNo5eVS52gaSwAFWeznfB8oCY42uzMoTm3uDG8dNAXzzv1VJZZM0zSDdTk1mrI0jU3auUHRste1M0PErUa13uOZLSpn/C8xRrg2/SC1rr9SNrqjLYoUlca6NhI1M6xd0aC6nHd0uhswvzBvfqhUcBxWfdnldKmw2CCtl6642s73sI+FLUdnwmIOvW+lxLh7LVOpXZe7gWB9iVpSFXqN6I/QIn+8KMljeud61WRuucb1h8Y7EbmSNa6c7M5W5bB7+8Z69vUIQAAAAAAAAAAmEydEcAODYBNVTT984Fo4FYHreYJQJlRoaGRmL1F0/Xq3KGLftpVExxNCLrdf+gsDY0sNHNclqVa19F10dG0hu12RsXs1w0uaortRqM5WHAvbb5iL0jkjypOZFE/ZtSyl7baTbPsB61jstqiSLE00N3pn92Auo6m9YN8eqtXnYVdUvqhKuK48vTDUc5BfeGG7Jqg7eXB0h0XtR2Pph3X0fhpP15IWycaaN+XmzopcSzQHg7Mzi/tyazTvuGg7LAc3LxuRon7cySbHyusVqUcmkc5i82IZZs6BAAAAAAAAAAAkysSAO4KgOXgjwodFTOyeNFPvTui4GMhpp16OpQHN92U224Yc7BRpkMTClqfOyPSWG+IzF5wjsANsgZpq0fYFv7IWDc1dXf6Z180bbN/y5eW+vj2sRRe4Lla1czXoaBt3tHORW0nRFNlu4HLJVnc2PeWRmWt489ZbkuveRoj9oOyw+T/qCaQcy5fm9HCNnUIAAAAAAAAAAAmWyQAPIgguJGQZjeXpJGRygSWoiM2VVeQ7oqX7jXndkbm3AWZPdSApQYyQ6mMi3TwQLQpwsEwf47UgE39eNsRuSjndV7o7R3Zk1lxBwF3B/l6tkXBTBroslOOi9H0z677opmr/RHCRRjouMatHx44baiZvWNBc5MKPnNe2ZCituPRtMxmlHZzvWfgMn0dt93jo+rdFPeHkjYYflSCc9Ab6X3RPHD6k/lhgTtSfVejt+LPG7wWuZaa0b8pfcamDgEAAAAAAAAAwOQ7ZdI2F5R6dvtWQ1oavAjNuakjg5eXF7xH2fwReZXajSD4oYGTG7WKhOd17eaOSvXnpe1/Oz14wdC+A4vm9WWp1qriR051jt1KTefqLDZAFcwfG6SadY57V/fTYVc/GlQry+zqJZna23H6yL7s7IlU9XFqmaNtUTiTBtqty3hATIO1OxqZrNRkbWGAHyIkyn9chffDAWn9uGmRO/WjI0tXdZ7ihJGlmk7YBCfXoudwUdtRGrg0gU+dg3ule75wlbVOpzyddM9azzr/clo963bNZm3n4I1JO644d17epqx78zxvrcRHqM/JvDsZuaybeYw7I9b90b+9jsWmDgEAAAAAAAAAwMmQPQLYpNotmdSiZoTabl10kJkGfkzgI5QSV4Ndl+fXpRk8p+uviuzkG+aogZH1pj8KTrdRk6lYSlO/PJ39dK9jsx1bGlS9ttSQVujY4iP07LTMHMtK51zWQZRhNvVsY/vakjSkKnXn2PW4ZX1elnQC0pCs+tGgmpkG2ClHpMzOgnLrofhhUJu2KFKQBlolpH/e31g0x1qpdUZWmptFkC7M5rhs2qvIfpjFD0imnqdbKybQ6NfPbr0qh07/iM9Dm5XWvYjtmHlwNbKpIueWe9Pgss06SsvjnKLBiNqkeg4Ctt7NWcUEW8NltqlDlVU/8f5Tk/VIUDcPf/TvnZvdv7qwrR8AAAAAAAAAAHAylE6fPp0/GgEMiY50vF2flb2l0LyyAArlnmfJAXsAAAAAAAAAADA6jx8/lkePHnmPilHYHMAAAAAAAAAAAAAAgKNFABhjqByk8b27uWxSkAMYjKaKXt5000Jrum7Nbg0AAAAAAAAAACYPKaABAAAAAAAAAAAA4AiQAhoAAAAAAAAAAAAA0BMjgAEAAAAAAAAAAADgCGSNAP7H//gfe/ei/vpf/+vevW6MAAYAAAAAAAAAAACAMfQnf/Inibc0BIABAAAAAAAAAAAAYEIkBoBLC2ty9+6aLJRK3hI7pdKCrN29K2sL+V43iJnlTaesd+Xu2oK3ZHIEx+bdRlmv6Ji0Puae351+lXRcNusUbZB6LpVmZHlzNOVEfxbWaB8AAAAAAAAAAEahKwBcmlmW27WKtBq3ZKudb3rgdntLbjVaUqnt9h2s1P1vahBoc1lmQgFoEzxwlvfabuvhfe/eZNAAXL0q0lial7m5OXNb2eq0h19PgwaFg8CZ1rm5bcryzMkINOetw+PUx4Jgauw8Uu2tFdOf5ueXxDldE9msMyzDrueizh0AAAAAAAAAAIBxFAkA6wjeG/WqlJvrsrix7y3NZ39jUZZMEPhG7hHEEeVZuTDt3tVyna+49+N0fxqo6re84+qiHnBrT3YOvAVDYNp7ty5VacjSvBtonp+/LnLlalfQ8CQ7bn1Mg/oXZsvSbDSkFTqPxt2knssAAAAAAAAAAACjFAkAT1+9JBVpyvq1bW9Jfw5u3nG2UpHajYvekhzOnZFyqyGNZlnOnPOWXTwvU431kY9EPHKHD2Q/5yjsPC7eqEnFqeulyzeD/bTb+7KxsjHU/WLIpi/IbLklD3d2ZK9VltnjEgEGAAAAAAAAAADAwIIAsI4GvVItZ6Z+9lMxp6UL9lNBS+V836OAd+41nZe7AeSL56dkb8dNCzt11g1m5ZmjNK3MZjsmTa47f7G/Xjw9bHw+3qT9dZUpYR5lm+2k8V+/qyO1nceabruzPft5m/1R1a29ncxgb1aZs+rQTzO9uTwT3VZCeuJB9+VL245tHdr2sbR95Tn2okxfmJWyGT1+IDt7LSnPXhjavrLYtJdtPUfP485N6zasVz3btrvqKlM/c6Jb9lWb47cpT9Z2ssrjvr77mu6nzA7Xcz9lrvXI4gAAAAAAAAAAAIrVGQF88bxUpCV7PXIOa8BQgwa1qVi64AvJo3wPdvacrVXEi+Hmt31PmhpAnlmWS1PdqZBt5ii1LnO5KvXdmsi6u048hbUGjurVQ+dpfxvrTtlq0UCfU06dO7npbcO9rUSC6VnbCQdMTLBEn/Me+4EsP03u/FLDqV9J3V+q6bMy5fxz+CA9x7TNsRsZdajK1brUZ/dMW5h2E+c1oVHiRe1L63FVrpvnwtvxA1i2dWjTx2zLbI79zJ3OOs4xrF4tfmSun/7ZD+yb8/Co00BntJdtPdcqzU49rzfNcm27SMpop+47fSxaz7btbnMuW7Poq+7T3nEl9B+b8thsx0grj15zpSzVK9Hro/lBgfPMnZvutcKqzGadqcgc5l6TAQAAAAAAAACAIQsCwNNnTThQesUDg/TQ8XTBG1vmfpcDTT/bGbFryy2H2pZbjSk5f+WMyN6OpIcpk+UpswZXVrbcddzg9ZRo0f2R0c31a53AYHtLrmk0o3KpM1pOU1c7r3roDlTuYrMdPxAWBEua68HjucWC0zKb8qazPnZPrzoMhNJNazvo6FR/lHiR+9J6DAcFdTv3nM2Ug5zixchVZj12L7X6sMpjeOmfgx9yHDxwzuqjTwOd2TdS+EFtad4L6lm2b5lgcdf1JdLH+qznjHM5r97Xlhm5eqkSybqgZe7KnpB5bbHcjqdXeZJeE697m3111rkuG/vuOgAAAAAAAAAAYHQicwBL66H0inmcOxMLwFgaJMilwYmpiqZ/PhANGD44zLc9+zI35V5o2uP2/oYszi26wQtvZHRX8OX+Q2dpaJ5iE5AqS7WuaWUTUmPbbmec5CpzSh36YnMaH2iD+oHAgvcVTxc8lPSzeco85Pmcfe5ozc4POYIg6BGmgbbqGyniPxYwLl6RqnN6d41gL6Kes87lXNKO/ZzoJUpHh4f7al0PLCyzPJbbMdLbwg0IhzI3eD8oaNzyX2SxL/OahLYBAAAAAAAAAAAjEQ0Al89IUhxSR3QFA3NzanVFx+zlDRSFDVLmfpiRxYuaDlXT2BYVPBoiE6TMP0L7ONDgbzhdcDCiesIFozWlIrXdzvy2Jvh91GmgC9E5rl0vJbI/krVIoz6X9TiCkf7BLZSK3LI8WduxodfcOzqA3YsAd+aTNg8DRewLAAAAAAAAAAAMRxAAjozGjPFH3yalE+3piEeB9VXmJL1G6Jq0rNHRdKorWOPPp5lzO0PnpehOHRk65DJH0o4XtC9Ny3xeA559jFbPbdza1Dvn4sE5M0erU6KjTgPdLz+wHT+uYQR/w3qey4W5Lw/NwGa77fYuT77tZNnWIePmuunV+51OCn2rfZm049EflwTnJQAAAAAAAAAAGLrOCODte6lBou1bDdHUoLUbnS/+NTCzvLzgPYpyU9HmD4KZtM0FpcvNW+YkwYi42o0gkKzBjBu1SmQezG5uqlR/BHT/2+nBC7L0G/TRYNLN6079lKtSj9fP2rIJChde5pDSzLKsVsvBdorblxugkqmzQWDbHRFs7kYNWodDqJ8gdfWafR8N9Aw8u3VytGmgB1dUgDN/u0fP5aLoOeimtq7J2kKedoldW/reTg/mvaAi56/qDwqi/clmX/G04+ac2K05W0w2UJ8HAAAAAAAAAABdSqdPnw6iVJ3UudcSg1fdX+S3pLF0uStFswYRr96uS/VwXeZWtryldkwZJPl15rmphixdvinODnrMcRktU1aZSwtr4jzd85h9bt14DxytxpIsbux7j0Rmlje7yhNfR2Vtx5dWDz4Not6uV6Wz195t14tNm2aVOasOg/4Qay4d0RkfxTnovlS8XnQb12VV6mfudNVnWh0mtakrWkdpZe51LiS1b6Semn2eO975Ef8BhXssYsq9cyH73LE99iw27WWzL3c7oUr2efWUp55V3nbvdZ6msb22JB5/qP1ty5O1HdvyKH9bvY47c1+xc17P9VtnnX4XOwcH7fMAAAAAAAAAABx3jx8/lkePHnmPun3gAx/w7kV97/d+r3evWyQAHAQDB/wi3g0OHFoFGjD5egXnABt+sFZiwUh/+WHCDwkAAAAAAAAAAACOg2EEgDspoB2auvPaUkNalZpsLs94S/PRUWZurIbgL4DhcdPMt6TgzMwAAAAAAAAAAADHWiQArHRe08vrTSlXrwTzmtoyI4hrFWmu26eIBYA0nWtS3Z0r1rv5Ka251gAAAAAAAAAAAHREUkADAAAAAAAAAAAAAEZj6CmgAQAAAAAAAAAAAADHFwFgAAAAAAAAAAAAABhDb3rTmxJvaUgBDQAAAAAAAAAAAABHICsFdD8YAQwAAAAAAAAAAAAAE4IAMAAAAAAAAAAAAABMCALAAAAAAAAAAAAAADAhCAADAAAAAAAAAAAAwIQgAAwAAAAAAAAAAAAAE4IAMAAAAAAAAAAAAABMCALAAAAAAAAAAAAAADAhCAADAAAAAAAAAAAAwIQgAAwAAAAAAAAAAAAAE4IAMAAAAAAAAAAAAABMCALAAAAAAAAAAAAAADAhCAADAAAAAAAAAAAAwIQgAAwAAAAAAAAAAAAAE4IAMAAAAAAAAAAAAABMCALAAAAAAAAAAAAAADAhCAADAAAAAAAAAAAAwIQgAAwAAAAAAAAAAAAAE4IAMAAAAAAAAAAAAABMCALAAAAAAAAAAAAAADAhCAADAAAAAAAAAAAAwIQgAAwAAAAAAAAAAAAAE6LQAPDM8qbc3VyWmVLJWzIZJvW4UBzTR+7elbtrC96S4RnlvgZVWlhzy+rfEspssw7GU9AXvdvaQvQamdZXaXcAAAAAAAAAAIYjCACXSjOyvBn6Mv7upizP5At4Hty8I81yVa5c9BbElGaWZdPZdjxI4AYC8u9vVLKOSy2shevOvW0uz3jPRgVBkVhQOWiDWCDE37Zfb12BE/8W2148OBMuT1FtYVNmm33568SPIX7svl51qPK0RdFaD+9794Zv2Pvq1W55tLdWZG5uTubnl6TR8hbG2KyD8aPnb70q0liaN+2nt5WttvdsVFJfpd0BAAAAAAAAABgOEwAulRbkxm5dqtKQpXn3y/z5+esiV67mGvXabm/JvaZI5XxKpPQYsj6uVqj+1ptSrta7g56lGbkwW5ZmoyGt8qxcmPae6EGDLLWKSHN9PhZcacq6t6/gtrgh+213HQ2CxoMz12V1oGCerd5lthCqE+2X553txFnVoUVbFGl/Y9Hsa3Fj31syPKPcF9DLRT05W3uyc+AtSEBfBQAAAAAAAABg9EwA+OKNmlQ0YHb5ZhBAbLf3ZWOlE1C0tW0ipZfGdjRvv3If1/Y9cV7RHTSeviCz5ZY83NmRvVZZZlMiwCYwX6tIq7GUK5DqB05bjeuysd95nQZjcgdkc+q3zHLujJSdPtholuXMOW/ZxfMy1VjvHh2Yow6NhLZwR7eO76hz4Fg4fJD7PQIAAAAAAAAAAAzXqSBYuLdj9UW+n3q3Z0rd7VvSsAnKZXDTA4fT+K7JQmw0ctc6sTTE5nmTInhB1kLrdY3KtdhXUcc1fWFWymbU3IHs7LWkPHshcZS1jnK9ersmleZ636PnykEkdTSKKPPOvWYQqL14fkr2dtzUsVNnO/VuW4dp2vsbcr0hUq3vJo4M9lNbaz+PpNKOp+3O6oOW27FR5L7S+rz/2t16VcrO40ptN3E9FdmP3mJlGpXgXPePS+/7acVjZU6rxzzbyTr2YFs9rj/u67t/hJA39XauvppSHl8RbZpWx3llbcv2uAAAAAAAAAAAOClOyfRZmXLuHD5IyeOZg44cNkG56pXuIKolDYDcrlVMCmFNH+reVmQrFKDWL/13axKkQZ6fX5dmpdYdaChXpe6uaNZbarSkUrsRlM1mXyrvcU1fvSQVaUnj1ra3xNlXyU1d7AfbD3b2eqYwnr666qbkvtZ5vS1NWX1Lh81qfYxwlOsgZQ7oaN3KeVlw2uXSVHd62Tx16EtqC6UjojU9tAlw9ghQaero+uyeSSdt5ip1jrB+ozOS2HYe06zt2Mi1rzN3vHWd88I5B1avdiooq8/7aXvnlxpOrbmpvJPW03NwVa4Hz/nnYM8fhwybnuuXHsqSltvpE6urZ+SOOYaK+IO/ra4bFtvRIGm9ejjQ9cfMLS7dPyq5eKVqRsPHumsmqz6WcT3MOq5wMNbpQt41xgu6hgLORc3vW9R1HgAAAAAAAACAk+SUSb3rPbBhM6ejG9joBEtyM2VqyUN38GcXDQJevaRphm8FwahO0PN815f+4bloTcBQpiQYUJqxr7DM4zJBCHe0pBtEuRxJweynLt7zo5oHD+QwIQCkQRUzf+/1TkrubhWpefsKbqGgiAlumqBV2Yxy1eeTAnPR0Z13ZddEdfpgVebeps/qzxDUttOOU3L+yhlxKkq6fpZgW4dZbeHRQJWpJw0qxUZMGqHU6P6PAJL6WKaitmND9+UF4f35qyOjwXP0+TRad+HrQOK+Rqx556bXZ5yr2t4t2Tb9w5XnupG+nQW5Ui0715Vrke1cW09OE9/r+hPUV2gEu5+RQfef+zyy7GO9ymNzXH5gV2+62Fk5eByeg7wIhV7nAQAAAAAAAAA4QcwcwEXzAxtd89/a8tItu4HLpBGs5+RMWcyIt3Dwsl5NCmU35V5oJJ2m/l2cW+wEAzP31ZF5XBqA0dF3JjJSkUuhUZfKpC6WQ/EHWycFgIzmuqw3tUxpI9iawai44Lay5T3nco+1MwpP6yseBI6O7nTWNWXvg1WZ7WjwZqqi6Z8PnDralweHTtm9oKJ1HWa0RZjW02UdWWiCxrHyx+Y4PdDC9BNYKmo7NrLmZc3R57MsrHXOP731+/uBYkSD2t1ZDWyvGxnbuXje6VEJAfT7D52loTmsjfTrz/YtHWVclSv+JcVsO/oaDYRqiudwmRPbzaqPpZQn13GNQoHXeQAAAAAAAAAATpBT7pf70TlWi2ACGwmj4Wxo0G9j0Q9c9g5UxYOX7q07fXMa2335bI5LR8lp3DGcLtpPXazByPDIXRMwS0hhvH1Ny+Ose/tq96jUnPxjjJepaEWVuVfwJm8dqqS2iDMpkXdrUjFB487ox0mVt8/3osHfWiX6Q4R+fz8wSkVcNwpzsCPuQF03AnzxfHTEq/LbK1rekxPcHKv2AgAAAAAAAADgGDjlByC6RlAOymw3lprXS6MaDza76X87ozp9XYGqYJjcfXkYCpoUofe+YpKOK8G2DkuV0MhTk7q4O5hh5rSU7u1peW5ed0cH5p0rtpf7WmlD1LPMOdu9p5x16OtqixAzx2i9KmVNZWuRwjZ3mXsoajuDsO7zCfxUxdK8d4wCcQVdN3qNiDWptaMjUbOYc+aO0z9NSmOt06bcuVlMp8jdxwo8rmIUf50HAAAAAAAAAOAkONUraGfSjq51z4k6s7xpRl0mzScbptvVOSjDIy+DdL2RkbHuvJPxUW9RbirQlpeb1N+2zju7tlBg0NqI7isu6bgSmTS7ocB6zyCKG+TQ9eLhSZOaWIdUOseZVd9hOqJ1MzQfsNJlq5n1PLikMtu0+zmt9KzUxRZ1mPgjhnhbeLQv65zHJqAcS5+dpKg6HFVb2OvR573AfXIAzq1zmTob1Kk7ItjcHUtFXTe0j5uYba2TLlz78w3n4Ptq0+17Tq/WUe01qRQUUO+njxV+XAMa7nUeAAAAAAAAAIDJZeYANkE7HUVZqQVpdXd3V0Vu3cwcEZnm4OYdE9gIx4+2VjRNbCeF7+5uTaYaS7K4se+t0Qkyd8rSvc7+xqIsNVpSqXVSAZtbLPCZxWZfcUnHFafBCzOyz5vfU1O7SuuhxMPKQZAjJYWxHmf3/L3RNMjmtukG7E173jsfeU5HuR6uz6ceV1GSymzT7qmmzsrVfusw1hbKDZCJNJbmZWUrpY+Hz4mEOvT7z+5uXaplZ0GwfiylcsZ2bFjvK4Ntn9fA/bUlTXneKfvdu2smOGjq1P/hiNemlx4umXYPsylzUcdlo6jrxsD9OUTr+Zapt5Y0bg0wzLaAPlbUcRXV7kW1FwAAAAAAAAAAJ0np9OnTQx3WZUYFTjVk6fJgweRxM6nHBZeOgL96uy7Vw3Wr0cG9FLUdTDYNhtZn9/q6ntDHAAAAAAAAAAA4vh4/fiyPHj3yHhXDjAAepu1bOkoweWTmcTapxwVgtHQe6rqORr/Oj0kAAAAAAAAAAMDghh4A1nTEi3OLsrE/WYGNST0uAKOhWQRMCuTalDSWLnMtAQAAAAAAAAAAhRh6CmgAAAAAAAAAAAAAQLdjmQIaAAAAAAAAAAAAADAaBIABAAAAAAAAAAAAYEIQAAYAAAAAAAAAAACACUEAGAAAAAAAAAAAAAAmROn06dNt7/7ASgtrslureI8czXWZW9nyHrhs1jkKM8ubUq+Wx6Y8GJ2g7T3N9XlZ2eqcFml9Y1z7MwAAAAAAAAAAAMbf48eP5dGjR96jYgQjgEulGVnevCt37/q3TVmeKXnP2mlvrcjc3JzMzy9Jo+UtjLFZp0ilmWXZdI5nbcHuWFoP73v3cBJoALdeFWkszZt+qbdw8DcsqW+Muj8DAAAAAAAAAAAAaUwAuFRakBu7dalKQ5bm3UDY/Px1kStXZaaULwh8XO1vLJrjXtzY95bgJLh4viLS2pOdA29BAvoGAAAAAAAAAAAAjgsTAL54oyaVVkOWLt+U/bY7+rHd3peNlY3gMTCxDh/QzwEAAAAAAAAAADARTunoX3cQ5E5mEEznQu2kiHZuawveM8XT1Lw2+1pYC60TSlvtl3W3XhWd3bVS2w2ttyYL3sjmrP34qbE3l2eix7+53DU6OlqWzk1fa8OURbfrl0nveymsw2VWaeXOs52sNg225fSTtdB6fkpt9/Xd6cLzpt62rees8viyjstGWh3nlbUt2+MCAAAAAAAAAAAA0pyS6bMy5dw5fJCSA9ehAbV69VDWgxTR69Ks1AYKivWiwbDdmqTuSwPXGiirTcXSVl+4aJ730/bOLzVEp2ZtrnfmeJ2bW5Etf6Sz5Ryu5Wpd6mfueOs65SlXZfXqtPesWz+1SrNT5vWmWa77zZU62Nlu/dJDWdJyl2dldfWM3DHHUJHz7qFZ1Y/NdqzbVLfl7tCst+RUVKV2wwSSD27ekaaUZfZCpy7UxStVKbcacmvbW2DJ1PPsnmlT0ybi7PuGV2BfSnlU1nGFg7G1irNAn/MehwPORc3va9VeKuO4AAAAAAAAAAAAgCyn5NwZM0I2jQZbr1TL0ly/1gmctrfkmgY5K5e6Rn8OQkeCXr1UkVbjVmRftzQCVzkfBMOmr16SijRlPZ62emPL3C+cpsi+5kYztTz3nEMvnzlnHmuZL8w6tdi8F5RZtm+ZoOHU2Whg1Ebzzk1xw/HONvduyfbBAzk0j+3rR6VvJ1+baiB7Zctd72BnT1oyJXpoQV3MXggCp/6oct1/7tTKoVTk2p47e93HpXqVx+a4/MCu3kycvrkePJ5bLDbteZ72Ur2OCwAAAAAAAAAAALBh5gDOdPG8VKQlD+97j333HzpLy+LFQQtyTs6UdTBkvTMq07nVq9Ew9TldKRxwHbaUeWITA5UXr4gWOWtkdbdoPXe/3q5+MreTq02bci80kre9vyGLc4uyse/Wx/YtHWVclSv+QF2z7ehr/BTP4TInpY6O1/PBAw1Zx4OgKeUZaV+1YdteKr2eAQAAAAAAAAAAgCyn3MBYfyNVhymastm/uambNZh4VvNWj52K1HbduYZ3a5XIaM6ipdXPyB3siBv/diPAF89HR7wqMzp7MV7ekxPcHKv2AgAAAAAAAAAAwMQ65Qfvwil8u/QaPWnSR0dHLQ7uvjwMBROTaDDRDAxNSKF7FPwU0PEg33CCv9n1Y6XANtX2uHlHUyxre2j656bcuZl35HOyaRPpPxTrgdQj7as2CmovAAAAAAAAAAAAwMIpE7y77qbwrd/oBKlMyt61ZRMU1lS0Jr5XuxEEXHWu1Ru17pGeg+qkU67J2kLv4K5JO6wjbuNlXl7wHnm8eW9HEYAbxT5s6ydL4W26fU+aZgR0TSoFpeYuzSzLarWcqzyj7Ks2imovAAAAAAAAAAAAwEbp9OnTJiJmgmQavDOLVUsaS5cjKXoX1u5KrbOCtBpLsrix7z0SmVne7DG3aWdbNuuoxPWa6zK3suU9sCuz0kDi7XpVOltryvr8NRMMzCrPzYNpuXq7LtXD6L5NXUhnWWlhzaR97hIrcxp3G1PufuWqKfPh+rxc275ojtMpdDCqOK1+8mwnq03dbelL3PpK45ZJEtsgiwbvTT13HVI0jbZtebKOyxdvxzCbvmqzjkprL5WnngEAAAAAAAAAADAZHj9+LI8ePfIeFSMIAKN/foBZ4sFTb7kGX4c1F/A4MUHO2T1ZunxT9nMGMYMAcCzQDgAAAAAAAAAAAEyqYQSAT3n/YgimL8xKWVry8L63YILpCFYTA7+eP/gLAAAAAAAAAAAAoBiMAC6Im8I3ngI6OSX1JOmkWh7sWBkBDAAAAAAAAAAAgJOGFNAAAAAAAAAAAAAAMCFIAQ0AAAAAAAAAAAAA6IkAMAAAAAAAAAAAAABMCALAAAAAAAAAAAAAADAhCAADAAAAAAAAAAAAwISY6ABwaWFN7t6927mtLXjPjMbCWvI+Z5Y3j6Q8OHpB23u3tYWS94wrrW8cdX8GTrJSaUaWN7PPu5N0nvZ6jxtXbtusyUIpet0dFXN931yWmQH3XyotyJrTt+LvHwAAAAAAAADgKywAXJpZls3wl97mtinLM0f3BWV7a0Xm5uZkfn5JGi1v4RhpPbzv3cNJoMGHelWksTRv+qXeVrba3rNRSX1jHPtzPNi1uTzjPZNffFtJwY0ifjxRZJkHFS/LUV8zMbixPE+99+dxCRgeRXl0n7drFWk1bslWO3rdNYHs0HmYVK5RXDeCHxmE9pO0r3Z7S245natS2yUIDAAAAAAAACBR4SOAm+ud4NZSQ6Ra3z3SAMs42t9YNPWzuLHvLcFJcPF8RaS1JzsH3oIEx6lvaEBkt1YJzvl594Tv63zXAMxuTWR9Pjk47geMVuXOQEG1IstcBD9Y6N/c4twmCAwUSEfM3qhXpdxc77q26rWnJuvBOTi/3uwKrI78uuGUMyhPj33pe8WSCQLfOLIRzQAAAAAAAADG11BTQPtfUJarV/iCElCHD2Q/NvrsONKRalcvVUygwg/Utvc35E5TpDx7IVeKUw2u1CpNWZ+/1jUyT7nBm1nZW5qXyzf7HzVfZJmH5eDmHWlKWc6c8xYAGNj01UtScc6s9Wvb3pKOrZU5mVvZ8h45tm+ZH5lUzl80D4/8unGwI3tOecoJFwX3elGR2g23rAAAAAAAAADgG/ocwAc7e9KSinjfpRrxeVDD6VzT5hTszJ/npknUETGRbfU5t15aeXw268RTRNYq3hOe+PPxbfjpH22OK56y0r/ZjkgyZdHt+mXS+0Ea7+gciWnlzrOdrDoMtuXNb+iv54/Ecl/fnSI3bzpR23rOKo/Ppm9kSavjvLK2ZXtcqaYvyGxZpHmvE1DRQK0OcpbyrFyYdpfZ0JHRSWlZfZrudGVuUTb2k5+3VlCZbfpP3311+qxMeXdt5blupPXVPNspqr8OWh53+eDXBJv3nXD3yKqfQQXnqF/Per+P67Nfzl0d/eo81pGtnXXzXZ9VfF/x9ziVtp2iy2NDz/Er1XLqNSZVgde6OL+f9pv63U8FLZXzkboDAAAAAAAAgKEHgH1TZ91vSfVL3Xr1MEj1Oj+/Ls1KLfrl7tTZxC/Uz50pmxGUfgbdcrUu9TN3OtspV2X1ar5vY23Ko196r8r1TkpGbx0NTPh0nd3aVGR+1/Wm96THdm7IrOPSMrsjJr0yezvS9JS5Ugc7261feihLSw1plWdldfWM3NH7oYC9e1yd1LyJ7WWxHat2V7otd4dmvXCKS3905GzsG/eLV6pSbjXkVvfgrlSmnmf3ZMkpk2kTcfYdH0mVUh6VdVzhgIkJluhzfkAjFDgqat5Qq/ZSGceV6dwZpyVa4k9VrIGM27q9hra7/QhWP5By+OBcJBg9jKBaUWX2pfWffvtqv31Z2Vw3bM7BrO1Y97EMup2s66pKK0+h1wTL9x09hzvt3l0/hdFzdMDrs59SXtMI62UlPEXD3NxKEBC1aQt3X+nvcVnbKbI81i6ed2qsJXtpufcjzok2eTAPe8HXDZ/ZjpeWei7tBy4Xr0i13JJGj86c9CM7AAAAAAAAABh+APjggRx6d/2ROM31TqpXHcFyTb9FrlwyI2DuP+xEv9zRMe7IGB0NdnYq9KWsajVkyUvpqNu5pykZc3wba1Mes2xrJRJYje9Ly6YpIluN64OPUlQpx6X7uuAOR+qMZvJSVvpB9jyad256gQ1nm3u3ZDvSXv5xdUZOaXmSRhylb8eunn0aFPBTbbpfbk+JHlpQF6G0m34AUfefO7Wy1vNl93Xt9r7saJ7NhJFUvcpjc1zhOV5NsCQ0t+Pc4kah6aDztJfqdVx5uYEMN0XztR1vYU6V2nm5FwSxegTjC1REmdP6T56+qsEuP/Bdq7Skcb2PvqxSrxs5zsGM60+ePpYm67oaSClP8HjAa0Lu952g3XuUuSBFXZ+zFPUeZ92mGYrajprWBnRq7YFl/PfijVrPgHEh1w01fbUT/A2nn/ZpEN+7Jujcw6n17qWI7uf9HwAAAAAAAMDkGn4AOJzS1BuJE/4u3bj/0FnqjqQ5eHCo3/KKfs07fWHWWdo9uisw6HyqFuXxxVMuR1JfeikiD22/Yc6SclyJgUozQqif/UePvfv17kgoHYEXPva67iwiYzs56lmkKaFMm2auxcXQ6KjtWzoaripX/Nig2Xb0NdZi9Wz6XlcQNKU8uY5rFGzbS6XXswZ8NP1ueDuJaUov3JBdExC5nBoYyhINTO7LTZ1gM+HHAYXIKLP1sWf0H9u+Gv6RwPzSnszWd6MjL/ssT0Sevpp6XbXrY7ZlTr2u+lLLU8w1YaTvO9aKuj7bKeo9zqpNLRS1HaP1UOJdP4nuU/eTGHAt6FpnRnanBX9V6IdCOvr5UNs4Y4T9sH6EAAAAAAAAAOB4Gn4A2KRPtPvi2DABCTeI4rxUGusNkdkLMu192W29nQK5Xwp3Ui7rzYzmPFIVqe268yfqCKHwaM6iRdN0+rdOus6R8kY7Vbx8l1nzx55ERbSXBmE3FuPbCKUp9QKH1aqmnw0FRGLpUm2NZPSaZZkzj91WH31VA/Ea+w6PaC2sPAXK6mM2ZS7sulrENWEM33dsFXG+F9UW47adgBfcT+NOraDB36XI6OOir3XODmRJD8YypbXtqO7IKHUAAAAAAAAAJ97QA8D6Zbx+4Wmmr/O+SO0aqGK+SPVGbAUpLi/K+ak92dnekT2ZFXcwVh9ftqaxKI+fTjSScjnOK3M4iBW8rmA6sk5TQMe/9B9O8Pe+aGZUP7DSN5t2t9QZHapfhmsdN+XOzWKCM3lThRZ5XMUoqL1seEG3+Hlh6rDlnLfWTeKWOT56LXdb2CiszMniZR5mX82tsL5aTB+zuq5aKqSeR/m+U5gRtoXFe1xRbVpk31DJmR2iNA27GTndXI8Gf9Uwrhvb18y86zp6e22hd1DXStEZSAAAAAAAAABMhKEGgN1RPJ05Lf3RbZXajWAki37Ze6MWHrGlX2qXZXb1kkzt7Tiv05THIlV9XHBAyL48zj9TZ4MRee5xmbtGMD+hN2rPbGNX5xEcnlEE+TSw4qabrg30JbVdPeewfU+aZgS0U8cFBQl0bsfVajlXeQo/rgEV1V42OkG3zr78Okyae1XPGZPKNZbGtLOdTrpnrUOdr7bfOszel12Z8+jZf3L2VQ1E6bVl0PLEFdVXi+tj2dfVXCzruVffGOX7Tljv8mTL1RZeADf5faOo97gcbTpgeXIxfaN3Sm895zSLhgZ/k1IyD+u6sb+xaEY1V2q7qe2XdT10U5YfxQ+OAAAAAAAAAIyzwgPA+mWm+ULbudWmGrIUTpno2FrRVI6h9MW7NZkKpVzUL1vNdIxlkT1vaM3Bzp60nAVly3n8fJrS0d1H3cyRq1/gumXrzEVpU56b1905JuveOpceLpnRO2Hb15akIe46ug1Zn+9ax6Y8WcJfRruvDd36CCJk0S+p9TjC7drPvrLqOY8gJaa0pGGGlvcpVIe79aocOm2WtzxFHZdN37BZp6j2sqFz186vN4N9+XUYH42uo9bN4NgedDtLDZFqvXcd+oGyrHPHZl82ZbZi0X+y+moQAPS3Yy4dw0nnXlRfLaKP2V5XbdlcE9L6xqjfd1RWX7Vh2xZaP9eck6wV6rN3766ZHwMU9R6Xp02LKI8t3ZcJXlevBD9+8GkbXL3kRZYjZXFvfmC20OtGiKlT57B0u5EgcPja4tV10nmq5deMIEWNlgYAAAAAAAAwOUqnT5/mW8NjREce3a5XRWKBG395EV9KHwcaZKnP7snS5fwjsMyX/rfrUj1MHvEFpMnbfwbpq7BHPaOXYMRyj1G+x5Xp89VDWZ+/RgAYAAAAAAAAOMYeP34sjx498h4VY+hzAGM03DSQ4zpXZbHc+RolSC0OjCv66mhQz0gTHnG8uTzjLT3egj6/RPAXAAAAAAAAQDdGAB9DwZyFES1pLEXTbU+azjyQyceaPC9lt+b6kjy8xAhg9MdmBHBWX0UxqGfk4b53akbl4x009d/rNDX0Scj4AQAAAAAAAEy6YYwAJgAMAAAAAAAAAAAAAEeAFNAAAAAAAAAAAAAAgJ4IAAMAAAAAAAAAAADAhCAADAAAAAAAAAAAAAATggAwAAAAAAAAAAAAAEyIsQ4Azyxvyt27d+Xu2oK3BLZKC2tu3fm3MazDhbXJadsi+2qwLe+2tlDynnEN47yYpLawkVaHRZ87x+k6Zsq6uSwzpWifO+5GeVyj2lepNCPLm8X0q+PY7sehzEd5XbWpn3H7nGBTnuPYV8fNONVhkdcxGyf52Eep6OuP2V7COrZ1WHS79yrPJBunc2eY3H65Jgs9jjNoe+8W/xsNJ1dW30i7bozy81iptCBrCeUbVNa5c1wMq34AAACOkgkAmy8pwx86ndvm8oxZYRy0Ht737h1/pZll2RzBh8r21orMzc3J/PySNFreQuSWt70G7av6x1O9KtJYmjftp7eVrbb3bNQknRdFKaK9hnXuHIf2Orh5R5rlqly56C2YEJN6XCfZJLdpEZ8TbOpn3D4n2JSHc3lwo67DUX3utXGSj70rwHB3U5ZnksuVK1CRsJ1hXX/6/Rw1rHbvVZ5xanfY03a7XatIq3FLttrdf3vl+RsNJ8ugf7+P8vNYu70lt5ydVGq7hV2jks4dP5Aafb/o3PLuO/7e0+93lVnbGUb9AAAAHLXOCOBWQ5bm3Q+t8+tNKVfrR/6hZ39j0ZRncWPfWwKMp6L66sXzFedc3JOdA29BAs6LwY2yDo9Te+kfvfeaIpXzkxVdmdTjOslo03Scy+jlJNfhiT52L8Dg35YaItX67Ujw1g9crsqdnkEIm+0UXc+Dfo4at/Jg/Giw6ka9KuXmes92tfkbDSfTcfv7XcuyZIKcNwYesdvr3NHr7or3PhG+6feMTmVJnt/zaNB2t1aR5rr3XaX7xpM7CGy7nSLrBwAAYBwkp4Devif60Ywv2IAjcPhA9hN+eQ6Mwrb5lvRSz5FBx9WkHtdJRpum41xGLye5Duk/LjMqVspy5pz72P0Sf1b2lubl8k37b+bj2/GNWz3T7kgzffWSVJyevH5t21vSA3+joZdj1jfca3dFajcG+77P+txxaNr+q5cqIs07srFvV1ed16wHo6rb+xtyx7mkl2cvWKelz7udouoHAABgHOSaAzieMsUuNVhnvV5zNcXnybPej5mLKJpeJj5qOW1bwTb8dfS+9+v3+Bwmqdvxjkt/PRiZ/yU0V5K/fFd/Iek81rQywXp9zJcSn2cmqY6yFFGHPpvyxLdTcz6D+9zXd6eR6zeNWleZE+o4rcy27WVTN8qmPFn63lfOtgjz66GfNEs254UvrX5srhtFt1cRsvaVp35sRdP5J6d3zGzT7VvSaJVl9sK0t6DD9hqu0trUl1lH+nw/16ik8yvluJTtviJtpbeMPuRfw+LtkXXsyuq4HEX1H1+8zDbtHtSfX2a93+P9NKsObdsiq01V2r5szsE852m8vZKuq2nl8Z+z+ZyQtp2ARf3YsNqXI+v6Y7udTBbXqKz2su1jNmWOHnfn5l9ji9hXnvMr3g/zXg9t6tBdnv6ZzX+t7efeXvvypdZPjvP0RB972PRZmfLuKne01qL1l/KB2HYCBVx/uvpyyjUj89gtypN17mSVJ0+75zm2JHnaPa3/hNl8hvT1+mxjs6+sa6ayqZ+s9rKlP364Ui33TP1sw5TF1P1orvNp8mwnrZ7zbCer3bPqx319+nXVhu15kVUen01/zpJWx3llbcv2uJRe8zXVsVTO93XeqNznzsUrUi23pHErO1gcmL4gs84FtXmv8xrdrw66lvKsWL/F5NxOEfUDAAAwLhIDwO4v+aIfzvQD5W5NZN1PEz2/Ls1KresPhd3aVGT+E5PlJSfreVDKVam7hTLrx1O12JTZbOPSQ1laakjL+fC3unpG7uh9pwb8AdBW23Fo2uz6mTuddZxtr151P036aX801Ywekp96xr2t5PqDU8uzKteD1/vlCf/hbK2AOrQpj7ud3n3DH0EQ/2Lm4pWqlFsNyfN3gv6xqPPQpNVxVplt28umr2aVR8vi/4FmAgZav/4fbaE/WK32ZdleRZyntsx5MbtnUsybsovT50K/prVpryxFtldRbPeVdt2wpX/A6h/6talQKv/56yIX8v9qud3el529llOuK/1/IWB5DtpcVzOvUZb9x+q4LK6Hea69pmz6RXBz3Vm/88W61Xlqe144r+ucX/31n7BeZbai9WfxfmpVhxltobLa1HZfWdcolXkdM22afl3NKo/tdcz2uIo4l/XLz3r1ML2vWlx/rNvdgs1x2bSps1JqH7M5dl2nVml21vEaXdsukuaxiGuLzflV4PUwrQ5tPrPl+tzrHGvadcymLZTN++lJPvawfj5fJ+m1nSKuP9af2RLqMH6+Z5XH5tzJKk+ea3jWZwBbWdc6m2tL3s+QaZ9tsvZlc820qR/rz0g2Lp4333vsJeTv1bLY/I1maL8b8D3FbCPjOm/FYjtW/dBiO7bXqLT6KfJ7AJV1XhgDtpdt3yjqb0+r9lIZxxV2sLOXv2+FpZw7cRqcNyNw86ZRP3fG6RmdlNHm3Nfja2g/7M4+0VMf2xm4fgAAAMZEJwBsPiy6v1R2P+xe7vxB531gC/+6L/6ruM461/P/enwA+oefn8bF/ZA2JWedvx1syuxr3rkp7ufQssjeLdk+eCCH5nG+7TgryZKX/kbX0WxjZetPpfb0D4n4HCuD7GvQOswqj03fCF4TSsHj/ypT2ydXSqXYB/wkRddhqozy+H8Y6s18D2K+UPG+zFjcsD52m/ayaYsw/8usyBfZeel5cdltQ/8LuMi5Y9FeE62A60aQfsurZ6V1vbGxZe6H2bSpn/aq7z94M9o013XV0esaZeToPzbHlbavXNeN6audL0hXOu1gfey2xxU5vwa8jvUocx5p76cqTx2mtrsnrU2t95V1jVIp69heV4t638mznUHOZX0P1pEdzfVrkb56Td+oQqlUba4/RR27L/O4bNrU0fvzT/axa7tfcIeTBOu4owxFpuId1VHEtSXr/Cr0ephSh0H5ivjMplKuY7b90NDtWLyfntRjjwYsWtK43kd5HbbbGeT6k0usDnt9lkgtz4g+i+b9/JMppa8qm2tLns+QaZ8TsvZlc80s/DOShemzOob9UB4kBKX0mPy/yWz+RhvkPcWXeZ23lLadPP0wfTs5rlGOXvUT9JWhXFeH8xkgb98YRN7rRtrnjYiDHdGqSfrMYiPt3Onij8Dtpz097o9P3KkKru14C/tgvZ0B6wcAAGBcdALA+kFZfyVpPsFW5FLkV+Pn5IzzgU1/Ten/wa+3uvPBOOB9qDu0+gRYlKaEsriYeTwWg18iW5TZiP7x2F1+2+04Rjj3Szx9lvnlaV+KqMOM8lj2je1b+uviqlzxv5gxvyqNls+Kl+atWtcfNPROYVZcHWawLM/gxvQ8jZ0XBw/0a4PQH6Ijq58xVcB145w2fPgLtQH5X8T0PQ98ZpvmuK6mXqMcOfpP9nFl7Mthdd3QH1T1DKRaHrvtcRX1vpNaZltZ76cuu2tvdluorDa12lfWNUqlrZPjulrU+47tdgY6l72RHV1fsN9/6CztjJawvf4Udewq87hs2jStj1kce+KXyia9YVJfKOLaYnF+FXk9zKjDwj6zqbTrmGU/NNK2E3JSjz0csJhf2pNZp5/0NQrfcjsDXX/yyGgvX2p5RvZZ1O4zgAZ8NJVteJ3Eclkce9a1xfozpMXnhLR92V0zC/6MZKv1UOKnWX6Dvae4LK7zVrK2Y/s5PGM7ea5RGe+DNtfVIs+LYtprVAr8uylB0g+lrFmeOwNnnbhwQ3ZN0LYzSKUvfWxnoPoBAAAYA10poPWPeo0BJ6XI0l8T+n/wd259plsakaLKPE7Hrn9ch9Nn6c3E7Yck69gLK4/3K0v/i5mL550/vUK/dLVlfrW+6KdaSv5yYJR1aFOeIh2383TU9TNp9MsQ8wPsgpkvYhJ+vW/Dtk2L6Kt5+88gx2V93dAfVOkTld4pbrOOfeTnhUWZizCMa2+vNh31e2WWosqTdzuD9PksttefUbb76FWk5mXQ2a1VzLntj7yxVVT9jPJ6WNRntqNyko9daVDgjtPHwiPu+pG1naM7T5NHpfUqz6jfc20/A0SfTw/iJMm6tuT6DJnxOcH+OpZ9zRz5Z6TyGTmJIZ6seh4pi+tqUefFcTWs9mp1RbpzsDh3dMTtpYpT/n5G/3pB92pVs1qHgrZ5swAMsJ2B6gcAAGAMJM4BvK0/j3b+OOuMAr4vD0MfyBN56YDCKVL81D1phhW8sCqzlaK2U4ygTgsc7ddb9rFblceyb+gfdTf1WyTzy3B9vil3bvb7y+eELwe8nxSPtg47epWnOMM7T4vUK11UnvoZ3nXj+NF6Mz9sT0gBNhDzRUz3fFxxaW3Ru02Lv65a9x/L44rLfd3Yvmbm3dJf668thNsl37EP/7oR0rPM3fo5B4d27U1o00H2ZZPSLrKOxXW1qGPvazt99vmeI13Ml2XuCBOb688o272XXGkKlcWx6zmg6UzjX8jmDf4Oo36GcT2M16Huo8jPbD1ZtEVfTvKxj1K/158BmPbqNSotozzDf88d7t+V4b5qc22xuYZH9PicYLMvu2vm6D8j9RoxXqixO5cL6ocFHtcwr6vD+AwwWkO6bgyYGcz23DGjf/utN3PNdv6NXVvc63yO+YT72c6RZDgEAAAoXmIAWExapc6vufUDuZuyqdbzS2E/rZb/Gv1D8MZuTfRvQV9nO+4fmfqH4NXbdZP6qWg2ZbZR1HYC3hfF/X+Ad/8AkKmzwS/t3V9cm7uFsjv27PLY9I3A9j3nzwP9ZbjzfGFfhrppkzq/3sxRhwO3V5J4eYpR1HkaNrO8aX6hX9SIQP0F8KpzwqePlInWT67rxlDaa/yZES163tzoHLfW0/Lygveow7ZN/XoPZ4PI1RYRvdq0oOtqRPr5lXRcdvJfe3W+ZXewzG5wnP0f+3CuG3HpZR70vXs471/JbdrfvmyuUfF17K6rRb3v5D+ufvu8P7KvUrsRvM4cm7OzcP1kX39G2e7d7N53omyPXQ3+fjOc+nEVcz3sWYc2n9kGfF/O0xZ5nORjVzqPr/axQeZjVFnb6ff60y+/vQYvzwDvuSnt7u/fadTCP/9091W7a0uez5Aq6XNCnutY2vnQf/0M0F7mXB7ujxSGeS73o6h+WPhxDeF7gGF/BhiFYV03pi/MDhbQtjh3tP519G9Wven1Qv8+vbsWve7osd90GyM49rTrfFHbUQPXDwAAwJhIDAAHH5BC87DoH3v6i1/9Y898qPJvoQ9X29eWpCFVqe/uyq7zwV3W57tSPx3cvC6Nln6w13XqMru3ZLYb5gco9HnnM5n5oObuL19qJ5sy2yhqO0q/KL62pOnH/GPS25r1lyKmba47r9d5mLz0WZceHl0d2pYnqW/E11FaP7fM8pY0+pwkxj92/6b7m2osyeLGvnnetswqq71s6jmrPLZs9tXveZp07IUJ1d1uvSqHzv7Cx25TPzbXDVVkew167hS1HRv6RcXl+XVphut6d1VkZ7C/WA9u3jFfxIS/q8tzDe+UpbtNi7qu2uwrLum4suS5boSZ881ZRY/T/8LB5tj7Oa6iJJXZ9hxM028d2oi3aa59hc+bhGuUkbFO1nW1qPedfuswqc/bXKO2VjSFp9vu7rrd/TDr+mNb5n6umT3P5Yz2spF17Oa4vC8T/X0FtxzXsX7bNEmh10OLOrT5zJb1vmzDph/24yQde/CluHdzNuNcpqKpd/110s5Bm+3E9Xv9yVpHzx0/KOIud9b12qvf8gTbSahn22tUVrsX+Xdl0rH7Zba9tvTzGTL+OcFmX7bXzFF/RtL2Mj/iGvKPFIZ1HetXUf2wyOOyua5aSTkvbBV1XEVc61Sh1w2H/shDR+QPkn3E5tzxR/+mjebWsphB2j3oFHXz685V2zv2Xtf5orajiqgfAACAcVE6ffr0UD/R6BcFNVmXuZUtbwmQTv8Iqs/uydLlwUYl4GjpH05mlOAh5/9xZq7hU42JOx8n9bhOsrxtanONmqTr2Ek4lw9kemTtpSNHbterIrEvhP3lWUGocTJIHR73z2wn+dhHadyuP8f9engc35vG+ZppRnfu6qjT4/9ef9wNcl3lb097pp6rh7I+f22gAOeknjtF1Q8AAEBejx8/lkePHnmPipGcAho4IppKznw3cJ0v04BxYFIDlmdlhNP3jcSkHtdJRpum41weDTdlYEuGnK29UP3W4SR8ZjvJxz5K43aeTur18Dgah2tmeNR2UdPeID+uq6MR1PPS4MHNSTx3iqwfAACAcUAAGGNBf4lvUvHUppwP25dlY58P28A40NSAi3OLE3dOTupxnWS0aTrO5WLpfi+vN6VcrXdSMTo390vD4/U5Jm8dTtJntpN87KM0btefcSvPSTDu18xO+UYzXzU6uK6Ojj+XcXO9uHqepHNnGPUDAABw1IaeAhoAAAAAAAAAAAAA0I0U0AAAAAAAAAAAAACAnggAAwAAAAAAAAAAAMCEIAAMAAAAAAAAAAAAABOCADAAAAAAAAAAAAAATIixDACXFtbk7t27ndvagvfMaCysJe9zZnnzSMqDoxe0vXdbWyh5z7jS+sZR92fgJCuVZmR5M/u8G9Z56m53TRZK0WvGqJhr0+ayzAy4/1JpQdaceolf+wAAAAAAAAAA4+dUaWZZNsNfepvbpizPHN2XvO2tFZmbm5P5+SVptLyFY6T18L53DyeBBnDqVZHG0rzpl3pb2Wp7z0Yl9Y1x7M/xYNfm8oz3TH7xbSUFiIr48USRZR5UvCxHfc3E4IZxnur76+1aRVqNW7LV7lwz8vSfYf/wKAiQR8rTfX6121tyy6mYSm2XIDAAAAAAAAAAjLlgBHBzvRPcWmqIVOu7RxpgGUf7G4umfhY39r0lOAkunq+ItPZk58BbkOA49Q0NPu3WKsE5P++e8H2d7zpafrcmsj6fHBz3f2CyKncGCqoVWeYi+MFC/+YW5zZBYAR0xOyNelXKzfWu64JN/ynq3LHmlNMvT6/zS69zSyYIfOPIRjQDAAAAAAAAALIlpoD2v+QtV6/wJS+gDh/IfmgE33Glo/2uXqqYYI8fqG3vb8idpkh59kKuNLEalK1VmrI+fy0yutHnBsBmZW9pXi7f7H/UfJFlHpaDm3ekKWU5c85bgBNv+uolqTi9Yv3atrekt3j/Kerc6dvBjuy1nPMroUO7Za1I7cZFbwkAAAAAAAAAYNz0nAP4YGdPWlKR86HveOPzoIZTUvaaN1d15iB0U03qqKLItvqcnzCtPD6bdeLpOGsV7wlPV7rO2Db8FJo2x2XqKbwt72Y7ktGURbfrl0nvB2m8o/NMppU7z3ay6jDYljdHpL+enybUfX13ilN/hJttOlHbes4qj8+mb2RJq+O8srZle1yppi/IbFmkea8TlNJgkw5ylvKsXJh2l9nQkdHx1LZhmjJ2ZW5RNvYHDJwXVGab/tN3X50+K1PeXVt5rhtpfTXPdorqr4OWx10++DXB5n0n3D2y6qco2j+vVMup50dErP8Udu4k8Ou437TlfipoqZznB2IAAAAAAAAAMKZ6BoB9U2fdr8/1i/N69TBI9To/vy7NSi365fvU2cQv1M+dKZsRlH4G3XK1LvUzdzrbKVdl9WqOyJPDpjwa7FiV6520lt46Gpjw6Tq7tanI/K7rTe9Jj+3ckFnHpWV2R0x6ZfZ2pGltc6UOdrZbv/RQlpYa0irPyurqGbmj90MBe/e4Oql5E9vLYjtW7a50W+4OzXrhNKH+6LbZWKTu4pWqlFsNuZU9QC7C1PPsniw5ZTJtIs6+46PRUsqjso4rHCgzPwjQ5xICR0XNG2rVXirjuDKdO+O0REv8qYo1GHRbt9fQdrcfweoHYA8fnIsEo4cSVCuozL60/tNvX+23Lyub64bNOZi1Hes+lkG3k3VdVWnlKfSaYPm+o+dwp92766dQF887V9GW7KXljQ8ZpP/kYc4dLy31XFqA+eIVqZZb0uhRoKQfiAEAAAAAAAAAxkfvAPDBAzn07vqjmZrrnVSvOgromgYwK5fMKKL7DzvRL3eEkTu6SEeDnZ0SafnRG9VqyJKXFlO3c09TueaI4tiUxyzbWokEVuP70rJpatlW43oxI61Sjkv3dcEdxtgZEbZ9ywQN/SB7Hs07N73AhrPNvVuyHWkv/7g6o8+0PEmjttK3Y1fPPg1k+yl63QDBlOihBXURStfrBxB1/7lTK2s9X3Zf127vy47mKk0YjdarPDbHFZ6j08TpQ/Njzi1uFJoOOk97qV7HlZcbDHLTzF7b8RbmVKmdl3tBQLFHML5ARZQ5rf/k6avRHwm0pHG9j76sUq8bOc7BjOtPnj6WJuu6GkgpT/B4wGtC7vedoN17lLkg07pz50r6ICX+W1j/sTV9tRP8XdnyFobojwG88uh826nvi16K6H7euwAAAAAAAAAAw9c7ABxOSemNZgp/l27cf+gsdUfgHTw41G/TRb9On74w6yztHt0VGHQ+VYvy+OIplyPpnb3Usodp39LnkXJciYFKM8qqn/1Hj7379edEB7/pCLzwsdd1ZxEZ28lRzyJNCWXoNXO0LoZGmG3f0lHGVbnixwbNtqOvsRarZ9P3uoKgKeXJdVyjYNteKr2eNfCl6XfD20lM9XrhhuyaQOrlgX78EA1M7stNnZg34ccBhcgos/WxZ/Qf274a/pHA/NKezNZ3o9kF+ixPRJ6+mnpdtetjtmVOva76UstTzDVhpO87ebUeSrzZwrL6T6Gceq6nBX9V6EcuOkL6UPtKxujwYQXQAQAAAAAAAACD6R0ANmlX9Ttzy+CkCUi4QRTnpdJYb4jMXpBpL/BQWJA1Bw1ShFMu682M5jxSFant7pqgiY6yCo/mLJpu2z/uzm0lCNiNlDdirOLlDM2aP/YkKqK9NAi7sRjfRijVqxc4rFY1FXAokBpLs2xrJCMALcuceey2+uirGojX2Hd4RGth5SlQVh+zKXNh19Uirglj+L4T8ALTNpL6T6F09LMZNd6dqjuJ7ejwyAhrAAAAAAAAAMDY6BkA1i/j9UtjMwVg0mgzZQIw3oitIHXwRTk/tSc72zuyJ7PiDsbKH1hKZVEeP51oJOVynFfmcBAreF3BdGSdpoCOB2CGE/y9L5oZ1Q+s9M2m3S11RodqQEHruCl3bhYTnLFJtxpR4HEVo6D2suEF3eLnhanDlnPeWjeJW+b4CMDcbWGjsDIni5d5mH01t8L6ajF9zOq6aqmQeh7l+04OyVkJjtj2NTNnuI4CX1sYMMhcdPYMAAAAAAAAAEChEgPA7givzpyE/uikSu1GMBpIAwE3zDyB/ogtDTCUZXb1kkzt7Tiv05THIlV9XHBAyL48zj9TZ4MRVe5xmbtGfB5Ks43dmgwh/hsYRZBPAytuuunaQF/029VzDtv3pGlGQDt1XEAASem8n6vVcq7yFH5cAyqqvWx0gm6dffl1mDT3apDqN5YKtrOdTrpnrUOdr7bfOszel12Z8+jZf3L2VZ3PVa8tg5Ynrqi+Wlwfy76u5mJZz736xijfd3Ixx5WSjjpmWP0nbn9j0YzWrtR2U/tB1rnspts+ih/LAAAAAAAAAABsBAFg/ULYfMHu3GpTDVkKp1p1bK1oms9Q+uLdmkw1lmRxY988rwEGMx1jWWTPG5J3sLMnLWdBOWMuxLiZ5U1vH3UzR64GLdyydeaitCnPzevuHJN1b51LD5fMCKiw7WtL0hB3Hd2GrM93rWNTnizhIJb72tAtY57FfugX/Xoc4XbtZ19Z9ZxHkFZUWtIwQ8v7FKrD3XpVDp02y1ueoo7Lpm/YrFNUe9nQuUfn15vBvvw6jI9G11HrZnBsD7qdpYZItd67Dv3AXda5Y7MvmzJbseg/WX01CEj62zGXjuGkcy+qrxbRx2yvq7ZsrglpfWPU7zu2gh8XVa8Egfswm/5je+7kZd7znCrXfhAJAofPC7dAiX3Mz2ZRxChwAAAAAAAAAMBwlE6fPs03uCOgIw1v16siscCNv7zvYNYxo0GW+uyeLF3OP9JNAw9Xb9elergucytb3lLATt7+M0hfhb1JrWczUntXRzZP1vXKtFf1UNbnrxEABgAAAAAAAIACPH78WB49euQ9KkbPOYAxGm4qzaObq3KUNM2piYF7qcWBcUVfHY1JrmcdBXxtqSGtSk02l2e8pcdb0F5LBH8BAAAAAAAAYJwxAniE9Mvz3a7JMlvSWIqm2540msrUPezkYw1GynmPe2muL8nDS4wARn9sRgBn9VUU4yTVs3vd14zKxzto6l+nNTX0SchWAQAAAAAAAACjMowRwASAAQAAAAAAAAAAAOAIkAIaAAAAAAAAAAAAANATAWAAAAAAAAAAAAAAmBAEgAEAAAAAAAAAAABgQhAABgAAAAAAAAAAAIAJcWwDwKWFNbl7927ntrbgPdNhs45vZnkzc53jpOj6GWcLa+NddtO3NpdlplTylgDDE1zLvNvaQrTfpV3rJuWaAAAAAAAAAADASWYCwCaAFv7Sf8hf/pdmlmXT2X48MJFHe2tF5ubmZH5+SRotb2GMzTpxrYf3vXvH27DqZxBFtDuA3jSAW6+KNJbmzbmtt5WttvdsVNK1btTXBAAAAAAAAAAAUDwTAN5acQMF80sNaTn/BcGDlS2z0kmwv7FojnlxY99bAgDHy8XzFZHWnuwceAsScK0DAAAAAAAAAGCyMQcwAEySwwey304e9QsAAAAAAAAAACafVQC4VJqR5c27srk8E51fMmFe0645JO+uyYK3jv/a3XpVys7jSm03cT0Vn8dyaOmoM+a8zHPsvVJp62vzim5rU5ZnovsaVf0o23lBe5U5T7vb7Cu+Tq3iPWEpT5va1nNWe4X5qbDj69nsy6aP9VOH8Xbw+WXqpw+bfWid+vvS+8Gx27d7nu1k1WGwrdKCrIXW89OSu6/vbr+86ctt+1hWeXw2fSNLWh3nlbUt2+MCAAAAAAAAAADFyzUCuFytS/3MHW+OyHVplquyenXae1ZMkOR2rSLN9c78k3NzK7LljUbzU4+6qaal53oaPFiV68FzZl+VWl9BqCy2c15mHbsGaGqVpqzPu8c0v940y/UY86RaLXkBk9pUQ5b8bc1fF7lw0VvD3Ve9etjZl1c/gwR0etG22K1J6r6yypyn3TP3ZdaZisxx6lV1bqZNZ/dMmU37S1XqNzr1bNMPbdorzJwjGghvrjvrLsrGvn2ft+ljVnWYcZ4WyjlP6pceypK2fXlWVlfPyB3TDypy3qsimzLbbMf6vNBtuTs06y05J36ldsMEkg9u3pGmlGX2QufcVhevOG3WasitbW+Bpaw+ZqSUR2Udl9afH2A1P4bQ57zH4YBzUfP7WrWXyjguAAAAAAAAAAAwHPlSQLcasnTNjYC021tyrylSPnPOPDbOnZGytOThfe9xnzRQEQ6aJu5r1FKOXUf7XZgtizTvdYJo27dMkGXqbDSQlGX66iWpSFPWL98M0ri22/uyseHOx6wBxyvVsjTXrwX70vJc02Bg5VLqyNO89LiuXqo4h34rsq9bemCV80EgJ6vMNmz21VnnehA4HYi2qVdmLe/OXvS4bPphrmOfvtoJ/sbm187al00fs22vPOdpEfPFNu/cFHdKWqf8e7dk++CBHJrHOcrsSN9OvvNCg98rW+56Bzt7Tm1MiVZjUO+zF4LAqW5bp9bV/edOrZzRx3y9ymNzXH5gV2/mNwHmxwVeYH9xI3+ZU+RpL9XruAAAAAAAAAAAwPDkCwBnzS1pAlJlqdY1xW96Gtws8VS3edP8Fi7l2BMDOxevSLWsL3NDVrbOnYkF+eIunpdKUvDu/kNnaVmKjZGfEy2OjmIMt0VdDywks8xWLPY1fUE0Bpq3TnuKtenBAw0nRgNUWf3Q+th1NGSP4K8vbV92fcyuvYo8T7NF+2p321mWOWs7uc6LptwLjeRt72/IYmg09vYtHWVclSv+QF2z7ehrNBCqKZ7DZU6sS4s+llqekZ7vNmzbS6XXMwAAAAAAAAAAGI58AeAMZuTjop9itP8AkwbCwqlug5FtY68itV13fttdL8WuP/rNhgaVzk55D8ZINFWwf3NTBhdd5rR9jVpWP8x17DoS1IzaTE5lbt/ns/tYVh0WdZ4WaZzaXQ52xI21uxHgi+ejI16VX4fR8p6c4OZYtRcAAAAAAAAAAIgoNADs6wowBUPpsvnpVgcfUTo6GgjU9LzxoEie4K/SejMDBBNSqQZ6jfwzaX2jI+4Gd18ehgJhSazKbCV7X+Kl/A2n1Q76SwGmTTT3UHRwqU0/zH3s29fMPKg6enJtobO+zb7s+phFHYYMcp4WJ1+ZeyrwvNB6uXlHg/Xarto2Tblzs5hR5+E+ZmWk57uNgtoLAAAAAAAAAAAMzVACwB1uutBWPH+pF8hLDiK4AQaZOhvMwemOjjR3x1oRQRGTflZHed7obEuDf8vLC+a+plE1sanajSDoqAHEG04FxUcpDkoDYW7a4VokYBmXVeZASrvb7Cs+P6s57t2as+fBlWaWZbVaDtWhXT+0PnaPzqnrDgTeDR2nfZ9P62O27dWtx3nqmFneNKONk0YtF6H/MkcVfl5s35OmGW3t9K+CfozS3ceyjfJ8t1FUewEAAAAAAAAAgOEpnT59ut0zwOrNV6oBrau361I9jM5fal4nnWUaLIrPBdlqLMnixr73qEODIbd1TlTvsbMzWZ+/ZgIa8ed0G9dlVepn7qTuy9WSxtJlk4q1iHVuHkxbHXtpYc2k5O2SMudrL92BzU55ffE2i9dzUfWjEteLHZdNmVVau6usfQV90VtFR8TeOns70jeyxLfh022FR9Ta9EOVdezmmGb3ZOnyTTMfbHj//j5t9mXbx7LqMOn5Xuepv26v59O45Z0ydXFTrprjO3SO99r2RVNfTsMH9Z1W5jzbyTov3G3pSzp9rhe3TJLYj7NY9zHL8mQdly9+XQpLrGOj+GtCnnoGAAAAAAAAAOAke/z4sTx69Mh7VAwTAPbuo09+8E7iwSZvuQarwkEfHK1eP2gYZ/Sx0TNBzlDgPo/j2McAAAAAAAAAAMDoDSMAPOQU0Cfb9IVZKUtLEjLrAoWgjw2HjmA18fbr+YO/AAAAAAAAAAAAR4kRwAVxU57G0/Mmp0HG0TquozPpY8PXSbU8WL0yAhgAAAAAAAAAANggBTQAAAAAAAAAAAAATAhSQAMAAAAAAAAAAAAAeiIADAAAAAAAAAAAAAATggAwAAAAAAAAAAAAAEwIAsAAAAAAAAAAAAAAMCFKp0+fbnv3T7yZ5U2pV8veI5Hm+rysbNlVT2lhTXZrFe+Ro7kucytb3gOXzTpFC45pBPsa1FHX4cLaXanJ+NfTSZd1nqb1+aM4BwEAAAAAAAAAAHp5/PixPHr0yHtUjGAEsAZN7t69G9w2l2e8Z04GDQzVqyKNpXmZm5szN9vgr2pvrZjXzM8vSaPlLYyxWWdYWg/ve/eGozSzLJtOv1lbKHlL8hv3OsTRy3OeJvX5cew/ekxFXXvj20o6H4Nr/dqCtyS/IssMAAAAAAAAAACKZQLAOvIxHlS5LqsDBfOOm4vnKyKtPdk58BZMiP2NRdOeixv73hLg+LI5T49Tn9dAqo5I1lHMJjC91BCp1vsKqOp1fLcmsj6fHBz3f6SxKncGCn4XWWYAAAAAAAAAAFC8U6XSgpiYSuO6bOx3ggUaRMkzAnYiHD6Q/fYJO2bguJmQ87RUmpGrl5yLb3M9uNa29zfkTlOkPHtBZkr2P8DRoGyt0pT1+WuylVA3ep2/UZ+VvaV5uXyz/2wARZYZAAAAAAAAAAAMR5ACunzmnHevm37pv7zZnTJUR5wlpRE1y4P0oJuyPNMdFMhaJ55iNGk/XevcXZOFWADCZp00eY99EG5q1oS66CO9clb9+celo/Yi6b83l7uCOGl16L92t14VnZW1UttNXE/F04wXXX9h/fSf8NSwNszrtb787eh9r63ix55WnjzbyarDYFulBVkLref3naL6mG3/ySqPr4i+kVbHeWVty/a4Uk1fkFmdqvjetrdA69X9QY6UZ+XCtLvMho6MbjVuJQZ/Vbu9JStzi5Ef+fSlwDIDAAAAAAAAAIDhOKWBgVuaD7RSk17BWlsaCNBgSG2qIUteGtL5+esiFy56a1ius6ApRjupTOfn16Wp5QsHzWaW5XYoDal7W4kEQLLWCQd5TPDP1IEXzIkFskbh4OYdaUpZZmNRlItXqlJuNeRWJ+aSyXau03K1LvUzd7x1nXouV2X1amf/WXXop9vVNLC6m7S6XpXrwXN+mw4jbaxV/zHrTEXSnq83vSfzcOqrfumhLOnxl2dldfWM3DF1UZHzXpe2KY/NdjRIWq8epm9H6bbcHZr1lpwOUKndMIHkIvuYMv1nds+cy6avibPvG51z2Ugpj8o6LtvztKj5fa3aS2UcV6ZzZ5yWaIk/VbE513R7DW33sqT8JifCD8AePjgXCUYP5RpWUJkBAAAAAAAAAMDwmBHAGsRzA3hlqdbdEZz9BOamr16SijRl/fLNIEVru70vGxtb5r7KWsdPMRoezdYJUp/vBFdigYhEGev4ASO9meBfcz14PLe4MfI0s3qc92KpVP3gTvNOp74K1WrI0jU36hfsPxzFsalnC1rX4TlZE/dVAJv+01knmva8X9o27pS0ZZG9W7J98EAOzeMc/dmRvp0FuVItO120k+JXt3NNO27lUtcPNzQQ76foPdjZc1pwSs5Oh+q9qD6m/cc7l/U83tnrPi7Vqzw2xzXK8zRPe6lex5WXCaR6KZqv7XgLc6rUzsu9IGjdIxhfoCLKDAAAAAAAAAAAihekgNZ5HBf9wEFLzMi+vEHgc2dMbtAgcJIke51zoqvo/oORbM6tXnUWhm3fcsrpB6x7jFy2WWfMbN/SEaBVueLHbS6eNwHzUMbVYmXNp1pgHUbTfudPuWzHov94aWwPH7jh1sFEg+Pd27Tsz1nbMf0gIRB//6GzND7yMtpf3HO7k/7Xpo9pINSkPg+VObH9Y/3n4IGGrONB0JTy5DquUbBtL5Vez9Z1eOGG7JpA6uWBfpAQDaLvy02dmDfhxwGFKKjMAAAAAAAAAACgeEEA2GdG4y66I+3K1StdI9560WDH2SnvQQ826/iiqYT9WyelsF9ON2CdHKC0WWfsHOyIO4jSjc5lze05bEXVoQZ/a5VmkFZXb2Y055Bk9Z9RG6vyWPQxv92j5S1gDtljooj2yqxDL8hdrWoW6VAgtc9R91P9DD3Oq+AyAwAAAAAAAACA4nUFgH33H7a8e8niwVwNdpjBfwlpUn026zh7Ft21H5zK0hWgDIY1dtisk0eeQHZeWlZ35J7Wkabmbcqdm0WMVB3MIHXopxjOGh1eDIv+46VWDgfMgjIWLl9/7qnXiFgTeMs3QnyYfWzanBiHYj24usDjKkZB7WXDC8THzwtTh6092bFuErfM8XTqudvCRmFlBgAAAAAAAAAAw3JK53HcXFvwHrp02Wq1HIwK1IBReG5PDYBevV2X7qzMOo9wRWqheSd13eXlzvaz1unsqyZrC3lGmbqpW1upQ9Bs1omyPfZCbd+TptbRbk0qIwma5tGjDr2ganLgzA1QydTZYN5Zd0SwuVsom/4TnwdXg783tK6954vUf3+O0vTCJmZbuxH8eMKU26nEvkaID6GPxa8bNgo/rgEV1V42dF9uIL6zL78Ok+ZjDlKox67Xne100j1rHercyv3WYfa+7MoMAAAAAAAAAABGr3T69Ol2aWFNdmPROE2BurLV+TI/HvhsNZbkuqxK/cwdmVvZchc6uoNpLWnE5om0WWdmebN73s3merCvpOe1TIsb+94ju3V8JiApne2H2Rx7YnmNzrHZrONz15Wu5bay9nXzYNo9psPoMcfrIU8daiDotlPoztqa8tmdlzT+3LDrMHG9UP+Jt6n291tnb3f15zTueTPl1qdcNcd36Gzn2vZF07+dgw/OobTy5NlOPHAebwt3W/qSznywvbhl6q+P9fohRNd1w7I8WcflSztPR9p/ctRzFndbnYOP16GK1HeoHGHxMsfrMF7HHdFjt9mXTZkBAAAAAAAAAEC2x48fy6NHj7xHxTABYO8+xogJ5szuydJlRtVhOAbpY0GQMPYDAgAAAAAAAAAAANgbRgC45xzAODo6us6MzLxO8BfDQR8DAAAAAAAAAACYTASAx4imaNV5N/10wHnT8gJZ6GMAAAAAAAAAAACTjRTQAAAAAAAAAAAAAHAESAENAAAAAAAAAAAAAOiJADAAAAAAAAAAAAAATAgCwAAAAAAAAAAAAAAwIQgAAwAAAAAAAAAAAMCEIAAMAAAAAAAAAAAAABOCADAAAAAAAAAAAAAATAgCwAAAAAAAAAAAAAAwIQgAAwAAAAAAAAAAAMCEIAAMAAAAAAAAAAAAABOCADAAAAAAAAAAAAAATAgCwAAAAAAAAAAAAAAwIQgAAwAAAAAAAAAAAMCEIAAMAAAAAAAAAAAAABOCADAAAAAAAAAAAAAATAgCwAAAAAAAAAAAAAAwIQgAAwAAAAAAAAAAAMCEIAAMAAAAAAAAAAAAABOCADAAAAAAAAAAAAAATAgCwAAAAAAAAAAAAAAwIQgAAwAAAAAAAAAAAMCEIAAMAAAAAAAAAAAAABOCADAAAAAAAAAAAAAATAgCwAAAAAAAAAAAAAAwIQgAAwAAAAAAAAAAAMCECALApZll2bx7V+76t81lmSmVvGePRvstH5QXv+Ij8uLUe7wlxSuV3invvfeCvPBC5/ZL33q0xz2JSgtrnb6lt7UF75mTZWZ5M1IPawvD6WvBfkZQz6Pc1yilHVcR/blUmpHlzezXcu4AAAAAAAAAAIA8YiOAW9JYmpe5uTmZW9yQ/XbbW16s0mt/SD775R+Rz73RLvj11Of/yLtXvHb738j7zj8vzz//vJQX/r58zFveryBoNAYB9HHS3lox/Wp+fkkaLW/hCaOBvHpVOueYc1vZGs455ms9vO/dG75R7muUko5rlP15HM+dbzz1JvnnT3Vu109Fr3WlU6+PPN9rPRvxbf3Cqae9Z/KbPvVGdzunnvOWjLdTV0/Jcx/o3J55d6ye3x19vtd6tk59i7eNq4O9dxW1HQAAAAAAAABAf8Y6BXTpE++R0//2K+W1n/iot2S86Yi+C7NlaTYa0irPyoVp7wnAcfF8RaS1JzsH3oIh2t9YNEHDxY19b8nwjHJfozSpxzUoDf7+oLwo3/Dqn5jbN7Y/L+8qfWF3cLf0eXn/k08F6+lt9Um+Hzxo8Pc3Ss/Kh9vudr7xyeecd6035A4Cl0pfIL/w9JvkR+Sz8k+PSUxSg7/PSFte+t4n5vb5TWfZYikxuPvy93XW09vLv52zns86+/rAKXnK2d+rf+wt7ENR2wEAAAAAAAAADIY5gIs0fUFmyy15uLMje62yzBIBRtzhg6GNrAdG4Tee/Il8w5OXvEeOthtUfZc86y0oRqn0tPx3p5xttl8MAsft9qel8USkfOo5mbbMsFAqPSc//tQz8juvfkr+z+1XvaXD406nsCnLM4NFmp/cfCIv3QxdK5puUPXUn/ceF6Tk1OPTP+zU7U+05ZVf9Rb2oajtAAAAAAAAAAAGZxUALpXeJq986Ufks295W2deXr196Q9JO/YlfOT52Py9/nOPv+SyvOq87JXy73bW+/Kflifetkpv/OnOcr2lzAH8ZCq03pd/UF55bbQ8ebY1qOkLs1I2IzwPZGevJeXZC7nSQPtzgm4uz0Tnik1IJ502L+jCWvRxmNlujvTUZj9m/QVZC+0vPndtUfOU2mwnUjc91unazt01WchRh3nYlGdQtn0j65jy9LEstvVn0xY20urZ3Ud30M2f21yP15fVXkX1C2XbNwZtC2Vbbn9f4ToZT8/JX3D+/2H5vPvQocHcWfOu9Yx8rVmSrd1+SVZf+U/ycyP64UV7f0OuN0Sq9d2hzfFdpLZTLy9/7xN55cFg9VPUdgAAAAAAAAAAg8s1AvjVN/2ifPrZf2TSMr/+D35cnn72snzuzV/hPesGeD/9hQ/kdX/wVZ11Tv9YEHT1Uzq//mO35am2yNMtdz1z+4Pvl1PeF/Tt//T93uu/XV4TGmgWViq9Rz735R+Rzzx7W77A398f/qjIG/5rbw1nnTf+tDx+XnqWp0h++ufW3o4Z4Xmws9d3GuhytS71M3e8eT/XpVmuyurVzoY00LNbE1mfd+eSNetUatGAz9TZxCDSuTPl/KNQnf3X3R2a/S01WlKp3QiCeFblsWCzHV1nVa6b58PrhINZGvS7XatI0yuve1uRrdAxF1VmDabVq4c9t6P78QNyTpHEqbhOgK6PQJ/pG7N7suTsz8wJK07b3LjoPeucO5bzxWZtx4bNvmzawkZmu2/fk6aUpXolegzmRxnOM3duunm3bfpPUXPu2uzLcJZ12sJZR8+3nG1RVH/uz1Nyxvl/S2Kja9vPyg+e+sJg7t7c8/+WTjlt96o89LqKpnH+vz51WuTJ55x9Ofsc49iqpg+fX286TbtbaBuUvtg5/E96D0Ke+dnSwPP/AgAAAAAAAAAmR74U0C/dli94+Gvmbrv9QXn2RZFXn/1S81gDsi994ZQ8/cIPdAK5zjqvfeFDIqe/o2tk7qCevNnZpnxIXnf//VIK9vdRefoTHzT3ddTyy1/0NfLUp/5BpDzPferQKc98MNq4MF765z1/gteDB3IofaaBbjVk6dq2udtub8m9pkj5zDnzWAPNVy9VnFVuBUE0XeeWRqoq501Q9v7DTtQqnI5UX3t2ytn8w/ves/Y0gLey5e7PBLdlSs46h2ZTHhu229HgXHhO1nj9GOfOODXfkl6HWVyZF+RKtezUzbXIdq6tOwWqXDJ17gcT9aaLnZWDx3OLG/nTQWvfuHzTvK7d3jcjzfOUOVDUdrJktIWtrHZPaj9tZ/1RhjTvddrHpv8UxHpfkbYY3rnjK3pu428onZZ3yavyO6H0yu0njyNz//4N5zmdJzjv3L0+N/jrpnH+sZynzFHR9p9fakhLA/F9juoOKy2VzBt2+3fdx6r92515f83cv7/lvKnrPMHfUvB5DAAAAAAAAAA4VvIFgD//sSDY2uUN8/KKHMrT8RG7Lz2Qp2RKXnnOe1yQ9rNTIi/uBsHdbl8qrzzrjloOp4D+9Juc1w2BO9LwUB548d8g2JMzDbSROkL3nOggXh3BGYwkdW71qrPQc/DgUKNMzpp+uQadj7gp99x4tKEpThfnFmVjX8uYXR479tsxKa5D65iRtWHbt6TRKpsUrElpgQsr88XzUkkKbt5/6CwtyxBiil19w7S1F4zPpajtZMlsC3tZ7e7+MKEi5/3Bs96PMhq3Qp3Xkdl/CmS1r4HboqhzML9vPPUm+UGnSVtPXkxNsfzv2i+aeYLzzN0bKJ2W3zDB30cjS+PciwbbNYV6uJ7T+rVeKy/7o7p3O1kT8jp19ZQ88zaRJ7/VTk2x3P5Vb57gd5Tk1IABZwAAAAAAAADA8ZUvADwmdHTvk2e9Bxkiaab9WyjddBGCkYZSkdquBrrcwIAJ9vSZBjpLNKWuf/NS65oApBtAOndGpLHeEJm9INNeoOjQj1IXKLU8OWRtRwNqtUozSHWrNzOyNkRHtG4s+il8ewcfiyozerNtiyxW7b6/IXecZRUvAtyZk9s8NGy2U5TB9tX5MYmtUffn6VNvdIO/7UfynU9e8ZYma7dfkcMn3gNb7SfOdewp+avOu9T7w8HfWGroUfL7c7SO/R/DdDMp0HdrUtFR3vOdTAF5nPqWTvD35V9Jf73Ow5uUIhoAAAAAAAAAcLIUFwDuNdL3ubPyqnxInn3kPS6Apno+9XnnTmoq5z+Sp511XvlTnTmBh8aMNOwOwJh5OAcefRt3XzTDsx/kSmTST6uLcn5qT3a2d2RP/ED04Ol4oyzKYyV7O5py+bwG1UMpfdN0BR+D+WELKnOvkb4m7XF01PSwTGtO7z6ChXFFbaeX3m2RLU+7b+uwe5P22P1RRvOOm1pZ5e0/gxhkX6YtWg+dXmqrqHPQXunU6+VnSk85DftiZvBXlUrPyay+2zjrHljXx0vyO/rPk8/Lb4Re82XOO43Iy/Kv3Idjy8zLXK9KWdO+95Pu3VF69yl55uucOx/NDv6qkvN++NTbnDufbMuTIfdxAAAAAAAAAMD4KiwA3P7sT8pzL4q88vxPBUFZnRf4s89H5+E1Pvcx0TUGCc4+9ce35Sn5GvnMmc42dGTwK295j7mvQeKnXjwUef2PyefemG+0YW49A35uYKavNNA9aCDNna+1JmsLvbap+y3L7OolmdrbkX3zGpGqPi44yGdXnmz2x+X8M3U2qE93lKW5m8Id+ezPfVxYmf0Rp7VOalcN/N1wChSej3VYdHTharU88L6K2o6daFvYydHu2/ecM7Ei56/qjzLi52S//acf/e3Lb4tw4DpL3v48s7xpMhRsLs94S/LR4O9vlJ51dvyifMOTeM7/ZO48wZ+X97f1lztRmkb6nz/l3E5Ffz2ko4b/wRNnfee110/559cXyI+ceko+/OQzXYHkXts5ClrHu05jmx8FrWx5S/PR4O+zi86dj7blpZt2fcGfJ/jluvs4TNNIP/cB53Y1u4+kKWo7AAAAAAAAAIDhKZ0+fdp8s2xSVdZnZW/pclc6Sw2svnzuF+Vzn/9xOX34QW+pyJOpj8hnJGHZ670Hjqf+5NvltZ/4qPeoo/TaH5LPvPWyvOp/h9z+kLzuD3/ABIrbb/lg8ly97UN5zce/WZ7+rFs+E2D+cz8mrwTbiD6vErf1OFpmX+md75UPbX2PfPxvluXbftnuC3dlAjtTDVm63B200UBAvSrSSKjXOE0lffV2XaqH65Gggdm+RJe529W00yE60sxbxw02tYL9uu1blbKmIk0oZy9mFFtNZD0jfWlWeRKfNzplVFnbCY7DPHJe3ViS67Iq9TN3Uvel6y1u7HuPXFn7shUP7CXtSyW1o62gb3QVd15WtjrtklXPNw+mrbZjw6ZNbdsii027+/x9Ju2n3/7jSj8uV8I55z9jua+8bWp77vj89fpqh9LT8t899Qb5qz26yofbn5LVJ22THtqMEPb1CBZHttdrHT/g7PH3EZa1HX+u4i6lV+WfFjy3sNvuye+ltsxI3vc6ty/2FsQ82WzLy7/ddtND6whhX49gcWR7Cev4cwwnefUnOvMOF7UdAAAAAAAAAEDH48eP5dGjAlMpO6wCwCdFvwFgYNh6/Tggr6K2AwAAAAAAAAAAgMENIwBc3BzAAAAAAAAAAAAAAIAjFQsAl6Va3zXzQ97dXC5s3tpxViq9U9577wV54YUXpLX1PfIl3nIAAAAAAAAAAAAAOG6CFNAAAAAAAAAAAAAAgNEhBTQAAAAAAAAAAAAAoCcCwAAAAAAAAAAAAAAwIQgAAwAAAAAAAAAAAMCEIAAMAAAAAAAAAAAAABMiCACXZpZl8+5duevfNpdlplTynj0a7bd8UF78io/Ii1Pv8ZYUr1R6p7z33gvywgud2y9969Ee91FaWHPafm3Be4RJU3LO6af/9il57urJ7ePH1alvcdrtA6Npu1Hua1Cld3tl9W8JZbZZB/mdunr0dXmc+ioAAAAAAAAAjEpsBHBLGkvzMjc3J3OLG7LfbnvLi1V67Q/JZ7/8I/K5N9p9YfvU5//Iu1e8dvvfyPvOPy/PP/+8lBf+vnzMW57HzPJmJ3CecNtcnvHWnFz+DwjWFvgS/qiVzp6SZz7g3N5NW0yiJ5/07ozAsPdVRF9t//YTeel7n8jnv68tr/6xtzDGZh0cb6M8LwAAAAAAAABg3I11CujSJ94jp//tV8prP/FRb8l42t9YdIPmzm1+qSGtcCDduS1u7HtrAkB/nvyKG8R8+VeG88OcsFHuCxgEfRUAAAAAAAAAujEHMAAAAAAAAAAAAABMiNLp06fNsBlN4Xu7Pit7S5dlYz86kqZUepu8fO4X5eUXv11eI/+DfPpNU+4TL92WL7j/fimFUkXrvL3B8+rxj8vpww+au13PhbU/JK/7wx+QU862Sm/8aXlc/hrvCUdoG3FPpj4in3m996B9KK/5+DfL05/tlCfPtkrvfK98aOt75ON/syzf9sv9jSZKq0el6aLr1bL3yNFcl7mVLe9BtlJpRq7erkv1MPo6nbu3Ju4yf53ZvSW5Lqud/bUasnT5ZiS1d2lhTXZrFe+RJ1amtDJ3PRfRlPX5a7Ll7a9rXzmP3ZbZz6WHzrE+kCu7NfH32Fyfl5Utp38VXIfKr4dWYyn3iG+dl/ep95ak9HtteVVK8szXeU/8scjL72vLE2dfOs+lLn/1J9ryyoNQ+509JU//sHNn03ntW0KvTfDy97VFX6n7euqTbXn5k8n78vn7DHy0LS/d9NrSosx56Bytzy56D1R4X94x6q9V9Bj8bfvle/JbzrF4o//StlMUs4+/5JTlX4g8o/vSY/6HTr0mlDGNbR1mHVORbVHkvrq25fDrpqtvxSS1c6BHm/pl077dq81t1hm2XmXQ+XSfcc5QXZanns3r3uY9CPHPi6C/Oq976mdLwa++njjXjJd/O7Qdi3pOatOuPpLRh7LYHnuRfRUAAAAAAAAAjtLjx4/l0aNH3qNi5BoB/OqbflE+/ew/MmmZX/8HPy5PP3tZPvfmr/Ce9QK8X/hAXvcHX9VZ5/SPyYtT7zHP+ymdX/+x2/JUW+Tplrueuf3B95vgr2r/p+/3Xv/t8pqXzKIupdJ75HNf/hH5zLO35Qv8/f3hj4q84b/21nDW0eDv89KzPKPmBgkPZX3eTQ89P78uzUpN7q4teGsUq1ytS312T5ac/c3PL0lDqlK/cdF71qkfE5CdiqSrXm96T3p0nVW5Hjzvl9mf19hPf+2mvnaDrP66c3MrseCvjOzYnYOXurtDs7+lRksqtRuyUMo316ipwzN3OmV2trt6ddp7tlinvq4kz7zDDX6ZuUqdZc8suc+1f7UtT5x/S1/lPvaVnOY89cfOuem0m58K9fM/4dx3ntMAjz72b5GAx9ui+3ryxSJPfbP3nMMPBunzZpu6jvOa565G68+U+c2hdWLbseEHcnrtq/3gibziHZO/bQ0KP+WULyn4m1XmQjjH+YwG1bRcesz/rQbnvTLGfk+RJa3dle38tVnbsZFrXyntboL2Tlv06oO2fVXb9CkNinrLzb60737LENp0DGW1qTlP3xbq85vuchPcDadE1v76s06defX88m85r10sySnvemhTz/75pT9C8dd7OTY7Q5Hn4DidFwAAAAAAAABw3ORLAa0jfh/+mrnbbn9Qnn1R5NVnv9Q81oDsS184JU+/4I7iVbrOa1/4kMjp75BXXlvsF/ZP3uxsUz4krwuNQG63PypPf8Id3WtGLX/R18hTn/oHkfI896lDpzzz8iRnIHBQpdKCXKmWpbneGRHbbm/JNY24Vi7J8swQyhMardpu78vOXsvZ13kTBDUjXC9VnFWuJ45U9rW3ViIjWrXM95wil8+c85Zk6+zrVuTYbzU65RkGf8SvOtjZk5ZMydm8sVutw2vb5m7asfuB8IHmew6NTGs7tye/5yx7mxuk0cevftQ5Yd8RCto4/z71Nudc+Bfua3KJ7cts+83uU2a7Glzd7GxX13lFg0tOeZ4+G2ov3U7dvRvfjg2zr7/k7Ou3ovt69becO96xm2UaBHb2r8Ec3b8ZEfzRUPDXcjtF0noPav33nPuHwaN8Uto9l6K2YyOr3cvOY+eftv4qZAAa5AsHMhP3NclS2lT7/Kl3OI+d88Dv89J06sd5jbzFfRhmgsLeiN/27zqPnX9PeQk5suo5fH6FMxCEFX4OHsfzAgAAAAAAAADGRL4A8Oc/Fkn3HPGGeXlFDuXp+Ijdlx7IUzIlrzznPS5I+9kpkRd3g+Buty+VV551Ry2/+BUfCW49U1AP28XzUpGWPLzvPfbdf+gsLUuOeKq9wweRVMUHDw6d/3tB0OkLMlvWVQ7Mc2k0NfLdu51bPGN0tnNyxtmXjqYNb6d36ugiNOWeG7c12vsbsji3mBrsThSrw6H6ZCdwotqfcP8NgjTO8ZiRln79V0rmBNbRv7nF9hXhbbcreOc81qBRKdxsaduxVHKOSQO7z33gVHCLpKL1mCDVR53j/2G3fH4A0me7nSwayHr6b3e24d8igW9HpH68tupLRrtbK2o7NrLa3QtEalsl1V0emuI43A5J6Y5HxaZv2PYfKyltmhjMdM7dp5zzIKk/hq8T+oOKl7/3SSSYm1rPUyVzfmX186LOQeM4nhcAAAAAAAAAMCbyBYDHhI7uffKs9yBDJM20fwulm0Y6My9uRefy7Z0m2lY0PXR3mmhkOGxL+4+dk/bPuw9Lzr/h0XbHWTwFsH8LH5sG1rJGftpsJ4sG1l75293b6DXyEd38OvTT8/YbCPbnt/VTCustnnZ4lGz6xlH0H03vrPWr6ZfDI31tFVnPRZyDAAAAAAAAAIDBFBcA7jXS97mz8qp8SJ4tcO5iTfV86vPOndRUzn8kTzvrvPKnOnMCH6leI33PnXGWRker5qUpls9ajGaaNisdihn0e/DAuScyFcqJrGmqz4dG9waPm/cGDNLel4cm23Nn/uFxY1uHo1Ty0rg+0YZyaGDp1X/h3PFG/Gn651d/1X2uUEkjfZXzuO8RxynCQe00pW92RzdqkErL98x7QyMfHbbbGXfxdu9XUdsZRFcgOMclwKQU1lGo4RTHE8rmxw0q3KbmNe9w7scCrnmDv1b17Kc3D6WWDl4XMsxzcJLOCwAAAAAAAAAYtsICwO3P/qQ896LIK8//VBCU1XmBP/t8dB5e43MfE11jkODsU398W56Sr5HPnOlsQ0cGv/KW95j7GiR+6sVDkdf/mHzujflGnQ2DpiC+0xSp1G4Ec95qgPVGLTo3bpbEuXxv1yUrm3JpZllWnZX8fQXz2c5ekBmzHacsuzWJZnd2A7cyddaso9wRweZulBdQTgrydspck7WF7LbwU05vLs94S4rVbx2mmVneLLTMpbOn3Hl44yN8m17w82dLZg7cxICNF6zpNxCj6WHN/J+LnQCrBnue1tGFfY44DtLLXo22vwYI/TS2z7y7d98ovdtNJavBLt2/mY/4i53rwDe7z9tuZ9z1bPecitpOkTQ98JNPeg98GX1VA4ry5k4/9EeqHmfhvqrHZQKp73V/3JCmV5sWEXDNqmfz4xO9JnhzkJvrgV6DvOfVMM/BST4vAAAAAAAAAGAYSqdPnzbfgmqA8HZ9VvaWLnfNk6qB1ZfP/aJ87vM/LqcPP+gtFXky9RH5jCQse733wPHUn3y7vPYT3bkkS6/9IfnMWy/Lq/73xO0Pyev+8AdMoLj9lg8mz9XbPpTXfPyb5enPuuUzAeY/92PySrCN6PMqcVuPo2X2ld75XvnQ1vfIx/9mWb7tl/v7cjitHlU8gNpqLMnixr73yE48YKnbuC6rUj9zR+ZWtrqe92kK5pWtTpni6+nzt87eDraj3OOp6uBPI76vsPi6zhZlff5aENzWIGnXvL/N9a7tdNaLvt5WaWFNdmuS+lrrOjyMls+0n/Quc3/tmRwA6pXK9dS3uMHQV3+i3TOtrAY6nv5hZ13vsdKRs7q22dcn2/LSzc5rTcDHebZrWSgIpEGTl3/FfT4os8V2Isf30ehzPv+YIrx1NfirqW3jr/XLF66ntO0UxS+P1v+rUjL1LE4ZXmmKCYrpfZtRmLbtnnhMHlOGQ69NLftPGut9ZbR70nbC/SesV1/VAF38Od2G1vkzb07fl88/R2zWGaV428ePy7ZvBOdGXKjP++v4dZrEpp67yuyU5dW3RNdRiXWd4xwcx/MCAAAAAAAAAIbp8ePH8uhRgamUHVYB4JOiiADwOOgVvDwugtHIrYYsXb4p+zkDwMdNEPCIBdV6MYGPd4i8/D5GsR1nedu9l6K2g/Fh06Z+0FZigfVg+TENdHJeAAAAAAAAADhphhEADg+6AsbC9NVLJhV1887kB3/z8lMhv/oPCf4C6Fb6KveNva3p+wEAAAAAAAAAJ1IsAFyWan3XzGV6d3M5mPd1kpVK75T33ntBXnjhBWltfY98ibcco6ej0DedvlevijSWoumqTzpNsatz6Pqph0edshbAeNG5unUu7FNfV3Ln1/Zu5gciXCMAAAAAAAAA4EQLUkADAAAAAAAAAAAAAEaHFNAAAAAAAAAAAAAAgJ4IAAMAAAAAAAAAAADARBD5/wMylK5qUN/8LgAAAABJRU5ErkJggg==)"
      ],
      "metadata": {
        "id": "Ysbn8BpQTs0o"
      }
    },
    {
      "cell_type": "code",
      "source": [
        "#17 Write a Python program to create and write a list of numbers to a file, one number per line\n",
        "\n",
        "numbers = [1, 20, 304, 21, 63]\n",
        "with open('numbers.txt', 'w') as file:\n",
        "    for number in numbers:\n",
        "        file.write(str(number) + '\\n')\n",
        "\n",
        "with open('numbers.txt', 'r') as file:\n",
        "    for line in file:\n",
        "        print(line, end='')"
      ],
      "metadata": {
        "colab": {
          "base_uri": "https://localhost:8080/"
        },
        "id": "WGt5D1CMUGdH",
        "outputId": "b7537e23-5cbe-4df4-9dbf-7d55a15e145c"
      },
      "execution_count": 46,
      "outputs": [
        {
          "output_type": "stream",
          "name": "stdout",
          "text": [
            "1\n",
            "20\n",
            "304\n",
            "21\n",
            "63\n"
          ]
        }
      ]
    },
    {
      "cell_type": "code",
      "source": [
        "#18 How would you implement a basic logging setup that logs to a file with rotation after 1MB\n",
        "\n",
        "import logging\n",
        "from logging.handlers import RotatingFileHandler\n",
        "\n",
        "handler = RotatingFileHandler('app.log', maxBytes=1*1024*1024, backupCount=5)\n",
        "logging.basicConfig(level=logging.DEBUG, handlers=[handler],\n",
        "                    format='%(asctime)s - %(levelname)s - %(message)s')\n",
        "\n",
        "logging.info(\"This is info message\")\n",
        "logging.error(\"This is error message\")"
      ],
      "metadata": {
        "colab": {
          "base_uri": "https://localhost:8080/"
        },
        "id": "yNTbiK1-USU8",
        "outputId": "8f744ecd-af31-4ab8-ed40-587f5cd6a270"
      },
      "execution_count": 48,
      "outputs": [
        {
          "output_type": "stream",
          "name": "stderr",
          "text": [
            "ERROR:root:This is error message\n"
          ]
        }
      ]
    },
    {
      "cell_type": "code",
      "source": [
        "#19 Write a program that handles both IndexError and KeyError using a try-except block\n",
        "\n",
        "my_list = [1, 2, 3]\n",
        "my_dict = {'a': 10, 'b': 20}\n",
        "\n",
        "try:\n",
        "    print(my_list[5])\n",
        "    print(my_dict['c'])\n",
        "except IndexError:\n",
        "    print(\"Caught an IndexError: list index out of range.\")\n",
        "except KeyError:\n",
        "    print(\"Caught a KeyError: Key not found\")"
      ],
      "metadata": {
        "colab": {
          "base_uri": "https://localhost:8080/"
        },
        "id": "aWSdsYz4U2Dj",
        "outputId": "224547f6-261d-4b88-a8a8-9f0e8db3877b"
      },
      "execution_count": 50,
      "outputs": [
        {
          "output_type": "stream",
          "name": "stdout",
          "text": [
            "Caught an IndexError: list index out of range.\n"
          ]
        }
      ]
    },
    {
      "cell_type": "code",
      "source": [
        "#20 How would you open a file and read its contents using a context manager in Python\n",
        "\n",
        "with open('myfile.txt', 'r') as file:\n",
        "    content = file.read()\n",
        "    print(content)"
      ],
      "metadata": {
        "colab": {
          "base_uri": "https://localhost:8080/"
        },
        "id": "URTBVfcDVM57",
        "outputId": "6b4e1ecc-c362-4e72-ec1b-e3e656653421"
      },
      "execution_count": 51,
      "outputs": [
        {
          "output_type": "stream",
          "name": "stdout",
          "text": [
            "line one\n",
            "line two\n",
            "line threeThis is new data added.\n",
            "This is new data added.\n",
            "This is new data added\n",
            "This is new data added\n",
            "This is new data added.\n",
            "This is new data added.\n",
            "This is new data added\n",
            "\n"
          ]
        }
      ]
    },
    {
      "cell_type": "code",
      "source": [
        "#21 Write a Python program that reads a file and prints the number of occurrences of a specific word\n",
        "\n",
        "word_to_count = \"new\"\n",
        "filename = \"myfile.txt\"\n",
        "\n",
        "try:\n",
        "    with open(filename, 'r') as file:\n",
        "        content = file.read().lower()\n",
        "        count = content.count(word_to_count.lower())\n",
        "    print(f\"The word '{word_to_count}' occurs {count} times in file\")\n",
        "except FileNotFoundError:\n",
        "    print(f\"file '{filename}' does not exist\")"
      ],
      "metadata": {
        "colab": {
          "base_uri": "https://localhost:8080/"
        },
        "id": "LoRczopwVbWZ",
        "outputId": "cc54a2d7-7212-4b06-d872-660fa956d573"
      },
      "execution_count": 55,
      "outputs": [
        {
          "output_type": "stream",
          "name": "stdout",
          "text": [
            "The word 'new' occurs 7 times in file\n"
          ]
        }
      ]
    },
    {
      "cell_type": "code",
      "source": [
        "#22 How can you check if a file is empty before attempting to read its contents\n",
        "\n",
        "import os\n",
        "filename = 'myfile.txt'\n",
        "\n",
        "if os.path.exists(filename) and os.path.getsize(filename) > 0:\n",
        "    with open(filename, 'r') as file:\n",
        "        content = file.read()\n",
        "        print(content)\n",
        "else:\n",
        "    print(f\"file '{filename}' is empty or not exist\")"
      ],
      "metadata": {
        "colab": {
          "base_uri": "https://localhost:8080/"
        },
        "id": "mJTzNreaVlLv",
        "outputId": "c3bae7a7-8ce7-462c-f71f-bfa0c8773918"
      },
      "execution_count": 58,
      "outputs": [
        {
          "output_type": "stream",
          "name": "stdout",
          "text": [
            "line one\n",
            "line two\n",
            "line threeThis is new data added.\n",
            "This is new data added.\n",
            "This is new data added\n",
            "This is new data added\n",
            "This is new data added.\n",
            "This is new data added.\n",
            "This is new data added\n",
            "\n"
          ]
        }
      ]
    },
    {
      "cell_type": "code",
      "source": [
        "#23 Write a Python program that writes to a log file when an error occurs during file handling\n",
        "\n",
        "import logging\n",
        "\n",
        "logging.basicConfig(filename='error.log', level=logging.ERROR,\n",
        "                    format='%(asctime)s - %(levelname)s - %(message)s')\n",
        "\n",
        "filename = 'myfile.txt'\n",
        "try:\n",
        "    with open(filename, 'r') as file:\n",
        "        content = file.read()\n",
        "        print(content)\n",
        "except Exception as excepttt:\n",
        "    logging.error(f\"Error happened or occured while handling the file: {excepttt}\")\n",
        "    print(\"error happened or occured check 'error.log'\")"
      ],
      "metadata": {
        "colab": {
          "base_uri": "https://localhost:8080/"
        },
        "id": "ulMyNZSoV5Lj",
        "outputId": "087483cd-7e7b-4a6b-eea4-f7da6e0e9646"
      },
      "execution_count": 62,
      "outputs": [
        {
          "output_type": "stream",
          "name": "stdout",
          "text": [
            "line one\n",
            "line two\n",
            "line threeThis is new data added.\n",
            "This is new data added.\n",
            "This is new data added\n",
            "This is new data added\n",
            "This is new data added.\n",
            "This is new data added.\n",
            "This is new data added\n",
            "\n"
          ]
        }
      ]
    }
  ]
}