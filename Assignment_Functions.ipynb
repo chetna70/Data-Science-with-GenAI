{
 "cells": [
  {
   "cell_type": "markdown",
   "id": "567ad9e2",
   "metadata": {},
   "source": [
    "### 1. What is the difference between a function and a method in Python?\n",
    "\n",
    "A function is a block of code that performs a specific task and can be called independently. A method is a function that is associated with an object and is called using dot notation.\n",
    "\n",
    "**Example:**\n",
    "```python\n",
    "# Function\n",
    "def greet():\n",
    "    print(\"Hello\")\n",
    "greet()\n",
    "\n",
    "# Method\n",
    "my_list = [1, 2, 3]\n",
    "my_list.append(4)  # append is a method\n",
    "```"
   ]
  },
  {
   "cell_type": "markdown",
   "id": "07ce0b92",
   "metadata": {},
   "source": [
    "### 2. Explain the concept of function arguments and parameters in Python.\n",
    "\n",
    "Parameters are variables listed in a function definition. Arguments are the values passed to these parameters when the function is called.\n",
    "\n",
    "**Example:**\n",
    "```python\n",
    "def add(a, b):  # a and b are parameters\n",
    "    return a + b\n",
    "\n",
    "add(5, 3)  # 5 and 3 are arguments\n",
    "```"
   ]
  },
  {
   "cell_type": "markdown",
   "id": "fee6173a",
   "metadata": {},
   "source": [
    "### 3. What are the different ways to define and call a function in Python?\n",
    "\n",
    "Functions are defined using the `def` keyword or `lambda` expressions. They can be called using their name followed by parentheses.\n",
    "\n",
    "**Example:**\n",
    "```python\n",
    "def square(x):\n",
    "    return x * x\n",
    "\n",
    "f = lambda x: x * x\n",
    "\n",
    "print(square(4))\n",
    "print(f(5))\n",
    "```"
   ]
  },
  {
   "cell_type": "markdown",
   "id": "7d085564",
   "metadata": {},
   "source": [
    "### 4. What is the purpose of the `return` statement in a Python function?\n",
    "\n",
    "The `return` statement ends the function execution and sends a value back to the caller.\n",
    "\n",
    "**Example:**\n",
    "```python\n",
    "def add(a, b):\n",
    "    return a + b\n",
    "result = add(2, 3)\n",
    "print(result)  # Output: 5\n",
    "```"
   ]
  },
  {
   "cell_type": "markdown",
   "id": "52d34c37",
   "metadata": {},
   "source": [
    "### 5. What are iterators in Python and how do they differ from iterables?\n",
    "\n",
    "An iterable is any Python object capable of returning its members one at a time. An iterator is an object with a `__next__()` method that returns the next item.\n",
    "\n",
    "**Example:**\n",
    "```python\n",
    "my_list = [1, 2, 3]  # iterable\n",
    "it = iter(my_list)   # iterator\n",
    "print(next(it))\n",
    "```"
   ]
  },
  {
   "cell_type": "markdown",
   "id": "838e0765",
   "metadata": {},
   "source": [
    "### 6. Explain the concept of generators in Python and how they are defined.\n",
    "\n",
    "Generators are a type of iterable where values are yielded one at a time using the `yield` keyword. They are memory-efficient.\n",
    "\n",
    "**Example:**\n",
    "```python\n",
    "def count_up_to(n):\n",
    "    i = 1\n",
    "    while i <= n:\n",
    "        yield i\n",
    "        i += 1\n",
    "```"
   ]
  },
  {
   "cell_type": "markdown",
   "id": "6ca65c6b",
   "metadata": {},
   "source": [
    "### 7. What are the advantages of using generators over regular functions?\n",
    "\n",
    "Generators are more memory-efficient as they yield one item at a time and do not store the entire sequence in memory."
   ]
  },
  {
   "cell_type": "markdown",
   "id": "74cd8305",
   "metadata": {},
   "source": [
    "### 8. What is a lambda function in Python and when is it typically used?\n",
    "\n",
    "A lambda function is a small anonymous function used for short operations.\n",
    "\n",
    "**Example:**\n",
    "```python\n",
    "square = lambda x: x * x\n",
    "print(square(4))\n",
    "```"
   ]
  },
  {
   "cell_type": "markdown",
   "id": "ca061e40",
   "metadata": {},
   "source": [
    "### 9. Explain the purpose and usage of the `map()` function in Python.\n",
    "\n",
    "`map()` applies a function to all items in an iterable.\n",
    "\n",
    "**Example:**\n",
    "```python\n",
    "nums = [1, 2, 3]\n",
    "squared = list(map(lambda x: x**2, nums))\n",
    "print(squared)\n",
    "```"
   ]
  },
  {
   "cell_type": "markdown",
   "id": "ed1de5fa",
   "metadata": {},
   "source": [
    "### 10. What is the difference between `map()`, `reduce()`, and `filter()` functions in Python?\n",
    "\n",
    "- `map()` applies a function to all items.\n",
    "- `filter()` filters items using a condition.\n",
    "- `reduce()` applies a rolling computation (from `functools`).\n",
    "\n",
    "**Example:**\n",
    "```python\n",
    "from functools import reduce\n",
    "nums = [1, 2, 3, 4]\n",
    "sum = reduce(lambda x, y: x + y, nums)\n",
    "```"
   ]
  },
  {
   "cell_type": "markdown",
   "id": "a9cc9f62",
   "metadata": {},
   "source": [
    "### 11. Using pen & Paper write the internal mechanism for sum operation using reduce function on this given list:[47,11,42,13];\n",
    "ans attached in doc\n",
    "\n"
   ]
  },
  {
   "cell_type": "code",
   "execution_count": 1,
   "id": "33ade606",
   "metadata": {},
   "outputs": [
    {
     "name": "stdout",
     "output_type": "stream",
     "text": [
      "12\n"
     ]
    }
   ],
   "source": [
    "# 1. Sum of all even numbers in a list\n",
    "def sum_even(numbers):\n",
    "    return sum(num for num in numbers if num % 2 == 0)\n",
    "\n",
    "# Example\n",
    "print(sum_even([1, 2, 3, 4, 5, 6]))"
   ]
  },
  {
   "cell_type": "code",
   "execution_count": 2,
   "id": "06d0a7ae",
   "metadata": {},
   "outputs": [
    {
     "name": "stdout",
     "output_type": "stream",
     "text": [
      "olleh\n"
     ]
    }
   ],
   "source": [
    "# 2. Reverse a string\n",
    "def reverse_string(s):\n",
    "    return s[::-1]\n",
    "\n",
    "# Example\n",
    "print(reverse_string('hello'))"
   ]
  },
  {
   "cell_type": "code",
   "execution_count": 3,
   "id": "d4c1cfa1",
   "metadata": {},
   "outputs": [
    {
     "name": "stdout",
     "output_type": "stream",
     "text": [
      "[1, 4, 9, 16]\n"
     ]
    }
   ],
   "source": [
    "# 3. Squares of each number in a list\n",
    "def square_list(numbers):\n",
    "    return [x**2 for x in numbers]\n",
    "\n",
    "# Example\n",
    "print(square_list([1, 2, 3, 4]))"
   ]
  },
  {
   "cell_type": "code",
   "execution_count": 4,
   "id": "2e051521",
   "metadata": {},
   "outputs": [
    {
     "name": "stdout",
     "output_type": "stream",
     "text": [
      "[2, 3, 5, 7, 11, 13, 17, 19, 23, 29, 31, 37, 41, 43, 47, 53, 59, 61, 67, 71, 73, 79, 83, 89, 97, 101, 103, 107, 109, 113, 127, 131, 137, 139, 149, 151, 157, 163, 167, 173, 179, 181, 191, 193, 197, 199]\n"
     ]
    }
   ],
   "source": [
    "# 4. Check if a number is prime from 1 to 200\n",
    "def is_prime(n):\n",
    "    if n < 2:\n",
    "        return False\n",
    "    for i in range(2, int(n**0.5) + 1):\n",
    "        if n % i == 0:\n",
    "            return False\n",
    "    return True\n",
    "\n",
    "primes = [i for i in range(1, 201) if is_prime(i)]\n",
    "print(primes)"
   ]
  },
  {
   "cell_type": "code",
   "execution_count": 5,
   "id": "234f9f94",
   "metadata": {},
   "outputs": [
    {
     "name": "stdout",
     "output_type": "stream",
     "text": [
      "1 1 2 3 5 8 13 21 34 55 "
     ]
    }
   ],
   "source": [
    "# 5. Iterator for Fibonacci sequence\n",
    "class Fibonacci:\n",
    "    def __init__(self, n):\n",
    "        self.n = n\n",
    "        self.a, self.b, self.count = 0, 1, 0\n",
    "\n",
    "    def __iter__(self):\n",
    "        return self\n",
    "\n",
    "    def __next__(self):\n",
    "        if self.count >= self.n:\n",
    "            raise StopIteration\n",
    "        self.a, self.b = self.b, self.a + self.b\n",
    "        self.count += 1\n",
    "        return self.a\n",
    "\n",
    "for num in Fibonacci(10):\n",
    "    print(num, end=' ')"
   ]
  },
  {
   "cell_type": "code",
   "execution_count": 6,
   "id": "aa40fe5d",
   "metadata": {},
   "outputs": [
    {
     "name": "stdout",
     "output_type": "stream",
     "text": [
      "1\n",
      "2\n",
      "4\n",
      "8\n",
      "16\n",
      "32\n"
     ]
    }
   ],
   "source": [
    "# 6. Generator yielding powers of 2\n",
    "def powers_of_two(n):\n",
    "    for i in range(n + 1):\n",
    "        yield 2 ** i\n",
    "\n",
    "for power in powers_of_two(5):\n",
    "    print(power)"
   ]
  },
  {
   "cell_type": "code",
   "execution_count": 8,
   "id": "92a61559",
   "metadata": {},
   "outputs": [],
   "source": [
    "# 7. Generator reading file line by line\n",
    "def read_file_lines(filename):\n",
    "    with open(filename, 'r') as file:\n",
    "        for line in file:\n",
    "            yield line.strip()"
   ]
  },
  {
   "cell_type": "code",
   "execution_count": 9,
   "id": "ea654e64",
   "metadata": {},
   "outputs": [
    {
     "name": "stdout",
     "output_type": "stream",
     "text": [
      "[(2, 1), (4, 2), (1, 3)]\n"
     ]
    }
   ],
   "source": [
    "# 8. Sort tuples based on second element\n",
    "tuples = [(1, 3), (2, 1), (4, 2)]\n",
    "sorted_tuples = sorted(tuples, key=lambda x: x[1])\n",
    "print(sorted_tuples)"
   ]
  },
  {
   "cell_type": "code",
   "execution_count": 10,
   "id": "dc1632b9",
   "metadata": {},
   "outputs": [
    {
     "name": "stdout",
     "output_type": "stream",
     "text": [
      "[32.0, 50.0, 68.0, 86.0]\n"
     ]
    }
   ],
   "source": [
    "# 9. Convert Celsius to Fahrenheit using map\n",
    "celsius = [0, 10, 20, 30]\n",
    "fahrenheit = list(map(lambda c: (c * 9/5) + 32, celsius))\n",
    "print(fahrenheit)"
   ]
  },
  {
   "cell_type": "code",
   "execution_count": 11,
   "id": "4d7192cd",
   "metadata": {},
   "outputs": [
    {
     "name": "stdout",
     "output_type": "stream",
     "text": [
      "Hll Wrld\n"
     ]
    }
   ],
   "source": [
    "# 10. Remove vowels from a string using filter\n",
    "s = \"Hello World\"\n",
    "vowels = 'aeiouAEIOU'\n",
    "result = ''.join(filter(lambda x: x not in vowels, s))\n",
    "print(result)"
   ]
  },
  {
   "cell_type": "code",
   "execution_count": 12,
   "id": "bc22f6c8",
   "metadata": {},
   "outputs": [
    {
     "name": "stdout",
     "output_type": "stream",
     "text": [
      "[(34587, 163.8), (98762, 179.75), (77226, 136.2), (88112, 116.85000000000001)]\n"
     ]
    }
   ],
   "source": [
    "# 11. Bookshop routine using lambda and map\n",
    "orders = [\n",
    "    [34587, 'Learning Python', 4, 40.95],\n",
    "    [98762, 'Programming Java', 5, 35.95],\n",
    "    [77226, 'Data Science', 3, 45.40],\n",
    "    [88112, 'Machine Learning', 3, 38.95]\n",
    "]\n",
    "\n",
    "result = list(map(lambda order: (order[0], order[2] * order[3] + 10 if order[2] * order[3] < 100 else order[2] * order[3]), orders))\n",
    "print(result)"
   ]
  },
  {
   "cell_type": "code",
   "execution_count": null,
   "id": "e8a6c898",
   "metadata": {},
   "outputs": [],
   "source": []
  }
 ],
 "metadata": {
  "kernelspec": {
   "display_name": "base",
   "language": "python",
   "name": "python3"
  },
  "language_info": {
   "codemirror_mode": {
    "name": "ipython",
    "version": 3
   },
   "file_extension": ".py",
   "mimetype": "text/x-python",
   "name": "python",
   "nbconvert_exporter": "python",
   "pygments_lexer": "ipython3",
   "version": "3.12.4"
  }
 },
 "nbformat": 4,
 "nbformat_minor": 5
}
