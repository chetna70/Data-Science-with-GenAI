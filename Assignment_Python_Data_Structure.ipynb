{
  "nbformat": 4,
  "nbformat_minor": 0,
  "metadata": {
    "colab": {
      "provenance": []
    },
    "kernelspec": {
      "name": "python3",
      "display_name": "Python 3"
    },
    "language_info": {
      "name": "python"
    }
  },
  "cells": [
    {
      "cell_type": "code",
      "execution_count": null,
      "metadata": {
        "id": "DLicUFroVOne",
        "colab": {
          "base_uri": "https://localhost:8080/",
          "height": 141
        },
        "outputId": "6f0e1cd0-8d12-43b7-e39c-d45ba25775ea"
      },
      "outputs": [
        {
          "output_type": "error",
          "ename": "NameError",
          "evalue": "name 'kn' is not defined",
          "traceback": [
            "\u001b[0;31m---------------------------------------------------------------------------\u001b[0m",
            "\u001b[0;31mNameError\u001b[0m                                 Traceback (most recent call last)",
            "\u001b[0;32m/tmp/ipython-input-1-168639859.py\u001b[0m in \u001b[0;36m<cell line: 0>\u001b[0;34m()\u001b[0m\n\u001b[0;32m----> 1\u001b[0;31m \u001b[0mkn\u001b[0m\u001b[0;34m\u001b[0m\u001b[0;34m\u001b[0m\u001b[0m\n\u001b[0m",
            "\u001b[0;31mNameError\u001b[0m: name 'kn' is not defined"
          ]
        }
      ],
      "source": []
    },
    {
      "cell_type": "markdown",
      "source": [
        "### **Data Types and Structures Questions**"
      ],
      "metadata": {
        "id": "ih1BcfzgwaMd"
      }
    },
    {
      "cell_type": "code",
      "source": [
        "# 1. What are data structures, and why are they important?\n",
        "\n",
        "# data structures are a way of organizing and storing the data and they are important for efficient access and manipulation of data.\n",
        "\n"
      ],
      "metadata": {
        "id": "_spYIXoggCB8"
      },
      "execution_count": null,
      "outputs": []
    },
    {
      "cell_type": "code",
      "source": [
        "# 2. Explain the difference between mutable and immutable data types with examplesP\n",
        "\n",
        "# Mutable: Mutable data types are those that allow item assignments once after the data type is defined or the variable is defined. eg: list, dictionary\n",
        "# eg:\n",
        "# my_list = [2,4,'salman', 5.6, 4+4j]                     # All these are mutable\n",
        "# my_dict = {'name':'salman', 'age': 59, 'complexion': 'fair', 'marks':69.88}\n",
        "\n",
        "\n",
        "# Immutable: Immutable data types are those that do not allow item assignments once the data type or variable is defined already. eg: tuple, set, string\n",
        "# mystr = \"Salman Khan\"\n",
        "# my_tuple=(1,5,'salman')       # All these are immutable\n",
        "# my_set={3,6,'salman', 6, 7.88}\n"
      ],
      "metadata": {
        "id": "ArxtAfkngQ2c"
      },
      "execution_count": null,
      "outputs": []
    },
    {
      "cell_type": "code",
      "source": [
        "#3 What are the main differences between lists and tuples in Python?\n",
        "# lists: lists are ordered collection of heterogenous elements which means they can store different data type elements and they can accessed using indexing,\n",
        "# and lists do support item assignmment\n",
        "# eg:\n",
        "my_list = [1,6,7,5.7,'name', 5+6j, 'color']\n",
        "my_list[2]=\"salman\"\n",
        "print(my_list)\n",
        "\n",
        "# tuples: tuples are ordered collection of herterogeneous elements but they do not support item assigment,\n",
        "# the only diffence between both is the syntax of defining them and item assignment.\n",
        "# lists allow item Assignment and are used wher we can easily manipulate data eg. grocery list, menu\n",
        "# tuples do not allow item assignment and are used where we want the data to be hard coded so that it cannot be changed eg, aadhar no., bank ac number, social security no.\n",
        "\n",
        "# eg.\n",
        "my_tuple = (1,34,556,66,4.6,6,6,'name')\n",
        "my_tuple[2]= 5849"
      ],
      "metadata": {
        "colab": {
          "base_uri": "https://localhost:8080/",
          "height": 193
        },
        "id": "dlV4v_8GhO5Q",
        "outputId": "b899e732-1953-45d7-af6b-4ca022d85586"
      },
      "execution_count": null,
      "outputs": [
        {
          "output_type": "stream",
          "name": "stdout",
          "text": [
            "[1, 6, 'salman', 5.7, 'name', (5+6j), 'color']\n"
          ]
        },
        {
          "output_type": "error",
          "ename": "TypeError",
          "evalue": "'tuple' object does not support item assignment",
          "traceback": [
            "\u001b[0;31m---------------------------------------------------------------------------\u001b[0m",
            "\u001b[0;31mTypeError\u001b[0m                                 Traceback (most recent call last)",
            "\u001b[0;32m/tmp/ipython-input-4-3642129383.py\u001b[0m in \u001b[0;36m<cell line: 0>\u001b[0;34m()\u001b[0m\n\u001b[1;32m     14\u001b[0m \u001b[0;31m# eg.\u001b[0m\u001b[0;34m\u001b[0m\u001b[0;34m\u001b[0m\u001b[0m\n\u001b[1;32m     15\u001b[0m \u001b[0mmy_tuple\u001b[0m \u001b[0;34m=\u001b[0m \u001b[0;34m(\u001b[0m\u001b[0;36m1\u001b[0m\u001b[0;34m,\u001b[0m\u001b[0;36m34\u001b[0m\u001b[0;34m,\u001b[0m\u001b[0;36m556\u001b[0m\u001b[0;34m,\u001b[0m\u001b[0;36m66\u001b[0m\u001b[0;34m,\u001b[0m\u001b[0;36m4.6\u001b[0m\u001b[0;34m,\u001b[0m\u001b[0;36m6\u001b[0m\u001b[0;34m,\u001b[0m\u001b[0;36m6\u001b[0m\u001b[0;34m,\u001b[0m\u001b[0;34m'name'\u001b[0m\u001b[0;34m)\u001b[0m\u001b[0;34m\u001b[0m\u001b[0;34m\u001b[0m\u001b[0m\n\u001b[0;32m---> 16\u001b[0;31m \u001b[0mmy_tuple\u001b[0m\u001b[0;34m[\u001b[0m\u001b[0;36m2\u001b[0m\u001b[0;34m]\u001b[0m\u001b[0;34m=\u001b[0m \u001b[0;36m5849\u001b[0m\u001b[0;34m\u001b[0m\u001b[0;34m\u001b[0m\u001b[0m\n\u001b[0m",
            "\u001b[0;31mTypeError\u001b[0m: 'tuple' object does not support item assignment"
          ]
        }
      ]
    },
    {
      "cell_type": "code",
      "source": [
        "#4 Describe how dictionaries store data\n",
        "\n",
        "# dictionaries are the data strucutures that organize and store elements or data in form of-\n",
        "# key- value pairs\n",
        "# key cannot be changed for any value and only the values can be accessed using key, vice versa is not possible.\n",
        "\n",
        "# eg.\n",
        "\n",
        "my_dict = {'name':'salman', 'age': 59,'city': 'mumbai', 45: 'actor'}\n",
        "my_dict[45]"
      ],
      "metadata": {
        "colab": {
          "base_uri": "https://localhost:8080/",
          "height": 35
        },
        "id": "RXCnvNcyjVJG",
        "outputId": "ed41c39b-7a0b-4028-9e14-7a66b7a0b7fa"
      },
      "execution_count": null,
      "outputs": [
        {
          "output_type": "execute_result",
          "data": {
            "text/plain": [
              "'actor'"
            ],
            "application/vnd.google.colaboratory.intrinsic+json": {
              "type": "string"
            }
          },
          "metadata": {},
          "execution_count": 8
        }
      ]
    },
    {
      "cell_type": "code",
      "source": [
        "#5 Why might you use a set instead of a list in Python?\n",
        "\n",
        "# sets are preffered over lists when we want unique data from a set of collection, to get rid of repetitiveness or redundencies we prefer sets over list.\n",
        "# Also, we can use sets if we want the data not to be accessed using indexing\n",
        "\n",
        "# eg.\n",
        "# list with repeated elements\n",
        "\n",
        "my_list = [1,2,2,2,2,2,2,2,2,2,6,6,6,6,6,6,'kk', 'kk', 'salman', 'salman', 6+7j, 6+7j, True, True, False, False]\n",
        "print(my_list)\n",
        "\n",
        "# eg.\n",
        "# set with all duplicacy removed and unordered\n",
        "my_set = {1,2,2,2,2,2,2,2,2,2,6,6,6,6,6,6,'kk', 'kk', 'salman', 'salman', 6+7j, 6+7j, True, True, False, False}\n",
        "print(my_set)\n"
      ],
      "metadata": {
        "id": "5Pebv5eFkJe_",
        "colab": {
          "base_uri": "https://localhost:8080/"
        },
        "outputId": "de86c116-f079-4600-8c21-21e38497e0f7"
      },
      "execution_count": 30,
      "outputs": [
        {
          "output_type": "stream",
          "name": "stdout",
          "text": [
            "[1, 2, 2, 2, 2, 2, 2, 2, 2, 2, 6, 6, 6, 6, 6, 6, 'kk', 'kk', 'salman', 'salman', (6+7j), (6+7j), True, True, False, False]\n",
            "{False, 1, 2, 6, 'salman', 'kk', (6+7j)}\n"
          ]
        }
      ]
    },
    {
      "cell_type": "code",
      "source": [
        "#6 What is a string in Python, and how is it different from a list?\n",
        "\n",
        "# string is a data structure in python that is used for stroring and manipulating textual data.\n",
        "# each single character in a string is the fundamental unit of the string\n",
        "# the items in a string or the characters in a string can be accessed using index starting from 0 to n-1, n denotes the lenght of string\n",
        "# strings are immutable and do not support item assignment, however we can make a new string using .replace() without effecting the original sting.\n",
        "\n",
        "# eg:\n",
        "my_str = \"my name is khan\"\n",
        "\n",
        "\n",
        "# DIFFERENCE:\n",
        "\n",
        "# Strings are different from lists because lists allow item assignment while strings do not follow item assignments.\n",
        "# ie. lists are mutable while strings are immutable\n",
        "\n",
        "# eg:\n",
        "\n",
        "my_list =[3,4,5,'name','hellow']\n",
        "my_list[2]=6\n",
        "\n",
        "my_string = \"hey nana\"\n",
        "my_string[3]='c'\n",
        "\n"
      ],
      "metadata": {
        "id": "x9kOGGXYlUkd",
        "colab": {
          "base_uri": "https://localhost:8080/",
          "height": 193
        },
        "outputId": "c91e1671-923e-449a-ead0-ba944a4732ac"
      },
      "execution_count": 31,
      "outputs": [
        {
          "output_type": "error",
          "ename": "TypeError",
          "evalue": "'str' object does not support item assignment",
          "traceback": [
            "\u001b[0;31m---------------------------------------------------------------------------\u001b[0m",
            "\u001b[0;31mTypeError\u001b[0m                                 Traceback (most recent call last)",
            "\u001b[0;32m/tmp/ipython-input-31-2613496912.py\u001b[0m in \u001b[0;36m<cell line: 0>\u001b[0;34m()\u001b[0m\n\u001b[1;32m     21\u001b[0m \u001b[0;34m\u001b[0m\u001b[0m\n\u001b[1;32m     22\u001b[0m \u001b[0mmy_string\u001b[0m \u001b[0;34m=\u001b[0m \u001b[0;34m\"hey nana\"\u001b[0m\u001b[0;34m\u001b[0m\u001b[0;34m\u001b[0m\u001b[0m\n\u001b[0;32m---> 23\u001b[0;31m \u001b[0mmy_string\u001b[0m\u001b[0;34m[\u001b[0m\u001b[0;36m3\u001b[0m\u001b[0;34m]\u001b[0m\u001b[0;34m=\u001b[0m\u001b[0;34m'c'\u001b[0m\u001b[0;34m\u001b[0m\u001b[0;34m\u001b[0m\u001b[0m\n\u001b[0m\u001b[1;32m     24\u001b[0m \u001b[0;34m\u001b[0m\u001b[0m\n",
            "\u001b[0;31mTypeError\u001b[0m: 'str' object does not support item assignment"
          ]
        }
      ]
    },
    {
      "cell_type": "code",
      "source": [
        "#7 How do tuples ensure data integrity in Python?\n",
        "\n",
        "# Tuplres are immutable in python which means tuples do not support item assignment (items/elements inside a tuple cannot be changed once defined)\n",
        "# Use case: Aadhar no., social security no, bank account no., employee id."
      ],
      "metadata": {
        "id": "X3uspjo5nZTn"
      },
      "execution_count": 32,
      "outputs": []
    },
    {
      "cell_type": "code",
      "source": [
        "#8 What is a hash table, and how does it relate to dictionaries in Python3\n",
        "\n",
        "# Hash table in a data structure that stores data in form of key: value pairs,\n",
        "\n",
        "# when a key is passed to the hash function it converts it to the corresponding index, this index stores that particular key:value pair information.\n",
        "\n",
        "# Dictionaries store the data in a similary way in the form of key: value pairs where a key can be used to accessed the corresponding value.\n",
        "\n",
        "my_dict = {'name':'salman', 'age': 59,'city': 'mumbai', 45: 'actor'}\n",
        "my_dict[45]\n",
        "\n",
        "\n"
      ],
      "metadata": {
        "colab": {
          "base_uri": "https://localhost:8080/",
          "height": 35
        },
        "id": "XOnnRvGOoBFp",
        "outputId": "8691b811-d967-4249-8a6c-6c672a71eed9"
      },
      "execution_count": 33,
      "outputs": [
        {
          "output_type": "execute_result",
          "data": {
            "text/plain": [
              "'actor'"
            ],
            "application/vnd.google.colaboratory.intrinsic+json": {
              "type": "string"
            }
          },
          "metadata": {},
          "execution_count": 33
        }
      ]
    },
    {
      "cell_type": "code",
      "source": [
        "#9 Can lists contain different data types in Python?\n",
        "\n",
        "# Yes Lists in python can contain different data types and each element can be accessed using indexes and each item/element can also be changed using indexing.\n",
        "\n",
        "my_list = [1,2,3,4.66,7.77,True, False, 'Name_is_Khan', 6+7j, 5+7j]\n",
        "print(my_list)"
      ],
      "metadata": {
        "colab": {
          "base_uri": "https://localhost:8080/"
        },
        "id": "fg2eszePplgM",
        "outputId": "edce6785-7a46-42f2-e706-70e10b0dc92b"
      },
      "execution_count": 34,
      "outputs": [
        {
          "output_type": "stream",
          "name": "stdout",
          "text": [
            "[1, 2, 3, 4.66, 7.77, True, False, 'Name_is_Khan', (6+7j), (5+7j)]\n"
          ]
        }
      ]
    },
    {
      "cell_type": "code",
      "source": [
        "#10 Explain why strings are immutable in Python?\n",
        "\n",
        "String are immutable in\n",
        "\n",
        "my_str = 'Hey my name is Khan and its pleasing to be meeting to you once again'\n",
        "print(my_str[5])\n",
        "my[5]='hey'"
      ],
      "metadata": {
        "colab": {
          "base_uri": "https://localhost:8080/",
          "height": 106
        },
        "id": "AbJ4A_6-qArs",
        "outputId": "088706d9-f9c3-4398-8aba-36bcada1b11d"
      },
      "execution_count": 35,
      "outputs": [
        {
          "output_type": "error",
          "ename": "SyntaxError",
          "evalue": "invalid syntax (ipython-input-35-1873574840.py, line 3)",
          "traceback": [
            "\u001b[0;36m  File \u001b[0;32m\"/tmp/ipython-input-35-1873574840.py\"\u001b[0;36m, line \u001b[0;32m3\u001b[0m\n\u001b[0;31m    String are immutable in\u001b[0m\n\u001b[0m           ^\u001b[0m\n\u001b[0;31mSyntaxError\u001b[0m\u001b[0;31m:\u001b[0m invalid syntax\n"
          ]
        }
      ]
    },
    {
      "cell_type": "code",
      "source": [
        "#11 What advantages do dictionaries offer over lists for certain tasks?\n",
        "\n",
        "# dictionaries store elements in form of key - value pairs and keys are unique so there is only one unique key for each value that allows to easily access\n",
        "# the data without remembering the indexes of the elements to acess them.\n",
        "\n",
        "# if there is any duplicate value for a key then the latest value will be considered.\n",
        "\n",
        "# on the other hand lists are used and preferred when you want to iterate over elements and want ordered sequence.\n",
        "\n",
        "# the retrivel of data is faster in dictionaries than compared to the lists."
      ],
      "metadata": {
        "id": "d6XTDGJxtNs5"
      },
      "execution_count": 36,
      "outputs": []
    },
    {
      "cell_type": "code",
      "source": [
        "#12 Describe a scenario where using a tuple would be preferable over a list\n",
        "\n",
        "# tuple would be more preferable in situations where we dont want anyone to make changes to the elements.\n",
        "# tuples offer the concept of immutability which means elements cannot be modified after definition, wherease lists's elements can be easily modified or changed.\n",
        "\n",
        "# tuple use case would be employee id, social security number, account number, aadhar no.\n",
        "\n"
      ],
      "metadata": {
        "id": "gg93Prlzurrs"
      },
      "execution_count": 37,
      "outputs": []
    },
    {
      "cell_type": "code",
      "source": [
        "#13 How do sets handle duplicate values in Python?\n",
        "\n",
        "# Sets data structure organize and store data in such a manner that only unique elements are allowed, they remove all duplicates and just keep one value.\n",
        "# they are useful when we need to get rid of duplicacy and want only unique and unordered elements.\n",
        "\n",
        "# eg.\n",
        "\n",
        "my_set = {2,4,5,5,5,5,5,6,6,6,6,6,6,6,'salman', 'salman', 'kkhh','kkhh', 6+7j, 6+7j, 5.5, 59}\n",
        "print (my_set)"
      ],
      "metadata": {
        "colab": {
          "base_uri": "https://localhost:8080/"
        },
        "id": "HZMO5JWKvOCn",
        "outputId": "ad48775b-8b03-461f-f45a-3e502ebb72ef"
      },
      "execution_count": 38,
      "outputs": [
        {
          "output_type": "stream",
          "name": "stdout",
          "text": [
            "{2, 4, 5, 5.5, 6, 59, 'salman', 'kkhh', (6+7j)}\n"
          ]
        }
      ]
    },
    {
      "cell_type": "code",
      "source": [
        "#14 How does the “in” keyword work differently for lists and dictionaries?\n",
        "\n",
        "# \"in\" in lists:\n",
        "# it finds out where an element is in present in the list\n",
        "# it returns a boolean value if it is present(TRUE), else (FALSE)\n",
        "# eg:\n",
        "my_list = [2,5,6,'salman', 'hey', 4, 6.7, 6.88, 6+7j]\n",
        "\n",
        "print (6 in my_list)\n",
        "\n",
        "# \"in\" in dictionaries works differntly as it cannot be used for checking values it checks whether a key is present in the dictionaries or not.\n",
        "# if it is present it return TRUE, else FALSE\n",
        "\n",
        "# eg:\n",
        "\n",
        "my_dict = {'name': 'shreya', 6: \"age\", \"shubam\": {'age':5, 'color': 'brown', \"score\": 5859}}\n",
        "print(\"shubham\" in my_dict)\n",
        "\n",
        "\n",
        "\n"
      ],
      "metadata": {
        "colab": {
          "base_uri": "https://localhost:8080/"
        },
        "id": "dE7cLqsXwD13",
        "outputId": "c0c38e07-3f9d-43d2-a587-65032816db4f"
      },
      "execution_count": 39,
      "outputs": [
        {
          "output_type": "stream",
          "name": "stdout",
          "text": [
            "True\n",
            "False\n"
          ]
        }
      ]
    },
    {
      "cell_type": "code",
      "source": [
        "#15  Can you modify the elements of a tuple? Explain why or why not?\n",
        "\n",
        "# NO we cannot modify the elements of the tuples as tuples are immutable and they do not support item assignment.\n",
        "# If we try modifying or changing it will throw errow as\n",
        "# \"item assignemt not supported\"\n",
        "# Tuples are designed in the way that they are fixed and cannot be modified in this way they are safer and cannot be overwritten with values.\n",
        "\n",
        "# eg:\n",
        "\n",
        "my_tuple= (3,5,6,7,7,8,888,8,8,9,9,'salam','kiddish', 6+7j)\n",
        "my_tuple[4] = 66\n"
      ],
      "metadata": {
        "colab": {
          "base_uri": "https://localhost:8080/",
          "height": 176
        },
        "id": "YkCfDiObxSsF",
        "outputId": "595eb162-7e47-4631-c440-62af285ee836"
      },
      "execution_count": 40,
      "outputs": [
        {
          "output_type": "error",
          "ename": "TypeError",
          "evalue": "'tuple' object does not support item assignment",
          "traceback": [
            "\u001b[0;31m---------------------------------------------------------------------------\u001b[0m",
            "\u001b[0;31mTypeError\u001b[0m                                 Traceback (most recent call last)",
            "\u001b[0;32m/tmp/ipython-input-40-1561201041.py\u001b[0m in \u001b[0;36m<cell line: 0>\u001b[0;34m()\u001b[0m\n\u001b[1;32m      9\u001b[0m \u001b[0;34m\u001b[0m\u001b[0m\n\u001b[1;32m     10\u001b[0m \u001b[0mmy_tuple\u001b[0m\u001b[0;34m=\u001b[0m \u001b[0;34m(\u001b[0m\u001b[0;36m3\u001b[0m\u001b[0;34m,\u001b[0m\u001b[0;36m5\u001b[0m\u001b[0;34m,\u001b[0m\u001b[0;36m6\u001b[0m\u001b[0;34m,\u001b[0m\u001b[0;36m7\u001b[0m\u001b[0;34m,\u001b[0m\u001b[0;36m7\u001b[0m\u001b[0;34m,\u001b[0m\u001b[0;36m8\u001b[0m\u001b[0;34m,\u001b[0m\u001b[0;36m888\u001b[0m\u001b[0;34m,\u001b[0m\u001b[0;36m8\u001b[0m\u001b[0;34m,\u001b[0m\u001b[0;36m8\u001b[0m\u001b[0;34m,\u001b[0m\u001b[0;36m9\u001b[0m\u001b[0;34m,\u001b[0m\u001b[0;36m9\u001b[0m\u001b[0;34m,\u001b[0m\u001b[0;34m'salam'\u001b[0m\u001b[0;34m,\u001b[0m\u001b[0;34m'kiddish'\u001b[0m\u001b[0;34m,\u001b[0m \u001b[0;36m6\u001b[0m\u001b[0;34m+\u001b[0m\u001b[0;36m7j\u001b[0m\u001b[0;34m)\u001b[0m\u001b[0;34m\u001b[0m\u001b[0;34m\u001b[0m\u001b[0m\n\u001b[0;32m---> 11\u001b[0;31m \u001b[0mmy_tuple\u001b[0m\u001b[0;34m[\u001b[0m\u001b[0;36m4\u001b[0m\u001b[0;34m]\u001b[0m \u001b[0;34m=\u001b[0m \u001b[0;36m66\u001b[0m\u001b[0;34m\u001b[0m\u001b[0;34m\u001b[0m\u001b[0m\n\u001b[0m",
            "\u001b[0;31mTypeError\u001b[0m: 'tuple' object does not support item assignment"
          ]
        }
      ]
    },
    {
      "cell_type": "code",
      "source": [
        "#16 What is a nested dictionary, and give an example of its use case?\n",
        "\n",
        "# Nested dictionary is where we use a dictionary as a value inside the dictionary, dictionary cannot be used as a key.\n",
        "\n",
        "# eg:\n",
        "\n",
        "student_info= {'Ramesh': {'age': 12, 'class': 5, 'marks':564}, \"Kirti\":{'age': 23, 'class': \"B.Tech\", 'marks':564}, \"sonam\": {'age': 18, 'class': 12, 'marks':600}}\n",
        "\n",
        "print(student_info)"
      ],
      "metadata": {
        "colab": {
          "base_uri": "https://localhost:8080/"
        },
        "id": "PKXfO3Bmxl0i",
        "outputId": "e1196647-692a-4844-e3c9-3e1feb74c805"
      },
      "execution_count": null,
      "outputs": [
        {
          "output_type": "stream",
          "name": "stdout",
          "text": [
            "{'Ramesh': {'age': 12, 'class': 5, 'marks': 564}, 'Kirti': {'age': 23, 'class': 'B.Tech', 'marks': 564}, 'sonam': {'age': 18, 'class': 12, 'marks': 600}}\n"
          ]
        }
      ]
    },
    {
      "cell_type": "code",
      "source": [
        "#17  Describe the time complexity of accessing elements in a dictionary?\n",
        "\n",
        "# Time complexity of accesing elements in dictionary is avg. o(1), that means it takes same time irrespective of the sizr of the dictionary to access the element.\n",
        "# unlike lists that goes through each elements in an iterative way, dictionary allows to directy go to a particular value by using key-value pair.\n",
        "# Thus, it allows faster retrieval of data.\n",
        "\n",
        "# eg.\n",
        "\n",
        "student_info= {'Ramesh': {'age': 12, 'class': 5, 'marks':564}, \"Kirti\":{'age': 23, 'class': \"B.Tech\", 'marks':5iz64}, \"sonam\": {'age': 18, 'class': 12, 'marks':600}}\n",
        "\n",
        "student_info['sonam']"
      ],
      "metadata": {
        "colab": {
          "base_uri": "https://localhost:8080/"
        },
        "id": "oFZxgnniz4ED",
        "outputId": "34877754-c2fd-4215-9dc5-c0f85bebcfea"
      },
      "execution_count": null,
      "outputs": [
        {
          "output_type": "execute_result",
          "data": {
            "text/plain": [
              "{'age': 18, 'class': 12, 'marks': 600}"
            ]
          },
          "metadata": {},
          "execution_count": 11
        }
      ]
    },
    {
      "cell_type": "code",
      "source": [
        "# 18 In what situations are lists preferred over dictionaries?\n",
        "\n",
        "# Lists are preferred over dictionaries where we want to simply access the data using indexes, while in dictionary its complex to write key-value pairs.\n",
        "# Lists allow duplicates elements so we can use it if we want duplicates in the data while dictionary allows only unique keys\n",
        "# Lists have simple sequences\n",
        "# lists can be used to store simple data like lists of fruits, list of students\n",
        "# on the other hand dictionary is used to match key values like menu list item and their prices, students with their respective scores.\n",
        "\n"
      ],
      "metadata": {
        "id": "13HgcsUh9zY3"
      },
      "execution_count": null,
      "outputs": []
    },
    {
      "cell_type": "code",
      "source": [
        "#19 Why are dictionaries considered unordered, and how does that affect data retrieval?\n",
        "\n",
        "# dictionaries are considered unordered as they store  data in form of key - value pairs, for every unique key there is a value\n",
        "# dictionaries do not follow the concept of indexing for data retrieval as it converts and key to their hash values and map them to the location of the values.\n",
        "# so order is not even required in the first place for faster data retrieval we can directly access the value by using the key.\n",
        "\n",
        "# eg.\n",
        "\n",
        "student_info= {'Ramesh': {'age': 12, 'class': 5, 'marks':564}, \"Kirti\":{'age': 23, 'class': \"B.Tech\", 'marks':64}, \"sonam\": {'age': 18, 'class': 12, 'marks':600}}\n",
        "print(student_info)\n",
        "student_info['Kirti']\n",
        "\n"
      ],
      "metadata": {
        "colab": {
          "base_uri": "https://localhost:8080/"
        },
        "id": "WHt3VI-3_2cw",
        "outputId": "b9afbed9-61ab-40c2-b091-4ce6116bc81b"
      },
      "execution_count": 23,
      "outputs": [
        {
          "output_type": "stream",
          "name": "stdout",
          "text": [
            "{'Ramesh': {'age': 12, 'class': 5, 'marks': 564}, 'Kirti': {'age': 23, 'class': 'B.Tech', 'marks': 64}, 'sonam': {'age': 18, 'class': 12, 'marks': 600}}\n"
          ]
        },
        {
          "output_type": "execute_result",
          "data": {
            "text/plain": [
              "{'age': 23, 'class': 'B.Tech', 'marks': 64}"
            ]
          },
          "metadata": {},
          "execution_count": 23
        }
      ]
    },
    {
      "cell_type": "code",
      "source": [
        "#20 Explain the difference between a list and a dictionary in terms of data retrieval.\n",
        "\n",
        "# lists:\n",
        "# data retrieval in lists is done using indexing we make use of indexes starting from 0 to n-1 , n denotes length of list\n",
        "# the data retrieval is slower the loop iterates from start ie. 0 index.\n",
        "\n",
        "# eg:\n",
        "my_list=[3,4,5,6,6,7,7,7,7,'sonam', 'heer', 4+7j]\n",
        "\n",
        "print (my_list[-1])  # accessing the last element indexing starting from -1,-2..........\n",
        "\n",
        "# dictionary:\n",
        "# data retrieval in dictionary is done using key value pairs where each unique key gives value corresponding to that key, this method is more effient and allows faster data retrieval.\n",
        "# Thus, faster retrieval of data as it directly goes to the value associated with the particular key instead of going in iteration like in indexing.\n",
        "# eg:\n",
        "student_info= {'Ramesh': {'age': 12, 'class': 5, 'marks':564}, \"Kirti\":{'age': 23, 'class': \"B.Tech\", 'marks':64}, \"sonam\": {'age': 18, 'class': 12, 'marks':600}}\n",
        "student_info['Kirti'] #accessing the value associated with unique key \"Kirti\", its more direct and faster"
      ],
      "metadata": {
        "colab": {
          "base_uri": "https://localhost:8080/"
        },
        "id": "LqM2D9cpBuey",
        "outputId": "57d9285a-8249-4830-ca74-66feaa6c050c"
      },
      "execution_count": 28,
      "outputs": [
        {
          "output_type": "stream",
          "name": "stdout",
          "text": [
            "(4+7j)\n"
          ]
        },
        {
          "output_type": "execute_result",
          "data": {
            "text/plain": [
              "{'age': 23, 'class': 'B.Tech', 'marks': 64}"
            ]
          },
          "metadata": {},
          "execution_count": 28
        }
      ]
    },
    {
      "cell_type": "markdown",
      "source": [],
      "metadata": {
        "id": "CiRwNqYdxlhW"
      }
    },
    {
      "cell_type": "markdown",
      "source": [
        "**PRACTICAL QUESTIONS**"
      ],
      "metadata": {
        "id": "OFMBc1awV0xt"
      }
    },
    {
      "cell_type": "code",
      "source": [
        "#1 Write a code to create a string with your name and print it\n",
        "my_name = input(\"enter name\")\n",
        "name = my_name\n",
        "print(\"My name is\" , name)\n",
        "\n"
      ],
      "metadata": {
        "colab": {
          "base_uri": "https://localhost:8080/"
        },
        "id": "se_0on-fVtom",
        "outputId": "e7f0e7e7-a87c-4aeb-a839-6efbe1d397a0"
      },
      "execution_count": null,
      "outputs": [
        {
          "output_type": "stream",
          "name": "stdout",
          "text": [
            "enter namesalman\n",
            "My name is salman\n"
          ]
        }
      ]
    },
    {
      "cell_type": "code",
      "source": [
        "#2 Write a code to find the length of the string \"Hello World\".\n",
        "\n",
        "message = 'Hello World'\n",
        "len(message)"
      ],
      "metadata": {
        "colab": {
          "base_uri": "https://localhost:8080/"
        },
        "id": "1YdLhxzCWO2Q",
        "outputId": "c163c3fc-8aa6-4d2f-b642-7fd3fe5aba1b"
      },
      "execution_count": null,
      "outputs": [
        {
          "output_type": "execute_result",
          "data": {
            "text/plain": [
              "11"
            ]
          },
          "metadata": {},
          "execution_count": 9
        }
      ]
    },
    {
      "cell_type": "code",
      "source": [
        "#3 Write a code to slice the first 3 characters from the string \"Python Programming\"\n",
        "\n",
        "str = \"Python Programming\"\n",
        "str[:3]"
      ],
      "metadata": {
        "colab": {
          "base_uri": "https://localhost:8080/",
          "height": 36
        },
        "id": "l06W98ArW5wJ",
        "outputId": "7c1a4f86-2904-45d6-ef0b-39370907caef"
      },
      "execution_count": null,
      "outputs": [
        {
          "output_type": "execute_result",
          "data": {
            "text/plain": [
              "'Pyt'"
            ],
            "application/vnd.google.colaboratory.intrinsic+json": {
              "type": "string"
            }
          },
          "metadata": {},
          "execution_count": 21
        }
      ]
    },
    {
      "cell_type": "code",
      "source": [
        "#4  Write a code to convert the string \"hello\" to uppercase.\n",
        "\n",
        "str = \"hello\"\n",
        "str.upper()"
      ],
      "metadata": {
        "colab": {
          "base_uri": "https://localhost:8080/",
          "height": 36
        },
        "id": "191rk-gtXLCY",
        "outputId": "5043ce60-4c31-42c0-a7a5-9c9d2befc50c"
      },
      "execution_count": null,
      "outputs": [
        {
          "output_type": "execute_result",
          "data": {
            "text/plain": [
              "'HELLO'"
            ],
            "application/vnd.google.colaboratory.intrinsic+json": {
              "type": "string"
            }
          },
          "metadata": {},
          "execution_count": 20
        }
      ]
    },
    {
      "cell_type": "code",
      "source": [
        "#5 Write a code to replace the word \"apple\" with \"orange\" in the string \"I like apple\"\n",
        "str = \"I like apple\"\n",
        "str.replace(\"apple\", \"orange\")\n",
        "\n"
      ],
      "metadata": {
        "colab": {
          "base_uri": "https://localhost:8080/",
          "height": 36
        },
        "id": "Cg59Hjb3XWlF",
        "outputId": "3bd4ddee-6df4-4233-9027-7ecc89d9c590"
      },
      "execution_count": null,
      "outputs": [
        {
          "output_type": "execute_result",
          "data": {
            "text/plain": [
              "'I like orange'"
            ],
            "application/vnd.google.colaboratory.intrinsic+json": {
              "type": "string"
            }
          },
          "metadata": {},
          "execution_count": 25
        }
      ]
    },
    {
      "cell_type": "code",
      "source": [
        "#6 Write a code to create a list with numbers 1 to 5 and print it\n",
        "my_list = [1,2,3,4,5]\n",
        "# for i in my_list:\n",
        "#   print(i, end =\" \")\n",
        "print (my_list)\n",
        "\n"
      ],
      "metadata": {
        "colab": {
          "base_uri": "https://localhost:8080/"
        },
        "id": "FQ8Dzvt-YO5q",
        "outputId": "13e9cb4c-d671-4687-9da1-44167329560a"
      },
      "execution_count": null,
      "outputs": [
        {
          "output_type": "stream",
          "name": "stdout",
          "text": [
            "[1, 2, 3, 4, 5]\n"
          ]
        }
      ]
    },
    {
      "cell_type": "code",
      "source": [
        "#7 Write a code to append the number 10 to the list [1, 2, 3, 4]\n",
        "my_list = [1, 2, 3, 4]\n",
        "my_list.append(10)\n",
        "print(my_list)"
      ],
      "metadata": {
        "colab": {
          "base_uri": "https://localhost:8080/"
        },
        "id": "XiWwGaxDYkwg",
        "outputId": "6af8d786-3fb6-4af2-cb44-464b6be7bb5a"
      },
      "execution_count": null,
      "outputs": [
        {
          "output_type": "stream",
          "name": "stdout",
          "text": [
            "[1, 2, 3, 4, 10]\n"
          ]
        }
      ]
    },
    {
      "cell_type": "code",
      "source": [
        "#8 Write a code to remove the number 3 from the list [1, 2, 3, 4, 5]\n",
        "my_list = [1, 2, 3, 4, 5]\n",
        "my_list.remove(3)\n",
        "print(my_list)\n",
        "\n",
        "# other way\n",
        "# my_list.pop(2)\n",
        "# print(my_list)"
      ],
      "metadata": {
        "colab": {
          "base_uri": "https://localhost:8080/"
        },
        "id": "5ALKPd1cZP8u",
        "outputId": "071e719a-b874-4ccb-f0a0-387aaaa9c011"
      },
      "execution_count": null,
      "outputs": [
        {
          "output_type": "stream",
          "name": "stdout",
          "text": [
            "[1, 2, 4, 5]\n"
          ]
        }
      ]
    },
    {
      "cell_type": "code",
      "source": [
        "#9 Write a code to access the second element in the list ['a', 'b', 'c', 'd']\n",
        "my_list = ['a', 'b', 'c', 'd']\n",
        "my_list[1]"
      ],
      "metadata": {
        "colab": {
          "base_uri": "https://localhost:8080/",
          "height": 36
        },
        "id": "q9nZ-hpeZVoo",
        "outputId": "0a4dc70b-c8e8-4020-c2e8-3cc914948f2d"
      },
      "execution_count": null,
      "outputs": [
        {
          "output_type": "execute_result",
          "data": {
            "text/plain": [
              "'b'"
            ],
            "application/vnd.google.colaboratory.intrinsic+json": {
              "type": "string"
            }
          },
          "metadata": {},
          "execution_count": 42
        }
      ]
    },
    {
      "cell_type": "code",
      "source": [
        "#10 Write a code to reverse the list [10, 20, 30, 40, 50]\n",
        "my_list = [10, 20, 30, 40, 50]\n",
        "reversed_list= my_list[::-1]\n",
        "print(reversed_list)\n"
      ],
      "metadata": {
        "colab": {
          "base_uri": "https://localhost:8080/"
        },
        "id": "J6osh8E_aGpM",
        "outputId": "5c936514-ca40-4b41-9004-48074ab9bf60"
      },
      "execution_count": null,
      "outputs": [
        {
          "output_type": "stream",
          "name": "stdout",
          "text": [
            "[50, 40, 30, 20, 10]\n"
          ]
        }
      ]
    },
    {
      "cell_type": "code",
      "source": [
        "#11 Write a code to create a tuple with the elements 100, 200, 300 and print it.\n",
        "my_tuple = (100, 200, 300)\n",
        "print(my_tuple)"
      ],
      "metadata": {
        "colab": {
          "base_uri": "https://localhost:8080/"
        },
        "id": "iwK4H0bsaK21",
        "outputId": "5dea85f3-8067-4f74-b140-66304c6e547a"
      },
      "execution_count": null,
      "outputs": [
        {
          "output_type": "stream",
          "name": "stdout",
          "text": [
            "(100, 200, 300)\n"
          ]
        }
      ]
    },
    {
      "cell_type": "code",
      "source": [
        "#12 Write a code to access the second-to-last element of the tuple ('red', 'green', 'blue', 'yellow').\n",
        "my_tuple = ('red', 'green', 'blue', 'yellow')\n",
        "my_tuple[-2]"
      ],
      "metadata": {
        "colab": {
          "base_uri": "https://localhost:8080/",
          "height": 36
        },
        "id": "DQlHQOZPanyo",
        "outputId": "94a7454f-e459-4936-bba5-aab2c4517b47"
      },
      "execution_count": null,
      "outputs": [
        {
          "output_type": "execute_result",
          "data": {
            "text/plain": [
              "'blue'"
            ],
            "application/vnd.google.colaboratory.intrinsic+json": {
              "type": "string"
            }
          },
          "metadata": {},
          "execution_count": 50
        }
      ]
    },
    {
      "cell_type": "code",
      "source": [
        "#13 Write a code to find the minimum number in the tuple (10, 20, 5, 15).\n",
        "my_tuple = (10, 20, 5, 15)\n",
        "min(my_tuple)"
      ],
      "metadata": {
        "colab": {
          "base_uri": "https://localhost:8080/"
        },
        "id": "Z7U3rXEJa1di",
        "outputId": "2eb2a111-7696-407b-f093-5e9653429024"
      },
      "execution_count": null,
      "outputs": [
        {
          "output_type": "execute_result",
          "data": {
            "text/plain": [
              "5"
            ]
          },
          "metadata": {},
          "execution_count": 53
        }
      ]
    },
    {
      "cell_type": "code",
      "source": [
        "#14 Write a code to find the index of the element \"cat\" in the tuple ('dog', 'cat', 'rabbit')\n",
        "my_tuple = ('dog', 'cat', 'rabbit')\n",
        "my_tuple.index('cat')"
      ],
      "metadata": {
        "colab": {
          "base_uri": "https://localhost:8080/"
        },
        "id": "X5sm7poGbB7p",
        "outputId": "59e20709-3e60-4287-eb1f-e8d64de57a8c"
      },
      "execution_count": null,
      "outputs": [
        {
          "output_type": "execute_result",
          "data": {
            "text/plain": [
              "1"
            ]
          },
          "metadata": {},
          "execution_count": 54
        }
      ]
    },
    {
      "cell_type": "code",
      "source": [
        "#15 Write a code to create a tuple containing three different fruits and check if \"kiwi\" is in it\n",
        "fruits_list = ('apple', 'banana', 'blueberry')\n",
        "\"kiwi\" in fruits_list\n",
        "\n"
      ],
      "metadata": {
        "colab": {
          "base_uri": "https://localhost:8080/"
        },
        "id": "smJLtbYJbX0h",
        "outputId": "b2915abc-d15d-4e32-b65a-eb5a80093d72"
      },
      "execution_count": null,
      "outputs": [
        {
          "output_type": "execute_result",
          "data": {
            "text/plain": [
              "False"
            ]
          },
          "metadata": {},
          "execution_count": 75
        }
      ]
    },
    {
      "cell_type": "code",
      "source": [
        "#16 Write a code to create a set with the elements 'a', 'b', 'c' and print it.\n",
        "my_set = {'a', 'b', 'c'}\n",
        "type(my_set)\n",
        "print(my_set)"
      ],
      "metadata": {
        "colab": {
          "base_uri": "https://localhost:8080/"
        },
        "id": "ZMf5r4WYbl4e",
        "outputId": "09c20e2e-e36b-4b6d-f71a-04501bfeea27"
      },
      "execution_count": null,
      "outputs": [
        {
          "output_type": "stream",
          "name": "stdout",
          "text": [
            "{'c', 'a', 'b'}\n"
          ]
        }
      ]
    },
    {
      "cell_type": "code",
      "source": [
        "#17 Write a code to clear all elements from the set {1, 2, 3, 4, 5}\n",
        "my_set= {1, 2, 3, 4, 5}\n",
        "my_set.clear()\n",
        "print(my_set)\n"
      ],
      "metadata": {
        "colab": {
          "base_uri": "https://localhost:8080/"
        },
        "id": "1NotyKk1bc9U",
        "outputId": "d4859a14-a9ac-4410-ca70-e3aec2288408"
      },
      "execution_count": null,
      "outputs": [
        {
          "output_type": "stream",
          "name": "stdout",
          "text": [
            "set()\n"
          ]
        }
      ]
    },
    {
      "cell_type": "code",
      "source": [
        "#18  Write a code to remove the element 4 from the set {1, 2, 3, 4}\n",
        "my_set= {1, 2, 3, 4}\n",
        "my_set.remove(4)\n",
        "print(my_set)"
      ],
      "metadata": {
        "colab": {
          "base_uri": "https://localhost:8080/"
        },
        "id": "lRBAWDMseTOi",
        "outputId": "9508ea22-fdc3-458f-bc19-69fc0bb4d693"
      },
      "execution_count": null,
      "outputs": [
        {
          "output_type": "stream",
          "name": "stdout",
          "text": [
            "{1, 2, 3}\n"
          ]
        }
      ]
    },
    {
      "cell_type": "code",
      "source": [
        "#19 Write a code to find the union of two sets {1, 2, 3} and {3, 4, 5}.\n",
        "set1= {1, 2, 3}\n",
        "set2= {3, 4, 5}\n",
        "set1 | set2"
      ],
      "metadata": {
        "colab": {
          "base_uri": "https://localhost:8080/"
        },
        "id": "YUB5lilyjW23",
        "outputId": "ef944984-be87-4803-c0af-d2bd2ba585c7"
      },
      "execution_count": null,
      "outputs": [
        {
          "output_type": "execute_result",
          "data": {
            "text/plain": [
              "{1, 2, 3, 4, 5}"
            ]
          },
          "metadata": {},
          "execution_count": 100
        }
      ]
    },
    {
      "cell_type": "code",
      "source": [
        "#20 Write a code to find the intersection of two sets {1, 2, 3} and {2, 3, 4}.\n",
        "set1= {1, 2, 3}\n",
        "set2= {2, 3, 4}\n",
        "set1 & set2"
      ],
      "metadata": {
        "colab": {
          "base_uri": "https://localhost:8080/"
        },
        "id": "181bjoc8jqej",
        "outputId": "2b0f1f4a-900b-4e88-cf83-cd9df43882b6"
      },
      "execution_count": null,
      "outputs": [
        {
          "output_type": "execute_result",
          "data": {
            "text/plain": [
              "{2, 3}"
            ]
          },
          "metadata": {},
          "execution_count": 101
        }
      ]
    },
    {
      "cell_type": "code",
      "source": [
        "#21 Write a code to create a dictionary with the keys \"name\", \"age\", and \"city\", and print it\n",
        "my_dict = {\"name\": \"salman khan\", \"age\": 58 , \"city\": \"Mumbai\"}\n",
        "print(my_dict)"
      ],
      "metadata": {
        "colab": {
          "base_uri": "https://localhost:8080/"
        },
        "id": "cS_dvN0JkIDB",
        "outputId": "fc867d2f-27e6-49c7-ff08-ec733456eb0d"
      },
      "execution_count": null,
      "outputs": [
        {
          "output_type": "stream",
          "name": "stdout",
          "text": [
            "{'name': 'salman khan', 'age': 58, 'city': 'Mumbai'}\n"
          ]
        }
      ]
    },
    {
      "cell_type": "code",
      "source": [
        "#22 Write a code to add a new key-value pair \"country\": \"USA\" to the dictionary {'name': 'John', 'age': 25}\n",
        "my_dict = {'name': 'John', 'age': 25}\n",
        "my_dict[\"country\"]=\"USA\"\n",
        "print(my_dict)"
      ],
      "metadata": {
        "colab": {
          "base_uri": "https://localhost:8080/"
        },
        "id": "w5sOwaE8kWXv",
        "outputId": "68ba452f-a0e8-4261-dde7-3077c63d9832"
      },
      "execution_count": null,
      "outputs": [
        {
          "output_type": "stream",
          "name": "stdout",
          "text": [
            "{'name': 'John', 'age': 25, 'country': 'USA'}\n"
          ]
        }
      ]
    },
    {
      "cell_type": "code",
      "source": [
        "#23 Write a code to access the value associated with the key \"name\" in the dictionary {'name': 'Alice', 'age': 30}.\n",
        "\n",
        "my_dict = {'name': 'Alice', 'age': 30}\n",
        "print(my_dict[\"name\"])"
      ],
      "metadata": {
        "colab": {
          "base_uri": "https://localhost:8080/"
        },
        "id": "DtsG7ELdlADK",
        "outputId": "71fa122b-97ad-4fc8-fbed-7e7e8affbc3b"
      },
      "execution_count": null,
      "outputs": [
        {
          "output_type": "stream",
          "name": "stdout",
          "text": [
            "Alice\n"
          ]
        }
      ]
    },
    {
      "cell_type": "code",
      "source": [
        "#24  Write a code to remove the key \"age\" from the dictionary {'name': 'Bob', 'age': 22, 'city': 'New York'}\n",
        "my_dict = {'name': 'Bob', 'age': 22, 'city': 'New York'}\n",
        "del my_dict[\"age\"]\n",
        "print(my_dict)"
      ],
      "metadata": {
        "colab": {
          "base_uri": "https://localhost:8080/"
        },
        "id": "o3rcwkHIlocX",
        "outputId": "89d0d647-7ae6-4d1a-8f71-ff2c5848ba52"
      },
      "execution_count": null,
      "outputs": [
        {
          "output_type": "stream",
          "name": "stdout",
          "text": [
            "{'name': 'Bob', 'city': 'New York'}\n"
          ]
        }
      ]
    },
    {
      "cell_type": "code",
      "source": [
        "#25. Write a code to check if the key \"city\" exists in the dictionary {'name': 'Alice', 'city': 'Paris'}\n",
        "my_dict = {'name': 'Alice', 'city': 'Paris'}\n",
        "\"city\" in my_dict.keys()"
      ],
      "metadata": {
        "colab": {
          "base_uri": "https://localhost:8080/"
        },
        "id": "c-ODzyNalznr",
        "outputId": "31568b80-2800-4543-c287-b994c71a664d"
      },
      "execution_count": null,
      "outputs": [
        {
          "output_type": "execute_result",
          "data": {
            "text/plain": [
              "True"
            ]
          },
          "metadata": {},
          "execution_count": 115
        }
      ]
    },
    {
      "cell_type": "code",
      "source": [
        "#26 Write a code to create a list, a tuple, and a dictionary, and print them all.\n",
        "my_list = [1,2,True, 4+7j, 4.555, 'ram','prem','kirti',5,5,7]\n",
        "my_tuple =(2,4,False, 5+5j, 4,5, 6.7,866,'delhi','mumbai')\n",
        "my_dict = {\"age\": 34, 'city': 'delhi', 'education': \"MBA\", 'price': \"check_menu\"}\n",
        "print(my_list)\n",
        "print(my_tuple)\n",
        "print(my_dict)"
      ],
      "metadata": {
        "colab": {
          "base_uri": "https://localhost:8080/"
        },
        "id": "t1PyI-KZmn4K",
        "outputId": "337130d5-5566-4d9d-bc85-9674d7e186fd"
      },
      "execution_count": null,
      "outputs": [
        {
          "output_type": "stream",
          "name": "stdout",
          "text": [
            "[1, 2, True, (4+7j), 4.555, 'ram', 'prem', 'kirti', 5, 5, 7]\n",
            "(2, 4, False, (5+5j), 4, 5, 6.7, 866, 'delhi', 'mumbai')\n",
            "{'age': 34, 'city': 'delhi', 'education': 'MBA', 'price': 'check_menu'}\n"
          ]
        }
      ]
    },
    {
      "cell_type": "code",
      "source": [
        "#27 Write a code to create a list of 5 random numbers between 1 and 100, sort it in ascending order, and print the result.(replaced)\n",
        "import random\n",
        "my_list = [random.randint(1,100) for i in range(5)]\n",
        "my_list.sort()\n",
        "print(my_list)"
      ],
      "metadata": {
        "colab": {
          "base_uri": "https://localhost:8080/"
        },
        "id": "SelQ6khenTrJ",
        "outputId": "361ccb6b-72e7-4696-e520-181c776a62ea"
      },
      "execution_count": null,
      "outputs": [
        {
          "output_type": "stream",
          "name": "stdout",
          "text": [
            "[10, 30, 31, 58, 92]\n"
          ]
        }
      ]
    },
    {
      "cell_type": "code",
      "source": [
        "#28 Write a code to create a list with strings and print the element at the third index.\n",
        "my_list= ['string0','string1','string2','string3','string4','string5','string6']\n",
        "print(my_list[2])"
      ],
      "metadata": {
        "colab": {
          "base_uri": "https://localhost:8080/"
        },
        "id": "u6Q9N2-zoqfl",
        "outputId": "40be1ca3-cd34-44bc-d794-c83d45f9c173"
      },
      "execution_count": null,
      "outputs": [
        {
          "output_type": "stream",
          "name": "stdout",
          "text": [
            "string2\n"
          ]
        }
      ]
    },
    {
      "cell_type": "code",
      "source": [
        "#29 Write a code to combine two dictionaries into one and print the result.\n",
        "\n",
        "dict1 ={'Salman': {'age':59, \"color\":\"wheat\", \"profession\": \"being_human\", \"ranking\":1},\n",
        "        \"shahrukh\":{'age':59, \"color\":\"brown\", \"profession\": \"businessman\", \"ranking\":3},\n",
        "        \"aamir\": {'age':60, \"color\":\"white\", \"profession\": \"social_worker\", \"ranking\":2}}\n",
        "dict2={'city':'mumbai', 'identity':'celebrities_top3',\"nickname\":[\"bhaijaan\", 'srk', 'perfectionalist']}\n",
        "dict1.update(dict2)\n",
        "print(dict1)\n"
      ],
      "metadata": {
        "colab": {
          "base_uri": "https://localhost:8080/"
        },
        "id": "ntKV44A6rtUm",
        "outputId": "c6e2656b-5afd-4f32-cbc4-00bfe074161f"
      },
      "execution_count": null,
      "outputs": [
        {
          "output_type": "stream",
          "name": "stdout",
          "text": [
            "{'Salman': {'age': 59, 'color': 'wheat', 'profession': 'being_human', 'ranking': 1}, 'shahrukh': {'age': 59, 'color': 'brown', 'profession': 'businessman', 'ranking': 3}, 'aamir': {'age': 60, 'color': 'white', 'profession': 'social_worker', 'ranking': 2}, 'city': 'mumbai', 'identity': 'celebrities_top3', 'nickname': ['bhaijaan', 'srk', 'perfectionalist']}\n"
          ]
        }
      ]
    },
    {
      "cell_type": "code",
      "source": [
        "#30 Write a code to convert a list of strings into a set.\n",
        "\n",
        "my_list=['true','hey_nana','enchanted', 'kids', 'enchanted']\n",
        "my_list= set(my_list)\n",
        "print(my_list)"
      ],
      "metadata": {
        "colab": {
          "base_uri": "https://localhost:8080/"
        },
        "id": "3BvpA8KcteaI",
        "outputId": "e16a26cd-0973-4991-fb01-9f00be826020"
      },
      "execution_count": null,
      "outputs": [
        {
          "output_type": "stream",
          "name": "stdout",
          "text": [
            "{'hey_nana', 'kids', 'true', 'enchanted'}\n"
          ]
        }
      ]
    },
    {
      "cell_type": "code",
      "source": [],
      "metadata": {
        "id": "1OfVJkjZvsM5"
      },
      "execution_count": null,
      "outputs": []
    }
  ]
}